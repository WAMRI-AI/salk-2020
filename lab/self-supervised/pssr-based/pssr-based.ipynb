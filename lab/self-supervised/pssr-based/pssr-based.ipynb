{
 "cells": [
  {
   "cell_type": "code",
   "execution_count": 1,
   "metadata": {},
   "outputs": [],
   "source": [
    "gpu_id = 1\n",
    "train_date = '6.2'\n",
    "critic_type = 'c'"
   ]
  },
  {
   "cell_type": "code",
   "execution_count": 2,
   "metadata": {},
   "outputs": [],
   "source": [
    "%reload_ext autoreload\n",
    "%autoreload 2"
   ]
  },
  {
   "cell_type": "code",
   "execution_count": 3,
   "metadata": {},
   "outputs": [],
   "source": [
    "import sys\n",
    "sys.path.append('../../../model')\n",
    "sys.path.append('../../../data')\n",
    "from fastai import *\n",
    "from fastai.vision import *\n",
    "from fastai.callbacks import *\n",
    "from load import get_data, get_patched_data, subsample\n",
    "from utils import custom_cutout\n",
    "from metrics import psnr, ssim\n",
    "import losses\n",
    "from clr import *"
   ]
  },
  {
   "cell_type": "code",
   "execution_count": 4,
   "metadata": {},
   "outputs": [],
   "source": [
    "# Basic Setup\n",
    "torch.cuda.set_device(gpu_id)\n",
    "data_pth = Path('/home/alaa/Dropbox/BPHO Staff/USF/')\n",
    "lr_path = f'EM/training/trainsets/lr/'\n",
    "hr_path = f'EM/training/trainsets/hr/'\n",
    "model_pth = data_pth/f'EM/models/'"
   ]
  },
  {
   "cell_type": "markdown",
   "metadata": {},
   "source": [
    "# Resnet Feature loss"
   ]
  },
  {
   "cell_type": "code",
   "execution_count": 5,
   "metadata": {},
   "outputs": [],
   "source": [
    "bs = 8\n",
    "size = 512\n",
    "superres_metrics = [F.mse_loss, psnr, ssim]"
   ]
  },
  {
   "cell_type": "code",
   "execution_count": 6,
   "metadata": {},
   "outputs": [],
   "source": [
    "def inpaint_data(bs, size):\n",
    "    random_patch = partial(custom_cutout, min_n_holes=10, max_n_holes=20,\n",
    "                           min_length=15, max_length=25, use_on_y=False)\n",
    "    tfms = [[random_patch()], [random_patch()]]\n",
    "    data = get_patched_data(data_pth, hr_path, bs, tfms=tfms,\n",
    "                            in_sz=size, out_sz=size)\n",
    "    return data\n",
    "\n",
    "def clr_data(bs, size):\n",
    "    random_patch = partial(custom_cutout, min_n_holes=10, max_n_holes=20,\n",
    "                       min_length=5, max_length=10, use_on_y=False)\n",
    "    patch_tfms = [random_patch()]\n",
    "    # Create databunch\n",
    "    data = get_clr_data(data_pth, hr_dir=hr_path, bs=bs, xtra_tfms=patch_tfms,\n",
    "                        in_sz=size, out_sz=size)\n",
    "    return data\n",
    "\n",
    "def pssr_data(bs, size):\n",
    "    return get_data(data_pth=data_pth, lr_dir=lr_path, hr_dir=hr_path,\n",
    "            bs=bs, in_sz=size, out_sz=size, max_zoom=2.)"
   ]
  },
  {
   "cell_type": "code",
   "execution_count": 7,
   "metadata": {},
   "outputs": [],
   "source": [
    "base_model = 'baselines/emsynth_005_unet.5'\n",
    "critic_dict = {\n",
    "    'i': ['self_sv/inpainting/critic_inpaint_best', inpaint_data],\n",
    "    's': [base_model, pssr_data]\n",
    "}"
   ]
  },
  {
   "cell_type": "code",
   "execution_count": null,
   "metadata": {},
   "outputs": [],
   "source": [
    "if critic_type=='c':\n",
    "    critic_data = clr_data(bs, size)\n",
    "    critic = get_clr_learner(gpu_id, critic_data, model_pth)\n",
    "    gc.collect()\n",
    "    critic_model = 'self_sv/contrastive/critic-clr.4b'\n",
    "    critic.load(critic_model)\n",
    "    encoder = critic.model.encoder.eval().cuda()\n",
    "else:\n",
    "    critic_model, _critic_data = critic_dict[critic_type]\n",
    "    critic_data = _critic_data(bs, size)\n",
    "    critic_arch = models.resnet34\n",
    "    wd = 1e-3\n",
    "    critic = unet_learner(critic_data, critic_arch, wd=wd,\n",
    "                             loss_func=F.mse_loss,\n",
    "                             metrics=superres_metrics,\n",
    "                             blur=True,\n",
    "                             norm_type=NormType.Weight,\n",
    "                             model_dir=model_pth)\n",
    "    gc.collect()\n",
    "    critic.load(critic_model)\n",
    "    encoder = critic.model.eval().cuda()[0]\n",
    "\n",
    "print(f'Critic loaded: {critic_model}')"
   ]
  },
  {
   "cell_type": "code",
   "execution_count": null,
   "metadata": {},
   "outputs": [],
   "source": [
    "feature_maps = losses.find_layers(flatten_model(encoder))\n",
    "num_layers = len(feature_maps)\n",
    "feat_loss = losses.FeatureLoss(m_feat=encoder, layer_wgts=[1/num_layers for _ in range(num_layers)])"
   ]
  },
  {
   "cell_type": "markdown",
   "metadata": {},
   "source": [
    "# PSSR Loading"
   ]
  },
  {
   "cell_type": "code",
   "execution_count": null,
   "metadata": {},
   "outputs": [],
   "source": [
    "# Training\n",
    "arch = models.resnet34\n",
    "wd = 1e-3"
   ]
  },
  {
   "cell_type": "code",
   "execution_count": null,
   "metadata": {},
   "outputs": [],
   "source": [
    "learn_model, _learn_data = critic_dict['s']\n",
    "learn_data = _learn_data(bs, size)\n",
    "learn = unet_learner(learn_data, arch, wd=wd,\n",
    "                                 loss_func=feat_loss,\n",
    "                                 metrics=superres_metrics,\n",
    "                                 blur=True,\n",
    "                                 norm_type=NormType.Weight,\n",
    "                                 model_dir=model_pth)\n",
    "learn.load(learn_model)"
   ]
  },
  {
   "cell_type": "code",
   "execution_count": null,
   "metadata": {},
   "outputs": [],
   "source": [
    "learn.model_dir = model_pth/'self_sv/pssr_based'"
   ]
  },
  {
   "cell_type": "code",
   "execution_count": null,
   "metadata": {},
   "outputs": [],
   "source": [
    "lr = 1e-3"
   ]
  },
  {
   "cell_type": "code",
   "execution_count": null,
   "metadata": {},
   "outputs": [],
   "source": [
    "def do_fit(save_name, lrs=slice(lr), pct_start=0.9, cycle_len=10):\n",
    "    learn.fit_one_cycle(cycle_len, lrs, pct_start=pct_start)\n",
    "    learn.save(save_name)\n",
    "    print(f'Model saved: {save_name}')\n",
    "#     num_rows = min(learn.data.batch_size, 3)\n",
    "#     learn.show_results(rows=num_rows, imgsize=5)"
   ]
  },
  {
   "cell_type": "code",
   "execution_count": null,
   "metadata": {},
   "outputs": [],
   "source": [
    "critic_names = {\n",
    "    'c': 'contrastive',\n",
    "    'i': 'inpaint',\n",
    "    's': 'self-critic'\n",
    "}"
   ]
  },
  {
   "cell_type": "code",
   "execution_count": null,
   "metadata": {},
   "outputs": [],
   "source": [
    "save_name = train_date + '_' + critic_names[critic_type]"
   ]
  },
  {
   "cell_type": "code",
   "execution_count": null,
   "metadata": {},
   "outputs": [],
   "source": [
    "learn.data = subsample(learn.data)"
   ]
  },
  {
   "cell_type": "code",
   "execution_count": null,
   "metadata": {},
   "outputs": [],
   "source": [
    "do_fit(f'{save_name}.1a', lr, cycle_len=3)\n",
    "learn.unfreeze()\n",
    "do_fit(f'{save_name}.1b', slice(1e-5,lr/10), cycle_len=3)"
   ]
  },
  {
   "cell_type": "code",
   "execution_count": null,
   "metadata": {},
   "outputs": [],
   "source": []
  }
 ],
 "metadata": {
  "kernelspec": {
   "display_name": "Python (Salk)",
   "language": "python",
   "name": "salk"
  },
  "language_info": {
   "codemirror_mode": {
    "name": "ipython",
    "version": 3
   },
   "file_extension": ".py",
   "mimetype": "text/x-python",
   "name": "python",
   "nbconvert_exporter": "python",
   "pygments_lexer": "ipython3",
   "version": "3.7.3"
  }
 },
 "nbformat": 4,
 "nbformat_minor": 2
}
