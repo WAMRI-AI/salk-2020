{
 "cells": [
  {
   "cell_type": "code",
   "execution_count": 1,
   "metadata": {},
   "outputs": [],
   "source": [
    "from PIL import Image\n",
    "from pathlib import Path\n",
    "import numpy as np\n",
    "import matplotlib.pyplot as plt\n",
    "import PIL\n",
    "from skimage.measure import compare_psnr, compare_ssim"
   ]
  },
  {
   "cell_type": "code",
   "execution_count": 2,
   "metadata": {},
   "outputs": [],
   "source": [
    "import skimage"
   ]
  },
  {
   "cell_type": "code",
   "execution_count": 3,
   "metadata": {},
   "outputs": [
    {
     "data": {
      "text/html": [
       "<style>.container { width:100% !important; }</style>"
      ],
      "text/plain": [
       "<IPython.core.display.HTML object>"
      ]
     },
     "metadata": {},
     "output_type": "display_data"
    }
   ],
   "source": [
    "import ipywidgets as widgets\n",
    "from ipywidgets import interact, interact_manual\n",
    "from IPython.core.display import display, HTML\n",
    "display(HTML(\"<style>.container { width:100% !important; }</style>\"))\n",
    "np.set_printoptions(linewidth=110)"
   ]
  },
  {
   "cell_type": "code",
   "execution_count": 4,
   "metadata": {},
   "outputs": [],
   "source": [
    "def visualize_sample(lr_files, target_files, files, sample):\n",
    "    targ_im = PIL.Image.open(target_files[sample])\n",
    "    lr_im = PIL.Image.open(lr_files[sample])\n",
    "    targ_arr = np.asarray(targ_im, np.uint8)\n",
    "    lr_arr = np.asarray(lr_im, np.uint8)\n",
    "    \n",
    "    n_models = len(files)\n",
    "    n_rows = n_models//2 + n_models%2 + 1\n",
    "    model_im = [PIL.Image.open(file_list[sample]) for file_list in files]\n",
    "    model_arr = [skimage.util.img_as_ubyte(np.asarray(im)) for im in model_im]\n",
    "#     model_arr = [skimage.util.img_as_ubyte(model1_arr) for model1_arr in model_arr]\n",
    "#     psnr = [compare_psnr(targ_arr, arr, data_range=255.) for arr in model_arr]\n",
    "#     ssim = [compare_ssim(targ_arr, arr, data_range=255.) for arr in model_arr]\n",
    "    \n",
    "    f, axarr = plt.subplots(n_rows, 2) # create visualizations\n",
    "    if n_models%2:\n",
    "        f.delaxes(axarr[n_rows-1,1])\n",
    "    axarr[0][0].imshow(np.squeeze(lr_arr), cmap=plt.cm.gray) # visualize original image file\n",
    "    axarr[0][0].set_title('LR')\n",
    "    axarr[0][1].imshow(np.squeeze(targ_arr), cmap=plt.cm.gray) # visualize original image file\n",
    "    axarr[0][1].set_title('HR')\n",
    "    for i in range(n_models):\n",
    "        axarr[(i+2)//2][(i+2)%2].imshow(np.squeeze(model_arr[i]), cmap=plt.cm.gray) # visualize image tensor\n",
    "        axarr[(i+2)//2][(i+2)%2].set_title(titles[i])\n",
    "#         axarr[(i+2)//2][(i+2)%2].set_xlabel(f\"PSNR: {psnr[i]:.2f}, SSIM: {ssim[i]:.2f}\")\n",
    "    plt.show() # show visualization"
   ]
  },
  {
   "cell_type": "markdown",
   "metadata": {},
   "source": [
    "# Load Data"
   ]
  },
  {
   "cell_type": "code",
   "execution_count": 5,
   "metadata": {},
   "outputs": [],
   "source": [
    "data_pth = Path('/home/alaa/Dropbox/BPHO Staff/USF')  # path to dataset\n",
    "infer_pth = data_pth/f'EM/testing/self_sv/'"
   ]
  },
  {
   "cell_type": "code",
   "execution_count": null,
   "metadata": {},
   "outputs": [],
   "source": [
    "model_list = {\n",
    "    'baseline' : 'baseline/5.16_mse_baseline_3.pkl/FRC/3_8bit',\n",
    "    'self_critic' : 'selfcritic/selfcritic-finetune-2/FRC/3_8bit',\n",
    "    'inpaint' : 'inpainting/6.2_finetune.pkl/FRC/3_8bit',\n",
    "    'contrastive' : 'contrastive/clr-finetune-2/FRC/3_8bit',\n",
    "    'imagenet_critic' : 'inpainting/5.27_imagenet_critic_3.pkl/FRC/3_8bit',\n",
    "}"
   ]
  },
  {
   "cell_type": "code",
   "execution_count": null,
   "metadata": {},
   "outputs": [],
   "source": [
    "titles = list(model_list.keys())"
   ]
  },
  {
   "cell_type": "markdown",
   "metadata": {},
   "source": [
    "# Visualization"
   ]
  },
  {
   "cell_type": "code",
   "execution_count": 8,
   "metadata": {},
   "outputs": [],
   "source": [
    "dirs = list(model_list.values())\n",
    "paths = [infer_pth/dir1 for dir1 in dirs]\n",
    "files = [sorted(list(pth1.glob('*.tif'))) for pth1 in paths]"
   ]
  },
  {
   "cell_type": "code",
   "execution_count": 9,
   "metadata": {
    "scrolled": true
   },
   "outputs": [
    {
     "data": {
      "text/plain": [
       "[16, 16, 16, 16, 16]"
      ]
     },
     "execution_count": 9,
     "metadata": {},
     "output_type": "execute_result"
    }
   ],
   "source": [
    "[len(paths) for paths in files]"
   ]
  },
  {
   "cell_type": "code",
   "execution_count": 10,
   "metadata": {},
   "outputs": [
    {
     "name": "stdout",
     "output_type": "stream",
     "text": [
      "Processing 16 files...\n"
     ]
    }
   ],
   "source": [
    "lr_dirname = data_pth/f'EM/testing/FRC_8bit/2_8bit/'       # target images\n",
    "lr_files = sorted(list(lr_dirname.glob('*.tif')))\n",
    "target_dirname = data_pth/f'EM/testing/FRC_8bit/2_HR/'       # target images\n",
    "target_files = sorted(list(target_dirname.glob('*.tif')))\n",
    "print('Processing '+str(len(target_files))+' files...')"
   ]
  },
  {
   "cell_type": "code",
   "execution_count": 11,
   "metadata": {},
   "outputs": [
    {
     "name": "stdout",
     "output_type": "stream",
     "text": [
      "Current size: [6.0, 4.0]\n"
     ]
    }
   ],
   "source": [
    "# Set size for visualizations\n",
    "fig_size = plt.rcParams[\"figure.figsize\"]  # Get current size\n",
    "print(\"Current size:\", fig_size)\n",
    " \n",
    "# Set figure width to 12 and height to 9\n",
    "fig_size[0] = 25\n",
    "fig_size[1] = 35\n",
    "plt.rcParams[\"figure.figsize\"] = fig_size"
   ]
  },
  {
   "cell_type": "code",
   "execution_count": 12,
   "metadata": {},
   "outputs": [
    {
     "data": {
      "text/plain": [
       "<function matplotlib.pyplot.imshow(X, cmap=None, norm=None, aspect=None, interpolation=None, alpha=None, vmin=None, vmax=None, origin=None, extent=None, shape=<deprecated parameter>, filternorm=1, filterrad=4.0, imlim=<deprecated parameter>, resample=None, url=None, *, data=None, **kwargs)>"
      ]
     },
     "execution_count": 12,
     "metadata": {},
     "output_type": "execute_result"
    }
   ],
   "source": [
    "plt.imshow"
   ]
  },
  {
   "cell_type": "code",
   "execution_count": 13,
   "metadata": {},
   "outputs": [
    {
     "data": {
      "application/vnd.jupyter.widget-view+json": {
       "model_id": "5e97a6cb42024470a2840ac65272cf55",
       "version_major": 2,
       "version_minor": 0
      },
      "text/plain": [
       "interactive(children=(IntSlider(value=7, description='sample', max=21, min=-7), Output()), _dom_classes=('widg…"
      ]
     },
     "metadata": {},
     "output_type": "display_data"
    }
   ],
   "source": [
    "@interact\n",
    "def show_sample(sample=7):\n",
    "    return visualize_sample(lr_files, target_files, files, sample)"
   ]
  }
 ],
 "metadata": {
  "kernelspec": {
   "display_name": "Python (Salk)",
   "language": "python",
   "name": "salk"
  },
  "language_info": {
   "codemirror_mode": {
    "name": "ipython",
    "version": 3
   },
   "file_extension": ".py",
   "mimetype": "text/x-python",
   "name": "python",
   "nbconvert_exporter": "python",
   "pygments_lexer": "ipython3",
   "version": "3.7.3"
  }
 },
 "nbformat": 4,
 "nbformat_minor": 2
}
