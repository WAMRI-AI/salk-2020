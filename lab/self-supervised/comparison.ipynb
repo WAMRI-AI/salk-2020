{
 "cells": [
  {
   "cell_type": "code",
   "execution_count": 27,
   "metadata": {},
   "outputs": [
    {
     "data": {
      "text/html": [
       "<style>.container { width:100% !important; }</style>"
      ],
      "text/plain": [
       "<IPython.core.display.HTML object>"
      ]
     },
     "metadata": {},
     "output_type": "display_data"
    }
   ],
   "source": [
    "from PIL import Image\n",
    "from pathlib import Path\n",
    "import numpy as np\n",
    "import matplotlib.pyplot as plt\n",
    "import PIL\n",
    "from skimage.measure import compare_psnr, compare_ssim\n",
    "\n",
    "import skimage\n",
    "\n",
    "import ipywidgets as widgets\n",
    "from ipywidgets import interact, interact_manual\n",
    "from IPython.core.display import display, HTML\n",
    "display(HTML(\"<style>.container { width:100% !important; }</style>\"))\n",
    "np.set_printoptions(linewidth=110)"
   ]
  },
  {
   "cell_type": "code",
   "execution_count": 28,
   "metadata": {},
   "outputs": [],
   "source": [
    "def visualize_sample(lr_files, target_files, files, sample):\n",
    "    targ_im = PIL.Image.open(target_files[sample])\n",
    "    lr_im = PIL.Image.open(lr_files[sample])\n",
    "    targ_arr = np.asarray(targ_im, np.uint8)\n",
    "    lr_arr = np.asarray(lr_im, np.uint8)\n",
    "    \n",
    "    n_models = len(files)\n",
    "    n_rows = n_models//2 + n_models%2 + 1\n",
    "    model_im = [PIL.Image.open(file_list[sample]) for file_list in files]\n",
    "    model_arr = [skimage.util.img_as_ubyte(np.asarray(im)) for im in model_im]\n",
    "    \n",
    "    psnr = [compare_psnr(targ_arr, arr, data_range=255.) for arr in model_arr]\n",
    "    ssim = [compare_ssim(targ_arr, arr, data_range=255.) for arr in model_arr]\n",
    "    \n",
    "    f, axarr = plt.subplots(n_rows, 2) # create visualizations\n",
    "    if n_models%2:\n",
    "        f.delaxes(axarr[n_rows-1,1])\n",
    "    axarr[0][0].imshow(np.squeeze(lr_arr), cmap=plt.cm.gray) # visualize original image file\n",
    "    axarr[0][0].set_title('LR')\n",
    "    axarr[0][1].imshow(np.squeeze(targ_arr), cmap=plt.cm.gray) # visualize original image file\n",
    "    axarr[0][1].set_title('HR')\n",
    "    for i in range(n_models):\n",
    "        axarr[(i+2)//2][(i+2)%2].imshow(np.squeeze(model_arr[i]), cmap=plt.cm.gray) # visualize image tensor\n",
    "        axarr[(i+2)//2][(i+2)%2].set_title(titles[i])\n",
    "        axarr[(i+2)//2][(i+2)%2].set_xlabel(f\"PSNR: {psnr[i]:.2f}, SSIM: {ssim[i]:.2f}\")\n",
    "    plt.show() # show visualization"
   ]
  },
  {
   "cell_type": "markdown",
   "metadata": {},
   "source": [
    "# Load Data"
   ]
  },
  {
   "cell_type": "code",
   "execution_count": 29,
   "metadata": {},
   "outputs": [],
   "source": [
    "data_pth = Path('/home/alaa/Dropbox/BPHO Staff/USF')  # path to dataset\n",
    "infer_pth = data_pth/f'EM/testing/self_sv/'"
   ]
  },
  {
   "cell_type": "code",
   "execution_count": 30,
   "metadata": {},
   "outputs": [],
   "source": [
    "model_list = {\n",
    "    'baseline' : 'baseline/5.16_mse_baseline_3.pkl',\n",
    "    'self_critic' : 'selfcritic/selfcritic-finetune-2/',\n",
    "    'inpaint' : 'inpainting/6.2_finetune.pkl',\n",
    "    'contrastive' : 'contrastive/clr-finetune-2',\n",
    "    'imagenet_critic' : 'inpainting/5.27_imagenet_critic_3.pkl',\n",
    "}"
   ]
  },
  {
   "cell_type": "code",
   "execution_count": 31,
   "metadata": {},
   "outputs": [],
   "source": [
    "titles = list(model_list.keys())"
   ]
  },
  {
   "cell_type": "markdown",
   "metadata": {},
   "source": [
    "# Visualization"
   ]
  },
  {
   "cell_type": "code",
   "execution_count": 32,
   "metadata": {},
   "outputs": [
    {
     "name": "stdout",
     "output_type": "stream",
     "text": [
      "Processing 42 files...\n"
     ]
    }
   ],
   "source": [
    "dirs = [f'{model_name}/real-world_SEM/' for model_name in model_list.values()]\n",
    "paths = [infer_pth/dir1 for dir1 in dirs]\n",
    "files = [sorted(list(pth1.glob('*.tif'))) for pth1 in paths]\n",
    "\n",
    "lr_dirname = data_pth/f'EM/testing/LR/real-world_SEM/'       # target images\n",
    "lr_files = sorted(list(lr_dirname.glob('*.tif')))\n",
    "target_dirname = data_pth/f'EM/testing/HR/real-world_SEM/'       # target images\n",
    "target_files = sorted(list(target_dirname.glob('*.tif')))\n",
    "print('Processing '+str(len(target_files))+' files...')"
   ]
  },
  {
   "cell_type": "code",
   "execution_count": 33,
   "metadata": {},
   "outputs": [
    {
     "data": {
      "text/plain": [
       "[42, 42, 42, 42, 42]"
      ]
     },
     "execution_count": 33,
     "metadata": {},
     "output_type": "execute_result"
    }
   ],
   "source": [
    "[len(f_list) for f_list in files]"
   ]
  },
  {
   "cell_type": "code",
   "execution_count": 34,
   "metadata": {},
   "outputs": [
    {
     "name": "stdout",
     "output_type": "stream",
     "text": [
      "Current size: [25.0, 35.0]\n"
     ]
    }
   ],
   "source": [
    "# Set size for visualizations\n",
    "fig_size = plt.rcParams[\"figure.figsize\"]  # Get current size\n",
    "print(\"Current size:\", fig_size)\n",
    " \n",
    "# Set figure width to 12 and height to 9\n",
    "fig_size[0] = 25\n",
    "fig_size[1] = 35\n",
    "plt.rcParams[\"figure.figsize\"] = fig_size"
   ]
  },
  {
   "cell_type": "code",
   "execution_count": 35,
   "metadata": {
    "scrolled": false
   },
   "outputs": [
    {
     "data": {
      "application/vnd.jupyter.widget-view+json": {
       "model_id": "e08a19ac2a144e0483b6cd81caf17d3f",
       "version_major": 2,
       "version_minor": 0
      },
      "text/plain": [
       "interactive(children=(IntSlider(value=33, description='sample', max=99, min=-33), Output()), _dom_classes=('wi…"
      ]
     },
     "metadata": {},
     "output_type": "display_data"
    }
   ],
   "source": [
    "@interact\n",
    "def show_sample(sample=33):\n",
    "    return visualize_sample(lr_files, target_files, files, sample)"
   ]
  },
  {
   "cell_type": "code",
   "execution_count": null,
   "metadata": {},
   "outputs": [],
   "source": []
  }
 ],
 "metadata": {
  "kernelspec": {
   "display_name": "Python (Salk)",
   "language": "python",
   "name": "salk"
  },
  "language_info": {
   "codemirror_mode": {
    "name": "ipython",
    "version": 3
   },
   "file_extension": ".py",
   "mimetype": "text/x-python",
   "name": "python",
   "nbconvert_exporter": "python",
   "pygments_lexer": "ipython3",
   "version": "3.7.3"
  }
 },
 "nbformat": 4,
 "nbformat_minor": 2
}
