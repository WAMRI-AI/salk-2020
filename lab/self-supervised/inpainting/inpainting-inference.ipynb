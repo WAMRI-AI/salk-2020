{
 "cells": [
  {
   "cell_type": "code",
   "execution_count": 32,
   "metadata": {},
   "outputs": [],
   "source": [
    "critic_type = 'baseline'"
   ]
  },
  {
   "cell_type": "code",
   "execution_count": 33,
   "metadata": {},
   "outputs": [],
   "source": [
    "import sys\n",
    "sys.path.append(\"../../../\")\n",
    "\n",
    "import skimage\n",
    "\n",
    "import fastai\n",
    "from torchvision import transforms\n",
    "from fastai import *\n",
    "from fastai.vision import *\n",
    "from fastai.callbacks import *\n",
    "from fastai.script import *\n",
    "\n",
    "from model.metrics import *\n",
    "\n",
    "from skimage.measure import compare_psnr, compare_ssim\n",
    "\n",
    "from data.load import get_data"
   ]
  },
  {
   "cell_type": "markdown",
   "metadata": {},
   "source": [
    "# Choose GPU Device"
   ]
  },
  {
   "cell_type": "code",
   "execution_count": 34,
   "metadata": {},
   "outputs": [],
   "source": [
    "torch.cuda.set_device(0)"
   ]
  },
  {
   "cell_type": "markdown",
   "metadata": {},
   "source": [
    "# Load Data"
   ]
  },
  {
   "cell_type": "markdown",
   "metadata": {},
   "source": [
    "### Parameters for Data Loading"
   ]
  },
  {
   "cell_type": "code",
   "execution_count": 35,
   "metadata": {},
   "outputs": [],
   "source": [
    "data_pth = Path('/home/alaa/Dropbox/BPHO Staff/USF')  # path to dataset\n",
    "lr_dir = f'EM/training/trainsets/lr/'  # input images\n",
    "hr_dir = f'EM/training/trainsets/hr/'  # target images\n",
    "model_path = data_pth/f'EM/models/self_sv/{critic_type}'\n",
    "test_pth = data_pth/f'EM/testing/LR/real-world_SEM'\n",
    "infer_pth = data_pth/f'EM/testing/self_sv/{critic_type}'"
   ]
  },
  {
   "cell_type": "code",
   "execution_count": 36,
   "metadata": {},
   "outputs": [
    {
     "data": {
      "text/plain": [
       "(125, 125)"
      ]
     },
     "execution_count": 36,
     "metadata": {},
     "output_type": "execute_result"
    }
   ],
   "source": [
    "from PIL import Image\n",
    "img = Image.open(list(test_pth.glob('*.tif'))[0])\n",
    "img.size"
   ]
  },
  {
   "cell_type": "code",
   "execution_count": 37,
   "metadata": {},
   "outputs": [],
   "source": [
    "bs = 8  # batch size\n",
    "size = 500  # image size"
   ]
  },
  {
   "cell_type": "code",
   "execution_count": 38,
   "metadata": {},
   "outputs": [],
   "source": [
    "# Store dataset in a databunch object \n",
    "data = get_data(data_pth, lr_dir, hr_dir, bs, \n",
    "                in_sz=size, out_sz=size, max_zoom=1.)"
   ]
  },
  {
   "cell_type": "code",
   "execution_count": 39,
   "metadata": {},
   "outputs": [],
   "source": [
    "from model.metrics import psnr, ssim\n",
    "superres_metrics = [F.mse_loss, psnr, ssim]"
   ]
  },
  {
   "cell_type": "markdown",
   "metadata": {},
   "source": [
    "# Modelling"
   ]
  },
  {
   "cell_type": "markdown",
   "metadata": {},
   "source": [
    "## Load Model"
   ]
  },
  {
   "cell_type": "code",
   "execution_count": 40,
   "metadata": {},
   "outputs": [
    {
     "data": {
      "text/plain": [
       "0"
      ]
     },
     "execution_count": 40,
     "metadata": {},
     "output_type": "execute_result"
    }
   ],
   "source": [
    "arch = models.resnet34\n",
    "wd = 1e-3\n",
    "learn = unet_learner(data, arch, wd=wd, \n",
    "                     #loss_func=feat_loss,\n",
    "                     loss_func=F.mse_loss,\n",
    "                     metrics=superres_metrics,\n",
    "                     #callback_fns=LossMetrics, \n",
    "                     blur=True, norm_type=NormType.Weight, model_dir=model_path)\n",
    "gc.collect()"
   ]
  },
  {
   "cell_type": "markdown",
   "metadata": {},
   "source": [
    "## Inference"
   ]
  },
  {
   "cell_type": "code",
   "execution_count": 41,
   "metadata": {},
   "outputs": [],
   "source": [
    "test_set = ImageList.from_folder(test_pth, convert_mode='L')\n",
    "learn.data.add_test(test_set, tfm_y=False)"
   ]
  },
  {
   "cell_type": "code",
   "execution_count": 42,
   "metadata": {},
   "outputs": [],
   "source": [
    "model_list = ['5.16_mse_baseline_3.pkl']\n",
    "tag_list = ['baseline']"
   ]
  },
  {
   "cell_type": "code",
   "execution_count": 43,
   "metadata": {},
   "outputs": [],
   "source": [
    "from libtiff import TIFF"
   ]
  },
  {
   "cell_type": "code",
   "execution_count": 44,
   "metadata": {},
   "outputs": [],
   "source": [
    "def model_inference(learner=learn, folder_name=Path(\"CHANGEME/real-world_SEM\"), img_tag=f\"CHANGEME\"):\n",
    "    dir_name = infer_pth/folder_name\n",
    "    if not os.path.isdir(dir_name): dir_name.mkdir(parents=True, exist_ok=True)\n",
    "    print(dir_name)\n",
    "    \n",
    "    \n",
    "    for img, img_name in zip(learner.data.test_ds, learner.data.test_ds.items):\n",
    "#         for i in range(3):\n",
    "#             img[0].data[i] -= mean[i]\n",
    "#             img[0].data[i] /= std[i]\n",
    "        \n",
    "#         for i in range(3):\n",
    "#             pred[1][i] *= std[i]\n",
    "#             pred[1][i] += mean[i]\n",
    "        pred = learner.predict(img[0])\n",
    "        pred_name = dir_name/img_name.name.replace('lr', img_tag)\n",
    "        print(pred_name)\n",
    "\n",
    "        \n",
    "\n",
    "        pred_img = pred[1][0]\n",
    "        tiff = TIFF.open(pred_name, mode='w')\n",
    "        tiff.write_image(pred_img)\n",
    "        \n",
    "        print(f\"Performed inference on {img_name.stem}, file saved as {pred_name}\")\n",
    "    print(\"Model Inference Complete\")"
   ]
  },
  {
   "cell_type": "code",
   "execution_count": 45,
   "metadata": {},
   "outputs": [
    {
     "name": "stdout",
     "output_type": "stream",
     "text": [
      "/home/alaa/Dropbox/BPHO Staff/USF/EM/testing/self_sv/baseline/5.16_mse_baseline_3.pkl/real-world_SEM\n",
      "/home/alaa/Dropbox/BPHO Staff/USF/EM/testing/self_sv/baseline/5.16_mse_baseline_3.pkl/real-world_SEM/realword_SEM_test_baseline_05.tif\n",
      "Performed inference on realword_SEM_test_lr_05, file saved as /home/alaa/Dropbox/BPHO Staff/USF/EM/testing/self_sv/baseline/5.16_mse_baseline_3.pkl/real-world_SEM/realword_SEM_test_baseline_05.tif\n",
      "/home/alaa/Dropbox/BPHO Staff/USF/EM/testing/self_sv/baseline/5.16_mse_baseline_3.pkl/real-world_SEM/realword_SEM_test_baseline_38.tif\n",
      "Performed inference on realword_SEM_test_lr_38, file saved as /home/alaa/Dropbox/BPHO Staff/USF/EM/testing/self_sv/baseline/5.16_mse_baseline_3.pkl/real-world_SEM/realword_SEM_test_baseline_38.tif\n",
      "/home/alaa/Dropbox/BPHO Staff/USF/EM/testing/self_sv/baseline/5.16_mse_baseline_3.pkl/real-world_SEM/realword_SEM_test_baseline_42.tif\n",
      "Performed inference on realword_SEM_test_lr_42, file saved as /home/alaa/Dropbox/BPHO Staff/USF/EM/testing/self_sv/baseline/5.16_mse_baseline_3.pkl/real-world_SEM/realword_SEM_test_baseline_42.tif\n",
      "/home/alaa/Dropbox/BPHO Staff/USF/EM/testing/self_sv/baseline/5.16_mse_baseline_3.pkl/real-world_SEM/realword_SEM_test_baseline_41.tif\n",
      "Performed inference on realword_SEM_test_lr_41, file saved as /home/alaa/Dropbox/BPHO Staff/USF/EM/testing/self_sv/baseline/5.16_mse_baseline_3.pkl/real-world_SEM/realword_SEM_test_baseline_41.tif\n",
      "/home/alaa/Dropbox/BPHO Staff/USF/EM/testing/self_sv/baseline/5.16_mse_baseline_3.pkl/real-world_SEM/realword_SEM_test_baseline_10.tif\n",
      "Performed inference on realword_SEM_test_lr_10, file saved as /home/alaa/Dropbox/BPHO Staff/USF/EM/testing/self_sv/baseline/5.16_mse_baseline_3.pkl/real-world_SEM/realword_SEM_test_baseline_10.tif\n",
      "/home/alaa/Dropbox/BPHO Staff/USF/EM/testing/self_sv/baseline/5.16_mse_baseline_3.pkl/real-world_SEM/realword_SEM_test_baseline_28.tif\n",
      "Performed inference on realword_SEM_test_lr_28, file saved as /home/alaa/Dropbox/BPHO Staff/USF/EM/testing/self_sv/baseline/5.16_mse_baseline_3.pkl/real-world_SEM/realword_SEM_test_baseline_28.tif\n",
      "/home/alaa/Dropbox/BPHO Staff/USF/EM/testing/self_sv/baseline/5.16_mse_baseline_3.pkl/real-world_SEM/realword_SEM_test_baseline_12.tif\n",
      "Performed inference on realword_SEM_test_lr_12, file saved as /home/alaa/Dropbox/BPHO Staff/USF/EM/testing/self_sv/baseline/5.16_mse_baseline_3.pkl/real-world_SEM/realword_SEM_test_baseline_12.tif\n",
      "/home/alaa/Dropbox/BPHO Staff/USF/EM/testing/self_sv/baseline/5.16_mse_baseline_3.pkl/real-world_SEM/realword_SEM_test_baseline_09.tif\n",
      "Performed inference on realword_SEM_test_lr_09, file saved as /home/alaa/Dropbox/BPHO Staff/USF/EM/testing/self_sv/baseline/5.16_mse_baseline_3.pkl/real-world_SEM/realword_SEM_test_baseline_09.tif\n",
      "/home/alaa/Dropbox/BPHO Staff/USF/EM/testing/self_sv/baseline/5.16_mse_baseline_3.pkl/real-world_SEM/realword_SEM_test_baseline_02.tif\n",
      "Performed inference on realword_SEM_test_lr_02, file saved as /home/alaa/Dropbox/BPHO Staff/USF/EM/testing/self_sv/baseline/5.16_mse_baseline_3.pkl/real-world_SEM/realword_SEM_test_baseline_02.tif\n",
      "/home/alaa/Dropbox/BPHO Staff/USF/EM/testing/self_sv/baseline/5.16_mse_baseline_3.pkl/real-world_SEM/realword_SEM_test_baseline_23.tif\n",
      "Performed inference on realword_SEM_test_lr_23, file saved as /home/alaa/Dropbox/BPHO Staff/USF/EM/testing/self_sv/baseline/5.16_mse_baseline_3.pkl/real-world_SEM/realword_SEM_test_baseline_23.tif\n",
      "/home/alaa/Dropbox/BPHO Staff/USF/EM/testing/self_sv/baseline/5.16_mse_baseline_3.pkl/real-world_SEM/realword_SEM_test_baseline_04.tif\n",
      "Performed inference on realword_SEM_test_lr_04, file saved as /home/alaa/Dropbox/BPHO Staff/USF/EM/testing/self_sv/baseline/5.16_mse_baseline_3.pkl/real-world_SEM/realword_SEM_test_baseline_04.tif\n",
      "/home/alaa/Dropbox/BPHO Staff/USF/EM/testing/self_sv/baseline/5.16_mse_baseline_3.pkl/real-world_SEM/realword_SEM_test_baseline_20.tif\n",
      "Performed inference on realword_SEM_test_lr_20, file saved as /home/alaa/Dropbox/BPHO Staff/USF/EM/testing/self_sv/baseline/5.16_mse_baseline_3.pkl/real-world_SEM/realword_SEM_test_baseline_20.tif\n",
      "/home/alaa/Dropbox/BPHO Staff/USF/EM/testing/self_sv/baseline/5.16_mse_baseline_3.pkl/real-world_SEM/realword_SEM_test_baseline_14.tif\n",
      "Performed inference on realword_SEM_test_lr_14, file saved as /home/alaa/Dropbox/BPHO Staff/USF/EM/testing/self_sv/baseline/5.16_mse_baseline_3.pkl/real-world_SEM/realword_SEM_test_baseline_14.tif\n",
      "/home/alaa/Dropbox/BPHO Staff/USF/EM/testing/self_sv/baseline/5.16_mse_baseline_3.pkl/real-world_SEM/realword_SEM_test_baseline_32.tif\n",
      "Performed inference on realword_SEM_test_lr_32, file saved as /home/alaa/Dropbox/BPHO Staff/USF/EM/testing/self_sv/baseline/5.16_mse_baseline_3.pkl/real-world_SEM/realword_SEM_test_baseline_32.tif\n",
      "/home/alaa/Dropbox/BPHO Staff/USF/EM/testing/self_sv/baseline/5.16_mse_baseline_3.pkl/real-world_SEM/realword_SEM_test_baseline_27.tif\n",
      "Performed inference on realword_SEM_test_lr_27, file saved as /home/alaa/Dropbox/BPHO Staff/USF/EM/testing/self_sv/baseline/5.16_mse_baseline_3.pkl/real-world_SEM/realword_SEM_test_baseline_27.tif\n",
      "/home/alaa/Dropbox/BPHO Staff/USF/EM/testing/self_sv/baseline/5.16_mse_baseline_3.pkl/real-world_SEM/realword_SEM_test_baseline_30.tif\n",
      "Performed inference on realword_SEM_test_lr_30, file saved as /home/alaa/Dropbox/BPHO Staff/USF/EM/testing/self_sv/baseline/5.16_mse_baseline_3.pkl/real-world_SEM/realword_SEM_test_baseline_30.tif\n",
      "/home/alaa/Dropbox/BPHO Staff/USF/EM/testing/self_sv/baseline/5.16_mse_baseline_3.pkl/real-world_SEM/realword_SEM_test_baseline_22.tif\n",
      "Performed inference on realword_SEM_test_lr_22, file saved as /home/alaa/Dropbox/BPHO Staff/USF/EM/testing/self_sv/baseline/5.16_mse_baseline_3.pkl/real-world_SEM/realword_SEM_test_baseline_22.tif\n",
      "/home/alaa/Dropbox/BPHO Staff/USF/EM/testing/self_sv/baseline/5.16_mse_baseline_3.pkl/real-world_SEM/realword_SEM_test_baseline_40.tif\n",
      "Performed inference on realword_SEM_test_lr_40, file saved as /home/alaa/Dropbox/BPHO Staff/USF/EM/testing/self_sv/baseline/5.16_mse_baseline_3.pkl/real-world_SEM/realword_SEM_test_baseline_40.tif\n",
      "/home/alaa/Dropbox/BPHO Staff/USF/EM/testing/self_sv/baseline/5.16_mse_baseline_3.pkl/real-world_SEM/realword_SEM_test_baseline_07.tif\n",
      "Performed inference on realword_SEM_test_lr_07, file saved as /home/alaa/Dropbox/BPHO Staff/USF/EM/testing/self_sv/baseline/5.16_mse_baseline_3.pkl/real-world_SEM/realword_SEM_test_baseline_07.tif\n",
      "/home/alaa/Dropbox/BPHO Staff/USF/EM/testing/self_sv/baseline/5.16_mse_baseline_3.pkl/real-world_SEM/realword_SEM_test_baseline_29.tif\n",
      "Performed inference on realword_SEM_test_lr_29, file saved as /home/alaa/Dropbox/BPHO Staff/USF/EM/testing/self_sv/baseline/5.16_mse_baseline_3.pkl/real-world_SEM/realword_SEM_test_baseline_29.tif\n",
      "/home/alaa/Dropbox/BPHO Staff/USF/EM/testing/self_sv/baseline/5.16_mse_baseline_3.pkl/real-world_SEM/realword_SEM_test_baseline_35.tif\n",
      "Performed inference on realword_SEM_test_lr_35, file saved as /home/alaa/Dropbox/BPHO Staff/USF/EM/testing/self_sv/baseline/5.16_mse_baseline_3.pkl/real-world_SEM/realword_SEM_test_baseline_35.tif\n",
      "/home/alaa/Dropbox/BPHO Staff/USF/EM/testing/self_sv/baseline/5.16_mse_baseline_3.pkl/real-world_SEM/realword_SEM_test_baseline_18.tif\n",
      "Performed inference on realword_SEM_test_lr_18, file saved as /home/alaa/Dropbox/BPHO Staff/USF/EM/testing/self_sv/baseline/5.16_mse_baseline_3.pkl/real-world_SEM/realword_SEM_test_baseline_18.tif\n",
      "/home/alaa/Dropbox/BPHO Staff/USF/EM/testing/self_sv/baseline/5.16_mse_baseline_3.pkl/real-world_SEM/realword_SEM_test_baseline_19.tif\n",
      "Performed inference on realword_SEM_test_lr_19, file saved as /home/alaa/Dropbox/BPHO Staff/USF/EM/testing/self_sv/baseline/5.16_mse_baseline_3.pkl/real-world_SEM/realword_SEM_test_baseline_19.tif\n",
      "/home/alaa/Dropbox/BPHO Staff/USF/EM/testing/self_sv/baseline/5.16_mse_baseline_3.pkl/real-world_SEM/realword_SEM_test_baseline_21.tif\n",
      "Performed inference on realword_SEM_test_lr_21, file saved as /home/alaa/Dropbox/BPHO Staff/USF/EM/testing/self_sv/baseline/5.16_mse_baseline_3.pkl/real-world_SEM/realword_SEM_test_baseline_21.tif\n",
      "/home/alaa/Dropbox/BPHO Staff/USF/EM/testing/self_sv/baseline/5.16_mse_baseline_3.pkl/real-world_SEM/realword_SEM_test_baseline_26.tif\n",
      "Performed inference on realword_SEM_test_lr_26, file saved as /home/alaa/Dropbox/BPHO Staff/USF/EM/testing/self_sv/baseline/5.16_mse_baseline_3.pkl/real-world_SEM/realword_SEM_test_baseline_26.tif\n",
      "/home/alaa/Dropbox/BPHO Staff/USF/EM/testing/self_sv/baseline/5.16_mse_baseline_3.pkl/real-world_SEM/realword_SEM_test_baseline_06.tif\n",
      "Performed inference on realword_SEM_test_lr_06, file saved as /home/alaa/Dropbox/BPHO Staff/USF/EM/testing/self_sv/baseline/5.16_mse_baseline_3.pkl/real-world_SEM/realword_SEM_test_baseline_06.tif\n",
      "/home/alaa/Dropbox/BPHO Staff/USF/EM/testing/self_sv/baseline/5.16_mse_baseline_3.pkl/real-world_SEM/realword_SEM_test_baseline_24.tif\n",
      "Performed inference on realword_SEM_test_lr_24, file saved as /home/alaa/Dropbox/BPHO Staff/USF/EM/testing/self_sv/baseline/5.16_mse_baseline_3.pkl/real-world_SEM/realword_SEM_test_baseline_24.tif\n"
     ]
    },
    {
     "name": "stdout",
     "output_type": "stream",
     "text": [
      "/home/alaa/Dropbox/BPHO Staff/USF/EM/testing/self_sv/baseline/5.16_mse_baseline_3.pkl/real-world_SEM/realword_SEM_test_baseline_11.tif\n",
      "Performed inference on realword_SEM_test_lr_11, file saved as /home/alaa/Dropbox/BPHO Staff/USF/EM/testing/self_sv/baseline/5.16_mse_baseline_3.pkl/real-world_SEM/realword_SEM_test_baseline_11.tif\n",
      "/home/alaa/Dropbox/BPHO Staff/USF/EM/testing/self_sv/baseline/5.16_mse_baseline_3.pkl/real-world_SEM/realword_SEM_test_baseline_31.tif\n",
      "Performed inference on realword_SEM_test_lr_31, file saved as /home/alaa/Dropbox/BPHO Staff/USF/EM/testing/self_sv/baseline/5.16_mse_baseline_3.pkl/real-world_SEM/realword_SEM_test_baseline_31.tif\n",
      "/home/alaa/Dropbox/BPHO Staff/USF/EM/testing/self_sv/baseline/5.16_mse_baseline_3.pkl/real-world_SEM/realword_SEM_test_baseline_17.tif\n",
      "Performed inference on realword_SEM_test_lr_17, file saved as /home/alaa/Dropbox/BPHO Staff/USF/EM/testing/self_sv/baseline/5.16_mse_baseline_3.pkl/real-world_SEM/realword_SEM_test_baseline_17.tif\n",
      "/home/alaa/Dropbox/BPHO Staff/USF/EM/testing/self_sv/baseline/5.16_mse_baseline_3.pkl/real-world_SEM/realword_SEM_test_baseline_08.tif\n",
      "Performed inference on realword_SEM_test_lr_08, file saved as /home/alaa/Dropbox/BPHO Staff/USF/EM/testing/self_sv/baseline/5.16_mse_baseline_3.pkl/real-world_SEM/realword_SEM_test_baseline_08.tif\n",
      "/home/alaa/Dropbox/BPHO Staff/USF/EM/testing/self_sv/baseline/5.16_mse_baseline_3.pkl/real-world_SEM/realword_SEM_test_baseline_01.tif\n",
      "Performed inference on realword_SEM_test_lr_01, file saved as /home/alaa/Dropbox/BPHO Staff/USF/EM/testing/self_sv/baseline/5.16_mse_baseline_3.pkl/real-world_SEM/realword_SEM_test_baseline_01.tif\n",
      "/home/alaa/Dropbox/BPHO Staff/USF/EM/testing/self_sv/baseline/5.16_mse_baseline_3.pkl/real-world_SEM/realword_SEM_test_baseline_13.tif\n",
      "Performed inference on realword_SEM_test_lr_13, file saved as /home/alaa/Dropbox/BPHO Staff/USF/EM/testing/self_sv/baseline/5.16_mse_baseline_3.pkl/real-world_SEM/realword_SEM_test_baseline_13.tif\n",
      "/home/alaa/Dropbox/BPHO Staff/USF/EM/testing/self_sv/baseline/5.16_mse_baseline_3.pkl/real-world_SEM/realword_SEM_test_baseline_34.tif\n",
      "Performed inference on realword_SEM_test_lr_34, file saved as /home/alaa/Dropbox/BPHO Staff/USF/EM/testing/self_sv/baseline/5.16_mse_baseline_3.pkl/real-world_SEM/realword_SEM_test_baseline_34.tif\n",
      "/home/alaa/Dropbox/BPHO Staff/USF/EM/testing/self_sv/baseline/5.16_mse_baseline_3.pkl/real-world_SEM/realword_SEM_test_baseline_37.tif\n",
      "Performed inference on realword_SEM_test_lr_37, file saved as /home/alaa/Dropbox/BPHO Staff/USF/EM/testing/self_sv/baseline/5.16_mse_baseline_3.pkl/real-world_SEM/realword_SEM_test_baseline_37.tif\n",
      "/home/alaa/Dropbox/BPHO Staff/USF/EM/testing/self_sv/baseline/5.16_mse_baseline_3.pkl/real-world_SEM/realword_SEM_test_baseline_25.tif\n",
      "Performed inference on realword_SEM_test_lr_25, file saved as /home/alaa/Dropbox/BPHO Staff/USF/EM/testing/self_sv/baseline/5.16_mse_baseline_3.pkl/real-world_SEM/realword_SEM_test_baseline_25.tif\n",
      "/home/alaa/Dropbox/BPHO Staff/USF/EM/testing/self_sv/baseline/5.16_mse_baseline_3.pkl/real-world_SEM/realword_SEM_test_baseline_03.tif\n",
      "Performed inference on realword_SEM_test_lr_03, file saved as /home/alaa/Dropbox/BPHO Staff/USF/EM/testing/self_sv/baseline/5.16_mse_baseline_3.pkl/real-world_SEM/realword_SEM_test_baseline_03.tif\n",
      "/home/alaa/Dropbox/BPHO Staff/USF/EM/testing/self_sv/baseline/5.16_mse_baseline_3.pkl/real-world_SEM/realword_SEM_test_baseline_16.tif\n",
      "Performed inference on realword_SEM_test_lr_16, file saved as /home/alaa/Dropbox/BPHO Staff/USF/EM/testing/self_sv/baseline/5.16_mse_baseline_3.pkl/real-world_SEM/realword_SEM_test_baseline_16.tif\n",
      "/home/alaa/Dropbox/BPHO Staff/USF/EM/testing/self_sv/baseline/5.16_mse_baseline_3.pkl/real-world_SEM/realword_SEM_test_baseline_33.tif\n",
      "Performed inference on realword_SEM_test_lr_33, file saved as /home/alaa/Dropbox/BPHO Staff/USF/EM/testing/self_sv/baseline/5.16_mse_baseline_3.pkl/real-world_SEM/realword_SEM_test_baseline_33.tif\n",
      "/home/alaa/Dropbox/BPHO Staff/USF/EM/testing/self_sv/baseline/5.16_mse_baseline_3.pkl/real-world_SEM/realword_SEM_test_baseline_15.tif\n",
      "Performed inference on realword_SEM_test_lr_15, file saved as /home/alaa/Dropbox/BPHO Staff/USF/EM/testing/self_sv/baseline/5.16_mse_baseline_3.pkl/real-world_SEM/realword_SEM_test_baseline_15.tif\n",
      "/home/alaa/Dropbox/BPHO Staff/USF/EM/testing/self_sv/baseline/5.16_mse_baseline_3.pkl/real-world_SEM/realword_SEM_test_baseline_39.tif\n",
      "Performed inference on realword_SEM_test_lr_39, file saved as /home/alaa/Dropbox/BPHO Staff/USF/EM/testing/self_sv/baseline/5.16_mse_baseline_3.pkl/real-world_SEM/realword_SEM_test_baseline_39.tif\n",
      "/home/alaa/Dropbox/BPHO Staff/USF/EM/testing/self_sv/baseline/5.16_mse_baseline_3.pkl/real-world_SEM/realword_SEM_test_baseline_36.tif\n",
      "Performed inference on realword_SEM_test_lr_36, file saved as /home/alaa/Dropbox/BPHO Staff/USF/EM/testing/self_sv/baseline/5.16_mse_baseline_3.pkl/real-world_SEM/realword_SEM_test_baseline_36.tif\n",
      "Model Inference Complete\n"
     ]
    }
   ],
   "source": [
    "for model_name, img_tag in zip(model_list, tag_list):\n",
    "    learn.model.load_state_dict(torch.load(model_path/model_name))\n",
    "    model_inference(folder_name=Path(f\"{model_name}/real-world_SEM\"), img_tag=img_tag)"
   ]
  },
  {
   "cell_type": "markdown",
   "metadata": {},
   "source": [
    "# Model Evaluation"
   ]
  },
  {
   "cell_type": "code",
   "execution_count": 21,
   "metadata": {},
   "outputs": [
    {
     "name": "stdout",
     "output_type": "stream",
     "text": [
      "Processing 42 files...\n"
     ]
    }
   ],
   "source": [
    "target_dirname = data_pth/f'EM/testing/HR/real-world_SEM/'       # target images\n",
    "target_files = sorted(list(target_dirname.glob('*.tif')))\n",
    "print('Processing '+str(len(target_files))+' files...')"
   ]
  },
  {
   "cell_type": "code",
   "execution_count": 18,
   "metadata": {},
   "outputs": [],
   "source": [
    "def evaluate_model(pred_files, hr_files):\n",
    "    psnr_scores = {}\n",
    "    ssim_scores = {}\n",
    "    for pred_fname, targ_fname in zip(pred_files, hr_files):\n",
    "        pred_img = PIL.Image.open(pred_fname)\n",
    "        targ_img = PIL.Image.open(targ_fname)\n",
    "        \n",
    "        pred = skimage.util.img_as_ubyte(np.asarray(pred_img))\n",
    "        targ = skimage.util.img_as_ubyte(np.asarray(targ_img))\n",
    "        \n",
    "        psnr_score = compare_psnr(targ, pred, data_range=255.)\n",
    "        psnr_scores[targ_fname] = psnr_score\n",
    "        \n",
    "        ssim_score = compare_ssim(targ, pred, data_range=255.)\n",
    "        ssim_scores[targ_fname] = ssim_score\n",
    "        \n",
    "\n",
    "    return psnr_scores, ssim_scores"
   ]
  },
  {
   "cell_type": "code",
   "execution_count": 21,
   "metadata": {},
   "outputs": [
    {
     "name": "stderr",
     "output_type": "stream",
     "text": [
      "/home/rusl/anaconda3/envs/Salk/lib/python3.7/site-packages/skimage/util/dtype.py:135: UserWarning: Possible precision loss when converting from float32 to uint8\n",
      "  .format(dtypeobj_in, dtypeobj_out))\n"
     ]
    },
    {
     "name": "stdout",
     "output_type": "stream",
     "text": [
      "inpaint_fresh \n",
      " \t Mean PSNR: 24.582 \n",
      " \t Mean SSIM: 0.483\n"
     ]
    }
   ],
   "source": [
    "results = {}\n",
    "mean_psnr = \"mean psnr\"\n",
    "mean_ssim = \"mean ssim\"\n",
    "for model_name, img_tag in zip(model_list, tag_list):\n",
    "    inference_dirname = infer_pth/f'{model_name}/real-world_SEM/'  \n",
    "    inference_files = sorted(list(inference_dirname.glob('*.tif')))\n",
    "    results[img_tag] = {}\n",
    "    results[img_tag]['psnr'], results[img_tag]['ssim'] = evaluate_model(inference_files, target_files)\n",
    "    results[img_tag]['mean psnr'] = np.mean([results[img_tag]['psnr'][f] for f in results[img_tag]['psnr'].keys()])\n",
    "    results[img_tag]['mean ssim'] = np.mean([results[img_tag]['ssim'][f] for f in results[img_tag]['ssim'].keys()])\n",
    "    print(f'{img_tag} \\n \\t Mean PSNR: {results[img_tag][mean_psnr]:.3f} \\n \\t Mean SSIM: {results[img_tag][mean_ssim]:.3f}')"
   ]
  },
  {
   "cell_type": "markdown",
   "metadata": {},
   "source": [
    "# Visualization"
   ]
  },
  {
   "cell_type": "code",
   "execution_count": 46,
   "metadata": {},
   "outputs": [
    {
     "ename": "IndexError",
     "evalue": "list assignment index out of range",
     "output_type": "error",
     "traceback": [
      "\u001b[0;31m---------------------------------------------------------------------------\u001b[0m",
      "\u001b[0;31mIndexError\u001b[0m                                Traceback (most recent call last)",
      "\u001b[0;32m<ipython-input-46-27b75af89b24>\u001b[0m in \u001b[0;36m<module>\u001b[0;34m\u001b[0m\n\u001b[0;32m----> 1\u001b[0;31m \u001b[0mmodel_list\u001b[0m\u001b[0;34m[\u001b[0m\u001b[0;36m1\u001b[0m\u001b[0;34m]\u001b[0m\u001b[0;34m=\u001b[0m\u001b[0;34m'baseline-pretrained-best'\u001b[0m\u001b[0;34m\u001b[0m\u001b[0;34m\u001b[0m\u001b[0m\n\u001b[0m\u001b[1;32m      2\u001b[0m \u001b[0mtag_list\u001b[0m\u001b[0;34m[\u001b[0m\u001b[0;36m1\u001b[0m\u001b[0;34m]\u001b[0m\u001b[0;34m=\u001b[0m\u001b[0;34m'baseline-pretrained-best'\u001b[0m\u001b[0;34m\u001b[0m\u001b[0;34m\u001b[0m\u001b[0m\n",
      "\u001b[0;31mIndexError\u001b[0m: list assignment index out of range"
     ]
    }
   ],
   "source": [
    "model_list[1]='baseline-pretrained-best'\n",
    "tag_list[1]='baseline-pretrained-best'"
   ]
  },
  {
   "cell_type": "code",
   "execution_count": null,
   "metadata": {},
   "outputs": [],
   "source": [
    "model_list, tag_list"
   ]
  },
  {
   "cell_type": "code",
   "execution_count": null,
   "metadata": {},
   "outputs": [],
   "source": [
    "model_1_name = model_list[0]\n",
    "model_2_name = model_list[1]\n",
    "\n",
    "dir1 = f'{model_1_name}/real-world_SEM/'  # pssr images\n",
    "dir2 = f'{model_2_name}/real-world_SEM/'  # our images\n",
    "\n",
    "# Modify accordingly\n",
    "pth1 = infer_pth/dir1\n",
    "pth2 = infer_pth.parent/dir2\n",
    "\n",
    "model1_files = sorted(list(pth1.glob('*.tif')))\n",
    "model2_files = sorted(list(pth2.glob('*.tif')))\n",
    "\n",
    "print('Processing '+str(len(model2_files))+' files...')"
   ]
  },
  {
   "cell_type": "code",
   "execution_count": null,
   "metadata": {},
   "outputs": [],
   "source": [
    "import ipywidgets as widgets\n",
    "from ipywidgets import interact, interact_manual\n",
    "from IPython.core.display import display, HTML\n",
    "display(HTML(\"<style>.container { width:100% !important; }</style>\"))\n",
    "np.set_printoptions(linewidth=110)\n",
    "\n",
    "# Set size for visualizations\n",
    "fig_size = plt.rcParams[\"figure.figsize\"]  # Get current size\n",
    "print(\"Current size:\", fig_size)\n",
    " \n",
    "# Set figure width to 12 and height to 9\n",
    "fig_size[0] = 30\n",
    "fig_size[1] = 24\n",
    "plt.rcParams[\"figure.figsize\"] = fig_size"
   ]
  },
  {
   "cell_type": "code",
   "execution_count": null,
   "metadata": {},
   "outputs": [],
   "source": [
    "def visualize_sample(img_fname1, img_fname2, targ_fname, title1=model_1_name, title2=\"Target\", title3=model_2_name):\n",
    "    model1_im = PIL.Image.open(img_fname1) # load image to tensor\n",
    "    targ_im = PIL.Image.open(targ_fname)\n",
    "    model2_im = PIL.Image.open(img_fname2)\n",
    "    \n",
    "    model1_arr = np.asarray(model1_im)\n",
    "    model1_arr = skimage.util.img_as_ubyte(model1_arr)\n",
    "    model2_arr = np.asarray(model2_im)\n",
    "    model2_arr = skimage.util.img_as_ubyte(model2_arr)\n",
    "    \n",
    "    \n",
    "    targ_arr = np.asarray(targ_im, np.uint8)\n",
    "    \n",
    "    model1_psnr = compare_psnr(targ_arr, model1_arr, data_range=255.)\n",
    "    model1_ssim = compare_ssim(targ_arr, model1_arr, data_range=255.)\n",
    "    model2_psnr = compare_psnr(targ_arr, model2_arr, data_range=255.)\n",
    "    model2_ssim = compare_ssim(targ_arr, model2_arr, data_range=255.)\n",
    "    f, axarr = plt.subplots(3,1) # create visualizations\n",
    "    axarr[0].imshow(np.squeeze(model1_arr), cmap=plt.cm.gray) # visualize image tensor\n",
    "    axarr[0].set_title(title1)\n",
    "    axarr[0].set_xlabel(f\"PSNR: {model1_psnr:.2f}, SSIM: {model1_ssim:.2f}\")\n",
    "    axarr[2].imshow(np.squeeze(targ_arr), cmap=plt.cm.gray) # visualize original image file\n",
    "    axarr[2].set_title(title2)\n",
    "    axarr[1].imshow(np.squeeze(model2_arr), cmap=plt.cm.gray) # visualize image tensor\n",
    "    axarr[1].set_title(title3)\n",
    "    axarr[2].set_xlabel(f\"PSNR: {model2_psnr:.2f}, SSIM: {model2_ssim:.2f}\")\n",
    "    plt.show() # show visualization"
   ]
  },
  {
   "cell_type": "code",
   "execution_count": null,
   "metadata": {},
   "outputs": [],
   "source": [
    "@interact\n",
    "def show_sample(sample=33):\n",
    "    return visualize_sample(model1_files[sample], model2_files[sample], target_files[sample])"
   ]
  },
  {
   "cell_type": "code",
   "execution_count": null,
   "metadata": {},
   "outputs": [],
   "source": []
  }
 ],
 "metadata": {
  "kernelspec": {
   "display_name": "Python (Salk)",
   "language": "python",
   "name": "salk"
  },
  "language_info": {
   "codemirror_mode": {
    "name": "ipython",
    "version": 3
   },
   "file_extension": ".py",
   "mimetype": "text/x-python",
   "name": "python",
   "nbconvert_exporter": "python",
   "pygments_lexer": "ipython3",
   "version": "3.7.3"
  }
 },
 "nbformat": 4,
 "nbformat_minor": 2
}
