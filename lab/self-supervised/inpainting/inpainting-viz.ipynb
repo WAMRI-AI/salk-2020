{
 "cells": [
  {
   "cell_type": "code",
   "execution_count": 1,
   "metadata": {},
   "outputs": [],
   "source": [
    "critic_type = 'inpainting'"
   ]
  },
  {
   "cell_type": "code",
   "execution_count": 20,
   "metadata": {},
   "outputs": [],
   "source": [
    "from PIL import Image\n",
    "from pathlib import Path\n",
    "import numpy as np\n",
    "import matplotlib.pyplot as plt\n",
    "import PIL\n",
    "from skimage.measure import compare_psnr, compare_ssim"
   ]
  },
  {
   "cell_type": "markdown",
   "metadata": {},
   "source": [
    "# Load Data"
   ]
  },
  {
   "cell_type": "markdown",
   "metadata": {},
   "source": [
    "### Parameters for Data Loading"
   ]
  },
  {
   "cell_type": "code",
   "execution_count": 6,
   "metadata": {},
   "outputs": [],
   "source": [
    "data_pth = Path('/home/alaa/Dropbox/BPHO Staff/USF')  # path to dataset\n",
    "lr_dir = f'EM/training/trainsets/lr/'  # input images\n",
    "hr_dir = f'EM/training/trainsets/hr/'  # target images\n",
    "model_path = data_pth/f'EM/models/self_sv/{critic_type}'\n",
    "test_pth = data_pth/f'EM/testing/LR/real-world_SEM'\n",
    "infer_pth = data_pth/f'EM/testing/self_sv/{critic_type}'"
   ]
  },
  {
   "cell_type": "markdown",
   "metadata": {},
   "source": [
    "# Modelling"
   ]
  },
  {
   "cell_type": "markdown",
   "metadata": {},
   "source": [
    "# Visualization"
   ]
  },
  {
   "cell_type": "code",
   "execution_count": 7,
   "metadata": {},
   "outputs": [],
   "source": [
    "model_list = ['5.4_superres_transfer_3.pkl', '5.27_imagenet_critic_3.pkl']\n",
    "tag_list = ['transfer_pretrained', 'imagenet']"
   ]
  },
  {
   "cell_type": "code",
   "execution_count": 8,
   "metadata": {},
   "outputs": [
    {
     "name": "stdout",
     "output_type": "stream",
     "text": [
      "Processing 42 files...\n"
     ]
    }
   ],
   "source": [
    "model_1_name = model_list[0]\n",
    "model_2_name = model_list[1]\n",
    "\n",
    "dir1 = f'{model_1_name}/real-world_SEM/'  # pssr images\n",
    "dir2 = f'{model_2_name}/real-world_SEM/'  # our images\n",
    "\n",
    "# Modify accordingly\n",
    "pth1 = infer_pth/dir1\n",
    "pth2 = infer_pth/dir2\n",
    "\n",
    "model1_files = sorted(list(pth1.glob('*.tif')))\n",
    "model2_files = sorted(list(pth2.glob('*.tif')))\n",
    "\n",
    "print('Processing '+str(len(model1_files))+' files...')"
   ]
  },
  {
   "cell_type": "code",
   "execution_count": 16,
   "metadata": {},
   "outputs": [
    {
     "name": "stdout",
     "output_type": "stream",
     "text": [
      "Processing 42 files...\n"
     ]
    }
   ],
   "source": [
    "target_dirname = data_pth/f'EM/testing/HR/real-world_SEM/'       # target images\n",
    "target_files = sorted(list(target_dirname.glob('*.tif')))\n",
    "print('Processing '+str(len(target_files))+' files...')"
   ]
  },
  {
   "cell_type": "code",
   "execution_count": 13,
   "metadata": {},
   "outputs": [
    {
     "data": {
      "text/html": [
       "<style>.container { width:100% !important; }</style>"
      ],
      "text/plain": [
       "<IPython.core.display.HTML object>"
      ]
     },
     "metadata": {},
     "output_type": "display_data"
    },
    {
     "name": "stdout",
     "output_type": "stream",
     "text": [
      "Current size: [6.0, 4.0]\n"
     ]
    }
   ],
   "source": [
    "import ipywidgets as widgets\n",
    "from ipywidgets import interact, interact_manual\n",
    "from IPython.core.display import display, HTML\n",
    "display(HTML(\"<style>.container { width:100% !important; }</style>\"))\n",
    "np.set_printoptions(linewidth=110)\n",
    "\n",
    "# Set size for visualizations\n",
    "fig_size = plt.rcParams[\"figure.figsize\"]  # Get current size\n",
    "print(\"Current size:\", fig_size)\n",
    " \n",
    "# Set figure width to 12 and height to 9\n",
    "fig_size[0] = 30\n",
    "fig_size[1] = 24\n",
    "plt.rcParams[\"figure.figsize\"] = fig_size"
   ]
  },
  {
   "cell_type": "code",
   "execution_count": 14,
   "metadata": {},
   "outputs": [],
   "source": [
    "def visualize_sample(img_fname1, img_fname2, targ_fname, title1=model_1_name, title2=\"Target\", title3=model_2_name):\n",
    "    model1_im = PIL.Image.open(img_fname1) # load image to tensor\n",
    "    targ_im = PIL.Image.open(targ_fname)\n",
    "    model2_im = PIL.Image.open(img_fname2)\n",
    "    \n",
    "    model1_arr = np.asarray(model1_im, np.uint8)\n",
    "    model2_arr = np.asarray(model2_im, np.uint8)\n",
    "    targ_arr = np.asarray(targ_im, np.uint8)\n",
    "    \n",
    "    model1_psnr = compare_psnr(targ_arr, model1_arr, data_range=255.)\n",
    "    model1_ssim = compare_ssim(targ_arr, model1_arr, data_range=255.)\n",
    "    model2_psnr = compare_psnr(targ_arr, model2_arr, data_range=255.)\n",
    "    model2_ssim = compare_ssim(targ_arr, model2_arr, data_range=255.)\n",
    "    f, axarr = plt.subplots(1,3) # create visualizations\n",
    "    axarr[0].imshow(np.squeeze(model1_arr), cmap=plt.cm.gray) # visualize image tensor\n",
    "    axarr[0].set_title(title1)\n",
    "    axarr[0].set_xlabel(f\"PSNR: {model1_psnr:.2f}, SSIM: {model1_ssim:.2f}\")\n",
    "    axarr[1].imshow(np.squeeze(targ_arr), cmap=plt.cm.gray) # visualize original image file\n",
    "    axarr[1].set_title(title2)\n",
    "    axarr[2].imshow(np.squeeze(model2_arr), cmap=plt.cm.gray) # visualize image tensor\n",
    "    axarr[2].set_title(title3)\n",
    "    axarr[2].set_xlabel(f\"PSNR: {model2_psnr:.2f}, SSIM: {model2_ssim:.2f}\")\n",
    "    plt.show() # show visualization"
   ]
  },
  {
   "cell_type": "code",
   "execution_count": 21,
   "metadata": {
    "scrolled": true
   },
   "outputs": [
    {
     "data": {
      "application/vnd.jupyter.widget-view+json": {
       "model_id": "440fd4a7aeef4868bd0cdaec86043bd7",
       "version_major": 2,
       "version_minor": 0
      },
      "text/plain": [
       "interactive(children=(IntSlider(value=33, description='sample', max=99, min=-33), Output()), _dom_classes=('wi…"
      ]
     },
     "metadata": {},
     "output_type": "display_data"
    }
   ],
   "source": [
    "@interact\n",
    "def show_sample(sample=33):\n",
    "    return visualize_sample(model1_files[sample], model2_files[sample], target_files[sample])"
   ]
  }
 ],
 "metadata": {
  "kernelspec": {
   "display_name": "Python (Salk)",
   "language": "python",
   "name": "salk"
  },
  "language_info": {
   "codemirror_mode": {
    "name": "ipython",
    "version": 3
   },
   "file_extension": ".py",
   "mimetype": "text/x-python",
   "name": "python",
   "nbconvert_exporter": "python",
   "pygments_lexer": "ipython3",
   "version": "3.7.3"
  }
 },
 "nbformat": 4,
 "nbformat_minor": 2
}
