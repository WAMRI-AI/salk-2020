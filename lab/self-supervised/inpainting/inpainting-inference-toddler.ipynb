{
 "cells": [
  {
   "cell_type": "code",
   "execution_count": 1,
   "metadata": {},
   "outputs": [],
   "source": [
    "critic_type = 'inpainting'"
   ]
  },
  {
   "cell_type": "code",
   "execution_count": 17,
   "metadata": {},
   "outputs": [],
   "source": [
    "model_list = ['5.20_inpaint_transfer_sampled_3.pkl', '5.20_inpaint_imagenet_sampled_3.pkl', \n",
    "              '5.21_inpaint_transfer_toddler_sampled_3.pkl', '5.21_inpaint_imagenet_toddler_sampled_3.pkl']\n",
    "tag_list = ['transfer_sampled', 'imagenet_sampled', 'transfer_toddler_sampled', 'imagenet_toddler_sampled']"
   ]
  },
  {
   "cell_type": "code",
   "execution_count": 3,
   "metadata": {},
   "outputs": [],
   "source": [
    "import sys\n",
    "sys.path.append(\"../../../\")"
   ]
  },
  {
   "cell_type": "code",
   "execution_count": 4,
   "metadata": {},
   "outputs": [],
   "source": [
    "import fastai\n",
    "from torchvision import transforms\n",
    "from fastai import *\n",
    "from fastai.vision import *\n",
    "from fastai.callbacks import *\n",
    "from fastai.script import *\n",
    "\n",
    "from model.metrics import *\n",
    "\n",
    "from skimage.measure import compare_psnr, compare_ssim"
   ]
  },
  {
   "cell_type": "code",
   "execution_count": 5,
   "metadata": {},
   "outputs": [],
   "source": [
    "from data.load import get_data"
   ]
  },
  {
   "cell_type": "markdown",
   "metadata": {},
   "source": [
    "# Choose GPU Device"
   ]
  },
  {
   "cell_type": "code",
   "execution_count": 6,
   "metadata": {},
   "outputs": [],
   "source": [
    "torch.cuda.set_device(1)"
   ]
  },
  {
   "cell_type": "markdown",
   "metadata": {},
   "source": [
    "# Load Data"
   ]
  },
  {
   "cell_type": "markdown",
   "metadata": {},
   "source": [
    "### Parameters for Data Loading"
   ]
  },
  {
   "cell_type": "code",
   "execution_count": 7,
   "metadata": {},
   "outputs": [],
   "source": [
    "data_pth = Path('/home/alaa/Dropbox/BPHO Staff/USF')  # path to dataset\n",
    "lr_dir = f'EM/training/trainsets/lr/'  # input images\n",
    "hr_dir = f'EM/training/trainsets/hr/'  # target images\n",
    "model_path = data_pth/f'EM/models/self_sv/{critic_type}'\n",
    "test_pth = data_pth/f'EM/testing/LR/real-world_SEM'\n",
    "infer_pth = data_pth/f'EM/testing/self_sv/{critic_type}'"
   ]
  },
  {
   "cell_type": "code",
   "execution_count": 8,
   "metadata": {},
   "outputs": [
    {
     "data": {
      "text/plain": [
       "(125, 125)"
      ]
     },
     "execution_count": 8,
     "metadata": {},
     "output_type": "execute_result"
    }
   ],
   "source": [
    "from PIL import Image\n",
    "img = Image.open(list(test_pth.glob('*.tif'))[0])\n",
    "img.size"
   ]
  },
  {
   "cell_type": "code",
   "execution_count": 9,
   "metadata": {},
   "outputs": [],
   "source": [
    "bs = 8  # batch size\n",
    "size = 500  # image size"
   ]
  },
  {
   "cell_type": "code",
   "execution_count": 10,
   "metadata": {},
   "outputs": [],
   "source": [
    "# Store dataset in a databunch object \n",
    "data = get_data(data_pth, lr_dir, hr_dir, bs, \n",
    "                in_sz=size, out_sz=size, max_zoom=1.)"
   ]
  },
  {
   "cell_type": "code",
   "execution_count": 11,
   "metadata": {},
   "outputs": [],
   "source": [
    "from model.metrics import psnr, ssim\n",
    "superres_metrics = [F.mse_loss, psnr, ssim]"
   ]
  },
  {
   "cell_type": "markdown",
   "metadata": {},
   "source": [
    "# Modelling"
   ]
  },
  {
   "cell_type": "markdown",
   "metadata": {},
   "source": [
    "## Load Model"
   ]
  },
  {
   "cell_type": "code",
   "execution_count": 12,
   "metadata": {},
   "outputs": [
    {
     "data": {
      "text/plain": [
       "0"
      ]
     },
     "execution_count": 12,
     "metadata": {},
     "output_type": "execute_result"
    }
   ],
   "source": [
    "arch = models.resnet34\n",
    "wd = 1e-3\n",
    "learn = unet_learner(data, arch, wd=wd, \n",
    "                     #loss_func=feat_loss,\n",
    "                     loss_func=F.l1_loss,\n",
    "                     metrics=superres_metrics,\n",
    "                     #callback_fns=LossMetrics, \n",
    "                     blur=True, norm_type=NormType.Weight, model_dir=model_path)\n",
    "gc.collect()"
   ]
  },
  {
   "cell_type": "markdown",
   "metadata": {},
   "source": [
    "## Inference"
   ]
  },
  {
   "cell_type": "code",
   "execution_count": 13,
   "metadata": {},
   "outputs": [],
   "source": [
    "test_set = ImageList.from_folder(test_pth, convert_mode='L')\n",
    "learn.data.add_test(test_set, tfm_y=False)"
   ]
  },
  {
   "cell_type": "code",
   "execution_count": 14,
   "metadata": {},
   "outputs": [],
   "source": [
    "mean, std = imagenet_stats # norm and denorm"
   ]
  },
  {
   "cell_type": "code",
   "execution_count": 15,
   "metadata": {},
   "outputs": [],
   "source": [
    "def model_inference(learner=learn, folder_name=Path(\"CHANGEME/real-world_SEM\"), img_tag=f\"CHANGEME\"):\n",
    "    dir_name = infer_pth/folder_name\n",
    "    if not os.path.isdir(dir_name): dir_name.mkdir(parents=True, exist_ok=True)\n",
    "    print(dir_name)\n",
    "    \n",
    "    for img, img_name in zip(learner.data.test_ds, learner.data.test_ds.items):\n",
    "        for i in range(3):\n",
    "            img[0].data[i] -= mean[i]\n",
    "            img[0].data[i] /= std[i]\n",
    "        pred = learner.predict(img[0])\n",
    "        for i in range(3):\n",
    "            pred[1][i] *= std[i]\n",
    "            pred[1][i] += mean[i]\n",
    "        pred_img = transforms.ToPILImage()(pred[1][0])\n",
    "        pred_name = dir_name/img_name.name.replace('lr', img_tag)\n",
    "        print(pred_name)\n",
    "        pred_img.save(pred_name)\n",
    "        print(f\"Performed inference on {img_name.stem}, file saved as {pred_name}\")\n",
    "    print(\"Model Inference Complete\")"
   ]
  },
  {
   "cell_type": "code",
   "execution_count": 18,
   "metadata": {},
   "outputs": [
    {
     "name": "stdout",
     "output_type": "stream",
     "text": [
      "/home/alaa/Dropbox/BPHO Staff/USF/EM/testing/self_sv/inpainting/5.20_inpaint_transfer_sampled_3.pkl/real-world_SEM\n",
      "/home/alaa/Dropbox/BPHO Staff/USF/EM/testing/self_sv/inpainting/5.20_inpaint_transfer_sampled_3.pkl/real-world_SEM/realword_SEM_test_transfer_sampled_05.tif\n",
      "Performed inference on realword_SEM_test_lr_05, file saved as /home/alaa/Dropbox/BPHO Staff/USF/EM/testing/self_sv/inpainting/5.20_inpaint_transfer_sampled_3.pkl/real-world_SEM/realword_SEM_test_transfer_sampled_05.tif\n",
      "/home/alaa/Dropbox/BPHO Staff/USF/EM/testing/self_sv/inpainting/5.20_inpaint_transfer_sampled_3.pkl/real-world_SEM/realword_SEM_test_transfer_sampled_38.tif\n",
      "Performed inference on realword_SEM_test_lr_38, file saved as /home/alaa/Dropbox/BPHO Staff/USF/EM/testing/self_sv/inpainting/5.20_inpaint_transfer_sampled_3.pkl/real-world_SEM/realword_SEM_test_transfer_sampled_38.tif\n",
      "/home/alaa/Dropbox/BPHO Staff/USF/EM/testing/self_sv/inpainting/5.20_inpaint_transfer_sampled_3.pkl/real-world_SEM/realword_SEM_test_transfer_sampled_42.tif\n",
      "Performed inference on realword_SEM_test_lr_42, file saved as /home/alaa/Dropbox/BPHO Staff/USF/EM/testing/self_sv/inpainting/5.20_inpaint_transfer_sampled_3.pkl/real-world_SEM/realword_SEM_test_transfer_sampled_42.tif\n",
      "/home/alaa/Dropbox/BPHO Staff/USF/EM/testing/self_sv/inpainting/5.20_inpaint_transfer_sampled_3.pkl/real-world_SEM/realword_SEM_test_transfer_sampled_41.tif\n",
      "Performed inference on realword_SEM_test_lr_41, file saved as /home/alaa/Dropbox/BPHO Staff/USF/EM/testing/self_sv/inpainting/5.20_inpaint_transfer_sampled_3.pkl/real-world_SEM/realword_SEM_test_transfer_sampled_41.tif\n",
      "/home/alaa/Dropbox/BPHO Staff/USF/EM/testing/self_sv/inpainting/5.20_inpaint_transfer_sampled_3.pkl/real-world_SEM/realword_SEM_test_transfer_sampled_10.tif\n",
      "Performed inference on realword_SEM_test_lr_10, file saved as /home/alaa/Dropbox/BPHO Staff/USF/EM/testing/self_sv/inpainting/5.20_inpaint_transfer_sampled_3.pkl/real-world_SEM/realword_SEM_test_transfer_sampled_10.tif\n",
      "/home/alaa/Dropbox/BPHO Staff/USF/EM/testing/self_sv/inpainting/5.20_inpaint_transfer_sampled_3.pkl/real-world_SEM/realword_SEM_test_transfer_sampled_28.tif\n",
      "Performed inference on realword_SEM_test_lr_28, file saved as /home/alaa/Dropbox/BPHO Staff/USF/EM/testing/self_sv/inpainting/5.20_inpaint_transfer_sampled_3.pkl/real-world_SEM/realword_SEM_test_transfer_sampled_28.tif\n",
      "/home/alaa/Dropbox/BPHO Staff/USF/EM/testing/self_sv/inpainting/5.20_inpaint_transfer_sampled_3.pkl/real-world_SEM/realword_SEM_test_transfer_sampled_12.tif\n",
      "Performed inference on realword_SEM_test_lr_12, file saved as /home/alaa/Dropbox/BPHO Staff/USF/EM/testing/self_sv/inpainting/5.20_inpaint_transfer_sampled_3.pkl/real-world_SEM/realword_SEM_test_transfer_sampled_12.tif\n",
      "/home/alaa/Dropbox/BPHO Staff/USF/EM/testing/self_sv/inpainting/5.20_inpaint_transfer_sampled_3.pkl/real-world_SEM/realword_SEM_test_transfer_sampled_09.tif\n",
      "Performed inference on realword_SEM_test_lr_09, file saved as /home/alaa/Dropbox/BPHO Staff/USF/EM/testing/self_sv/inpainting/5.20_inpaint_transfer_sampled_3.pkl/real-world_SEM/realword_SEM_test_transfer_sampled_09.tif\n",
      "/home/alaa/Dropbox/BPHO Staff/USF/EM/testing/self_sv/inpainting/5.20_inpaint_transfer_sampled_3.pkl/real-world_SEM/realword_SEM_test_transfer_sampled_02.tif\n",
      "Performed inference on realword_SEM_test_lr_02, file saved as /home/alaa/Dropbox/BPHO Staff/USF/EM/testing/self_sv/inpainting/5.20_inpaint_transfer_sampled_3.pkl/real-world_SEM/realword_SEM_test_transfer_sampled_02.tif\n",
      "/home/alaa/Dropbox/BPHO Staff/USF/EM/testing/self_sv/inpainting/5.20_inpaint_transfer_sampled_3.pkl/real-world_SEM/realword_SEM_test_transfer_sampled_23.tif\n",
      "Performed inference on realword_SEM_test_lr_23, file saved as /home/alaa/Dropbox/BPHO Staff/USF/EM/testing/self_sv/inpainting/5.20_inpaint_transfer_sampled_3.pkl/real-world_SEM/realword_SEM_test_transfer_sampled_23.tif\n",
      "/home/alaa/Dropbox/BPHO Staff/USF/EM/testing/self_sv/inpainting/5.20_inpaint_transfer_sampled_3.pkl/real-world_SEM/realword_SEM_test_transfer_sampled_04.tif\n",
      "Performed inference on realword_SEM_test_lr_04, file saved as /home/alaa/Dropbox/BPHO Staff/USF/EM/testing/self_sv/inpainting/5.20_inpaint_transfer_sampled_3.pkl/real-world_SEM/realword_SEM_test_transfer_sampled_04.tif\n",
      "/home/alaa/Dropbox/BPHO Staff/USF/EM/testing/self_sv/inpainting/5.20_inpaint_transfer_sampled_3.pkl/real-world_SEM/realword_SEM_test_transfer_sampled_20.tif\n",
      "Performed inference on realword_SEM_test_lr_20, file saved as /home/alaa/Dropbox/BPHO Staff/USF/EM/testing/self_sv/inpainting/5.20_inpaint_transfer_sampled_3.pkl/real-world_SEM/realword_SEM_test_transfer_sampled_20.tif\n",
      "/home/alaa/Dropbox/BPHO Staff/USF/EM/testing/self_sv/inpainting/5.20_inpaint_transfer_sampled_3.pkl/real-world_SEM/realword_SEM_test_transfer_sampled_14.tif\n",
      "Performed inference on realword_SEM_test_lr_14, file saved as /home/alaa/Dropbox/BPHO Staff/USF/EM/testing/self_sv/inpainting/5.20_inpaint_transfer_sampled_3.pkl/real-world_SEM/realword_SEM_test_transfer_sampled_14.tif\n",
      "/home/alaa/Dropbox/BPHO Staff/USF/EM/testing/self_sv/inpainting/5.20_inpaint_transfer_sampled_3.pkl/real-world_SEM/realword_SEM_test_transfer_sampled_32.tif\n",
      "Performed inference on realword_SEM_test_lr_32, file saved as /home/alaa/Dropbox/BPHO Staff/USF/EM/testing/self_sv/inpainting/5.20_inpaint_transfer_sampled_3.pkl/real-world_SEM/realword_SEM_test_transfer_sampled_32.tif\n",
      "/home/alaa/Dropbox/BPHO Staff/USF/EM/testing/self_sv/inpainting/5.20_inpaint_transfer_sampled_3.pkl/real-world_SEM/realword_SEM_test_transfer_sampled_27.tif\n",
      "Performed inference on realword_SEM_test_lr_27, file saved as /home/alaa/Dropbox/BPHO Staff/USF/EM/testing/self_sv/inpainting/5.20_inpaint_transfer_sampled_3.pkl/real-world_SEM/realword_SEM_test_transfer_sampled_27.tif\n",
      "/home/alaa/Dropbox/BPHO Staff/USF/EM/testing/self_sv/inpainting/5.20_inpaint_transfer_sampled_3.pkl/real-world_SEM/realword_SEM_test_transfer_sampled_30.tif\n",
      "Performed inference on realword_SEM_test_lr_30, file saved as /home/alaa/Dropbox/BPHO Staff/USF/EM/testing/self_sv/inpainting/5.20_inpaint_transfer_sampled_3.pkl/real-world_SEM/realword_SEM_test_transfer_sampled_30.tif\n",
      "/home/alaa/Dropbox/BPHO Staff/USF/EM/testing/self_sv/inpainting/5.20_inpaint_transfer_sampled_3.pkl/real-world_SEM/realword_SEM_test_transfer_sampled_22.tif\n",
      "Performed inference on realword_SEM_test_lr_22, file saved as /home/alaa/Dropbox/BPHO Staff/USF/EM/testing/self_sv/inpainting/5.20_inpaint_transfer_sampled_3.pkl/real-world_SEM/realword_SEM_test_transfer_sampled_22.tif\n",
      "/home/alaa/Dropbox/BPHO Staff/USF/EM/testing/self_sv/inpainting/5.20_inpaint_transfer_sampled_3.pkl/real-world_SEM/realword_SEM_test_transfer_sampled_40.tif\n",
      "Performed inference on realword_SEM_test_lr_40, file saved as /home/alaa/Dropbox/BPHO Staff/USF/EM/testing/self_sv/inpainting/5.20_inpaint_transfer_sampled_3.pkl/real-world_SEM/realword_SEM_test_transfer_sampled_40.tif\n",
      "/home/alaa/Dropbox/BPHO Staff/USF/EM/testing/self_sv/inpainting/5.20_inpaint_transfer_sampled_3.pkl/real-world_SEM/realword_SEM_test_transfer_sampled_07.tif\n",
      "Performed inference on realword_SEM_test_lr_07, file saved as /home/alaa/Dropbox/BPHO Staff/USF/EM/testing/self_sv/inpainting/5.20_inpaint_transfer_sampled_3.pkl/real-world_SEM/realword_SEM_test_transfer_sampled_07.tif\n",
      "/home/alaa/Dropbox/BPHO Staff/USF/EM/testing/self_sv/inpainting/5.20_inpaint_transfer_sampled_3.pkl/real-world_SEM/realword_SEM_test_transfer_sampled_29.tif\n",
      "Performed inference on realword_SEM_test_lr_29, file saved as /home/alaa/Dropbox/BPHO Staff/USF/EM/testing/self_sv/inpainting/5.20_inpaint_transfer_sampled_3.pkl/real-world_SEM/realword_SEM_test_transfer_sampled_29.tif\n",
      "/home/alaa/Dropbox/BPHO Staff/USF/EM/testing/self_sv/inpainting/5.20_inpaint_transfer_sampled_3.pkl/real-world_SEM/realword_SEM_test_transfer_sampled_35.tif\n",
      "Performed inference on realword_SEM_test_lr_35, file saved as /home/alaa/Dropbox/BPHO Staff/USF/EM/testing/self_sv/inpainting/5.20_inpaint_transfer_sampled_3.pkl/real-world_SEM/realword_SEM_test_transfer_sampled_35.tif\n",
      "/home/alaa/Dropbox/BPHO Staff/USF/EM/testing/self_sv/inpainting/5.20_inpaint_transfer_sampled_3.pkl/real-world_SEM/realword_SEM_test_transfer_sampled_18.tif\n",
      "Performed inference on realword_SEM_test_lr_18, file saved as /home/alaa/Dropbox/BPHO Staff/USF/EM/testing/self_sv/inpainting/5.20_inpaint_transfer_sampled_3.pkl/real-world_SEM/realword_SEM_test_transfer_sampled_18.tif\n",
      "/home/alaa/Dropbox/BPHO Staff/USF/EM/testing/self_sv/inpainting/5.20_inpaint_transfer_sampled_3.pkl/real-world_SEM/realword_SEM_test_transfer_sampled_19.tif\n",
      "Performed inference on realword_SEM_test_lr_19, file saved as /home/alaa/Dropbox/BPHO Staff/USF/EM/testing/self_sv/inpainting/5.20_inpaint_transfer_sampled_3.pkl/real-world_SEM/realword_SEM_test_transfer_sampled_19.tif\n"
     ]
    },
    {
     "name": "stdout",
     "output_type": "stream",
     "text": [
      "/home/alaa/Dropbox/BPHO Staff/USF/EM/testing/self_sv/inpainting/5.20_inpaint_transfer_sampled_3.pkl/real-world_SEM/realword_SEM_test_transfer_sampled_21.tif\n",
      "Performed inference on realword_SEM_test_lr_21, file saved as /home/alaa/Dropbox/BPHO Staff/USF/EM/testing/self_sv/inpainting/5.20_inpaint_transfer_sampled_3.pkl/real-world_SEM/realword_SEM_test_transfer_sampled_21.tif\n",
      "/home/alaa/Dropbox/BPHO Staff/USF/EM/testing/self_sv/inpainting/5.20_inpaint_transfer_sampled_3.pkl/real-world_SEM/realword_SEM_test_transfer_sampled_26.tif\n",
      "Performed inference on realword_SEM_test_lr_26, file saved as /home/alaa/Dropbox/BPHO Staff/USF/EM/testing/self_sv/inpainting/5.20_inpaint_transfer_sampled_3.pkl/real-world_SEM/realword_SEM_test_transfer_sampled_26.tif\n",
      "/home/alaa/Dropbox/BPHO Staff/USF/EM/testing/self_sv/inpainting/5.20_inpaint_transfer_sampled_3.pkl/real-world_SEM/realword_SEM_test_transfer_sampled_06.tif\n",
      "Performed inference on realword_SEM_test_lr_06, file saved as /home/alaa/Dropbox/BPHO Staff/USF/EM/testing/self_sv/inpainting/5.20_inpaint_transfer_sampled_3.pkl/real-world_SEM/realword_SEM_test_transfer_sampled_06.tif\n",
      "/home/alaa/Dropbox/BPHO Staff/USF/EM/testing/self_sv/inpainting/5.20_inpaint_transfer_sampled_3.pkl/real-world_SEM/realword_SEM_test_transfer_sampled_24.tif\n",
      "Performed inference on realword_SEM_test_lr_24, file saved as /home/alaa/Dropbox/BPHO Staff/USF/EM/testing/self_sv/inpainting/5.20_inpaint_transfer_sampled_3.pkl/real-world_SEM/realword_SEM_test_transfer_sampled_24.tif\n",
      "/home/alaa/Dropbox/BPHO Staff/USF/EM/testing/self_sv/inpainting/5.20_inpaint_transfer_sampled_3.pkl/real-world_SEM/realword_SEM_test_transfer_sampled_11.tif\n",
      "Performed inference on realword_SEM_test_lr_11, file saved as /home/alaa/Dropbox/BPHO Staff/USF/EM/testing/self_sv/inpainting/5.20_inpaint_transfer_sampled_3.pkl/real-world_SEM/realword_SEM_test_transfer_sampled_11.tif\n",
      "/home/alaa/Dropbox/BPHO Staff/USF/EM/testing/self_sv/inpainting/5.20_inpaint_transfer_sampled_3.pkl/real-world_SEM/realword_SEM_test_transfer_sampled_31.tif\n",
      "Performed inference on realword_SEM_test_lr_31, file saved as /home/alaa/Dropbox/BPHO Staff/USF/EM/testing/self_sv/inpainting/5.20_inpaint_transfer_sampled_3.pkl/real-world_SEM/realword_SEM_test_transfer_sampled_31.tif\n",
      "/home/alaa/Dropbox/BPHO Staff/USF/EM/testing/self_sv/inpainting/5.20_inpaint_transfer_sampled_3.pkl/real-world_SEM/realword_SEM_test_transfer_sampled_17.tif\n",
      "Performed inference on realword_SEM_test_lr_17, file saved as /home/alaa/Dropbox/BPHO Staff/USF/EM/testing/self_sv/inpainting/5.20_inpaint_transfer_sampled_3.pkl/real-world_SEM/realword_SEM_test_transfer_sampled_17.tif\n",
      "/home/alaa/Dropbox/BPHO Staff/USF/EM/testing/self_sv/inpainting/5.20_inpaint_transfer_sampled_3.pkl/real-world_SEM/realword_SEM_test_transfer_sampled_08.tif\n",
      "Performed inference on realword_SEM_test_lr_08, file saved as /home/alaa/Dropbox/BPHO Staff/USF/EM/testing/self_sv/inpainting/5.20_inpaint_transfer_sampled_3.pkl/real-world_SEM/realword_SEM_test_transfer_sampled_08.tif\n",
      "/home/alaa/Dropbox/BPHO Staff/USF/EM/testing/self_sv/inpainting/5.20_inpaint_transfer_sampled_3.pkl/real-world_SEM/realword_SEM_test_transfer_sampled_01.tif\n",
      "Performed inference on realword_SEM_test_lr_01, file saved as /home/alaa/Dropbox/BPHO Staff/USF/EM/testing/self_sv/inpainting/5.20_inpaint_transfer_sampled_3.pkl/real-world_SEM/realword_SEM_test_transfer_sampled_01.tif\n",
      "/home/alaa/Dropbox/BPHO Staff/USF/EM/testing/self_sv/inpainting/5.20_inpaint_transfer_sampled_3.pkl/real-world_SEM/realword_SEM_test_transfer_sampled_13.tif\n",
      "Performed inference on realword_SEM_test_lr_13, file saved as /home/alaa/Dropbox/BPHO Staff/USF/EM/testing/self_sv/inpainting/5.20_inpaint_transfer_sampled_3.pkl/real-world_SEM/realword_SEM_test_transfer_sampled_13.tif\n",
      "/home/alaa/Dropbox/BPHO Staff/USF/EM/testing/self_sv/inpainting/5.20_inpaint_transfer_sampled_3.pkl/real-world_SEM/realword_SEM_test_transfer_sampled_34.tif\n",
      "Performed inference on realword_SEM_test_lr_34, file saved as /home/alaa/Dropbox/BPHO Staff/USF/EM/testing/self_sv/inpainting/5.20_inpaint_transfer_sampled_3.pkl/real-world_SEM/realword_SEM_test_transfer_sampled_34.tif\n",
      "/home/alaa/Dropbox/BPHO Staff/USF/EM/testing/self_sv/inpainting/5.20_inpaint_transfer_sampled_3.pkl/real-world_SEM/realword_SEM_test_transfer_sampled_37.tif\n",
      "Performed inference on realword_SEM_test_lr_37, file saved as /home/alaa/Dropbox/BPHO Staff/USF/EM/testing/self_sv/inpainting/5.20_inpaint_transfer_sampled_3.pkl/real-world_SEM/realword_SEM_test_transfer_sampled_37.tif\n",
      "/home/alaa/Dropbox/BPHO Staff/USF/EM/testing/self_sv/inpainting/5.20_inpaint_transfer_sampled_3.pkl/real-world_SEM/realword_SEM_test_transfer_sampled_25.tif\n",
      "Performed inference on realword_SEM_test_lr_25, file saved as /home/alaa/Dropbox/BPHO Staff/USF/EM/testing/self_sv/inpainting/5.20_inpaint_transfer_sampled_3.pkl/real-world_SEM/realword_SEM_test_transfer_sampled_25.tif\n",
      "/home/alaa/Dropbox/BPHO Staff/USF/EM/testing/self_sv/inpainting/5.20_inpaint_transfer_sampled_3.pkl/real-world_SEM/realword_SEM_test_transfer_sampled_03.tif\n",
      "Performed inference on realword_SEM_test_lr_03, file saved as /home/alaa/Dropbox/BPHO Staff/USF/EM/testing/self_sv/inpainting/5.20_inpaint_transfer_sampled_3.pkl/real-world_SEM/realword_SEM_test_transfer_sampled_03.tif\n",
      "/home/alaa/Dropbox/BPHO Staff/USF/EM/testing/self_sv/inpainting/5.20_inpaint_transfer_sampled_3.pkl/real-world_SEM/realword_SEM_test_transfer_sampled_16.tif\n",
      "Performed inference on realword_SEM_test_lr_16, file saved as /home/alaa/Dropbox/BPHO Staff/USF/EM/testing/self_sv/inpainting/5.20_inpaint_transfer_sampled_3.pkl/real-world_SEM/realword_SEM_test_transfer_sampled_16.tif\n",
      "/home/alaa/Dropbox/BPHO Staff/USF/EM/testing/self_sv/inpainting/5.20_inpaint_transfer_sampled_3.pkl/real-world_SEM/realword_SEM_test_transfer_sampled_33.tif\n",
      "Performed inference on realword_SEM_test_lr_33, file saved as /home/alaa/Dropbox/BPHO Staff/USF/EM/testing/self_sv/inpainting/5.20_inpaint_transfer_sampled_3.pkl/real-world_SEM/realword_SEM_test_transfer_sampled_33.tif\n",
      "/home/alaa/Dropbox/BPHO Staff/USF/EM/testing/self_sv/inpainting/5.20_inpaint_transfer_sampled_3.pkl/real-world_SEM/realword_SEM_test_transfer_sampled_15.tif\n",
      "Performed inference on realword_SEM_test_lr_15, file saved as /home/alaa/Dropbox/BPHO Staff/USF/EM/testing/self_sv/inpainting/5.20_inpaint_transfer_sampled_3.pkl/real-world_SEM/realword_SEM_test_transfer_sampled_15.tif\n",
      "/home/alaa/Dropbox/BPHO Staff/USF/EM/testing/self_sv/inpainting/5.20_inpaint_transfer_sampled_3.pkl/real-world_SEM/realword_SEM_test_transfer_sampled_39.tif\n",
      "Performed inference on realword_SEM_test_lr_39, file saved as /home/alaa/Dropbox/BPHO Staff/USF/EM/testing/self_sv/inpainting/5.20_inpaint_transfer_sampled_3.pkl/real-world_SEM/realword_SEM_test_transfer_sampled_39.tif\n",
      "/home/alaa/Dropbox/BPHO Staff/USF/EM/testing/self_sv/inpainting/5.20_inpaint_transfer_sampled_3.pkl/real-world_SEM/realword_SEM_test_transfer_sampled_36.tif\n",
      "Performed inference on realword_SEM_test_lr_36, file saved as /home/alaa/Dropbox/BPHO Staff/USF/EM/testing/self_sv/inpainting/5.20_inpaint_transfer_sampled_3.pkl/real-world_SEM/realword_SEM_test_transfer_sampled_36.tif\n",
      "Model Inference Complete\n",
      "/home/alaa/Dropbox/BPHO Staff/USF/EM/testing/self_sv/inpainting/5.20_inpaint_imagenet_sampled_3.pkl/real-world_SEM\n",
      "/home/alaa/Dropbox/BPHO Staff/USF/EM/testing/self_sv/inpainting/5.20_inpaint_imagenet_sampled_3.pkl/real-world_SEM/realword_SEM_test_imagenet_sampled_05.tif\n",
      "Performed inference on realword_SEM_test_lr_05, file saved as /home/alaa/Dropbox/BPHO Staff/USF/EM/testing/self_sv/inpainting/5.20_inpaint_imagenet_sampled_3.pkl/real-world_SEM/realword_SEM_test_imagenet_sampled_05.tif\n",
      "/home/alaa/Dropbox/BPHO Staff/USF/EM/testing/self_sv/inpainting/5.20_inpaint_imagenet_sampled_3.pkl/real-world_SEM/realword_SEM_test_imagenet_sampled_38.tif\n",
      "Performed inference on realword_SEM_test_lr_38, file saved as /home/alaa/Dropbox/BPHO Staff/USF/EM/testing/self_sv/inpainting/5.20_inpaint_imagenet_sampled_3.pkl/real-world_SEM/realword_SEM_test_imagenet_sampled_38.tif\n",
      "/home/alaa/Dropbox/BPHO Staff/USF/EM/testing/self_sv/inpainting/5.20_inpaint_imagenet_sampled_3.pkl/real-world_SEM/realword_SEM_test_imagenet_sampled_42.tif\n",
      "Performed inference on realword_SEM_test_lr_42, file saved as /home/alaa/Dropbox/BPHO Staff/USF/EM/testing/self_sv/inpainting/5.20_inpaint_imagenet_sampled_3.pkl/real-world_SEM/realword_SEM_test_imagenet_sampled_42.tif\n"
     ]
    },
    {
     "name": "stdout",
     "output_type": "stream",
     "text": [
      "/home/alaa/Dropbox/BPHO Staff/USF/EM/testing/self_sv/inpainting/5.20_inpaint_imagenet_sampled_3.pkl/real-world_SEM/realword_SEM_test_imagenet_sampled_41.tif\n",
      "Performed inference on realword_SEM_test_lr_41, file saved as /home/alaa/Dropbox/BPHO Staff/USF/EM/testing/self_sv/inpainting/5.20_inpaint_imagenet_sampled_3.pkl/real-world_SEM/realword_SEM_test_imagenet_sampled_41.tif\n",
      "/home/alaa/Dropbox/BPHO Staff/USF/EM/testing/self_sv/inpainting/5.20_inpaint_imagenet_sampled_3.pkl/real-world_SEM/realword_SEM_test_imagenet_sampled_10.tif\n",
      "Performed inference on realword_SEM_test_lr_10, file saved as /home/alaa/Dropbox/BPHO Staff/USF/EM/testing/self_sv/inpainting/5.20_inpaint_imagenet_sampled_3.pkl/real-world_SEM/realword_SEM_test_imagenet_sampled_10.tif\n",
      "/home/alaa/Dropbox/BPHO Staff/USF/EM/testing/self_sv/inpainting/5.20_inpaint_imagenet_sampled_3.pkl/real-world_SEM/realword_SEM_test_imagenet_sampled_28.tif\n",
      "Performed inference on realword_SEM_test_lr_28, file saved as /home/alaa/Dropbox/BPHO Staff/USF/EM/testing/self_sv/inpainting/5.20_inpaint_imagenet_sampled_3.pkl/real-world_SEM/realword_SEM_test_imagenet_sampled_28.tif\n",
      "/home/alaa/Dropbox/BPHO Staff/USF/EM/testing/self_sv/inpainting/5.20_inpaint_imagenet_sampled_3.pkl/real-world_SEM/realword_SEM_test_imagenet_sampled_12.tif\n",
      "Performed inference on realword_SEM_test_lr_12, file saved as /home/alaa/Dropbox/BPHO Staff/USF/EM/testing/self_sv/inpainting/5.20_inpaint_imagenet_sampled_3.pkl/real-world_SEM/realword_SEM_test_imagenet_sampled_12.tif\n",
      "/home/alaa/Dropbox/BPHO Staff/USF/EM/testing/self_sv/inpainting/5.20_inpaint_imagenet_sampled_3.pkl/real-world_SEM/realword_SEM_test_imagenet_sampled_09.tif\n",
      "Performed inference on realword_SEM_test_lr_09, file saved as /home/alaa/Dropbox/BPHO Staff/USF/EM/testing/self_sv/inpainting/5.20_inpaint_imagenet_sampled_3.pkl/real-world_SEM/realword_SEM_test_imagenet_sampled_09.tif\n",
      "/home/alaa/Dropbox/BPHO Staff/USF/EM/testing/self_sv/inpainting/5.20_inpaint_imagenet_sampled_3.pkl/real-world_SEM/realword_SEM_test_imagenet_sampled_02.tif\n",
      "Performed inference on realword_SEM_test_lr_02, file saved as /home/alaa/Dropbox/BPHO Staff/USF/EM/testing/self_sv/inpainting/5.20_inpaint_imagenet_sampled_3.pkl/real-world_SEM/realword_SEM_test_imagenet_sampled_02.tif\n",
      "/home/alaa/Dropbox/BPHO Staff/USF/EM/testing/self_sv/inpainting/5.20_inpaint_imagenet_sampled_3.pkl/real-world_SEM/realword_SEM_test_imagenet_sampled_23.tif\n",
      "Performed inference on realword_SEM_test_lr_23, file saved as /home/alaa/Dropbox/BPHO Staff/USF/EM/testing/self_sv/inpainting/5.20_inpaint_imagenet_sampled_3.pkl/real-world_SEM/realword_SEM_test_imagenet_sampled_23.tif\n",
      "/home/alaa/Dropbox/BPHO Staff/USF/EM/testing/self_sv/inpainting/5.20_inpaint_imagenet_sampled_3.pkl/real-world_SEM/realword_SEM_test_imagenet_sampled_04.tif\n",
      "Performed inference on realword_SEM_test_lr_04, file saved as /home/alaa/Dropbox/BPHO Staff/USF/EM/testing/self_sv/inpainting/5.20_inpaint_imagenet_sampled_3.pkl/real-world_SEM/realword_SEM_test_imagenet_sampled_04.tif\n",
      "/home/alaa/Dropbox/BPHO Staff/USF/EM/testing/self_sv/inpainting/5.20_inpaint_imagenet_sampled_3.pkl/real-world_SEM/realword_SEM_test_imagenet_sampled_20.tif\n",
      "Performed inference on realword_SEM_test_lr_20, file saved as /home/alaa/Dropbox/BPHO Staff/USF/EM/testing/self_sv/inpainting/5.20_inpaint_imagenet_sampled_3.pkl/real-world_SEM/realword_SEM_test_imagenet_sampled_20.tif\n",
      "/home/alaa/Dropbox/BPHO Staff/USF/EM/testing/self_sv/inpainting/5.20_inpaint_imagenet_sampled_3.pkl/real-world_SEM/realword_SEM_test_imagenet_sampled_14.tif\n",
      "Performed inference on realword_SEM_test_lr_14, file saved as /home/alaa/Dropbox/BPHO Staff/USF/EM/testing/self_sv/inpainting/5.20_inpaint_imagenet_sampled_3.pkl/real-world_SEM/realword_SEM_test_imagenet_sampled_14.tif\n",
      "/home/alaa/Dropbox/BPHO Staff/USF/EM/testing/self_sv/inpainting/5.20_inpaint_imagenet_sampled_3.pkl/real-world_SEM/realword_SEM_test_imagenet_sampled_32.tif\n",
      "Performed inference on realword_SEM_test_lr_32, file saved as /home/alaa/Dropbox/BPHO Staff/USF/EM/testing/self_sv/inpainting/5.20_inpaint_imagenet_sampled_3.pkl/real-world_SEM/realword_SEM_test_imagenet_sampled_32.tif\n",
      "/home/alaa/Dropbox/BPHO Staff/USF/EM/testing/self_sv/inpainting/5.20_inpaint_imagenet_sampled_3.pkl/real-world_SEM/realword_SEM_test_imagenet_sampled_27.tif\n",
      "Performed inference on realword_SEM_test_lr_27, file saved as /home/alaa/Dropbox/BPHO Staff/USF/EM/testing/self_sv/inpainting/5.20_inpaint_imagenet_sampled_3.pkl/real-world_SEM/realword_SEM_test_imagenet_sampled_27.tif\n",
      "/home/alaa/Dropbox/BPHO Staff/USF/EM/testing/self_sv/inpainting/5.20_inpaint_imagenet_sampled_3.pkl/real-world_SEM/realword_SEM_test_imagenet_sampled_30.tif\n",
      "Performed inference on realword_SEM_test_lr_30, file saved as /home/alaa/Dropbox/BPHO Staff/USF/EM/testing/self_sv/inpainting/5.20_inpaint_imagenet_sampled_3.pkl/real-world_SEM/realword_SEM_test_imagenet_sampled_30.tif\n",
      "/home/alaa/Dropbox/BPHO Staff/USF/EM/testing/self_sv/inpainting/5.20_inpaint_imagenet_sampled_3.pkl/real-world_SEM/realword_SEM_test_imagenet_sampled_22.tif\n",
      "Performed inference on realword_SEM_test_lr_22, file saved as /home/alaa/Dropbox/BPHO Staff/USF/EM/testing/self_sv/inpainting/5.20_inpaint_imagenet_sampled_3.pkl/real-world_SEM/realword_SEM_test_imagenet_sampled_22.tif\n",
      "/home/alaa/Dropbox/BPHO Staff/USF/EM/testing/self_sv/inpainting/5.20_inpaint_imagenet_sampled_3.pkl/real-world_SEM/realword_SEM_test_imagenet_sampled_40.tif\n",
      "Performed inference on realword_SEM_test_lr_40, file saved as /home/alaa/Dropbox/BPHO Staff/USF/EM/testing/self_sv/inpainting/5.20_inpaint_imagenet_sampled_3.pkl/real-world_SEM/realword_SEM_test_imagenet_sampled_40.tif\n",
      "/home/alaa/Dropbox/BPHO Staff/USF/EM/testing/self_sv/inpainting/5.20_inpaint_imagenet_sampled_3.pkl/real-world_SEM/realword_SEM_test_imagenet_sampled_07.tif\n",
      "Performed inference on realword_SEM_test_lr_07, file saved as /home/alaa/Dropbox/BPHO Staff/USF/EM/testing/self_sv/inpainting/5.20_inpaint_imagenet_sampled_3.pkl/real-world_SEM/realword_SEM_test_imagenet_sampled_07.tif\n",
      "/home/alaa/Dropbox/BPHO Staff/USF/EM/testing/self_sv/inpainting/5.20_inpaint_imagenet_sampled_3.pkl/real-world_SEM/realword_SEM_test_imagenet_sampled_29.tif\n",
      "Performed inference on realword_SEM_test_lr_29, file saved as /home/alaa/Dropbox/BPHO Staff/USF/EM/testing/self_sv/inpainting/5.20_inpaint_imagenet_sampled_3.pkl/real-world_SEM/realword_SEM_test_imagenet_sampled_29.tif\n",
      "/home/alaa/Dropbox/BPHO Staff/USF/EM/testing/self_sv/inpainting/5.20_inpaint_imagenet_sampled_3.pkl/real-world_SEM/realword_SEM_test_imagenet_sampled_35.tif\n",
      "Performed inference on realword_SEM_test_lr_35, file saved as /home/alaa/Dropbox/BPHO Staff/USF/EM/testing/self_sv/inpainting/5.20_inpaint_imagenet_sampled_3.pkl/real-world_SEM/realword_SEM_test_imagenet_sampled_35.tif\n",
      "/home/alaa/Dropbox/BPHO Staff/USF/EM/testing/self_sv/inpainting/5.20_inpaint_imagenet_sampled_3.pkl/real-world_SEM/realword_SEM_test_imagenet_sampled_18.tif\n",
      "Performed inference on realword_SEM_test_lr_18, file saved as /home/alaa/Dropbox/BPHO Staff/USF/EM/testing/self_sv/inpainting/5.20_inpaint_imagenet_sampled_3.pkl/real-world_SEM/realword_SEM_test_imagenet_sampled_18.tif\n",
      "/home/alaa/Dropbox/BPHO Staff/USF/EM/testing/self_sv/inpainting/5.20_inpaint_imagenet_sampled_3.pkl/real-world_SEM/realword_SEM_test_imagenet_sampled_19.tif\n",
      "Performed inference on realword_SEM_test_lr_19, file saved as /home/alaa/Dropbox/BPHO Staff/USF/EM/testing/self_sv/inpainting/5.20_inpaint_imagenet_sampled_3.pkl/real-world_SEM/realword_SEM_test_imagenet_sampled_19.tif\n",
      "/home/alaa/Dropbox/BPHO Staff/USF/EM/testing/self_sv/inpainting/5.20_inpaint_imagenet_sampled_3.pkl/real-world_SEM/realword_SEM_test_imagenet_sampled_21.tif\n",
      "Performed inference on realword_SEM_test_lr_21, file saved as /home/alaa/Dropbox/BPHO Staff/USF/EM/testing/self_sv/inpainting/5.20_inpaint_imagenet_sampled_3.pkl/real-world_SEM/realword_SEM_test_imagenet_sampled_21.tif\n",
      "/home/alaa/Dropbox/BPHO Staff/USF/EM/testing/self_sv/inpainting/5.20_inpaint_imagenet_sampled_3.pkl/real-world_SEM/realword_SEM_test_imagenet_sampled_26.tif\n",
      "Performed inference on realword_SEM_test_lr_26, file saved as /home/alaa/Dropbox/BPHO Staff/USF/EM/testing/self_sv/inpainting/5.20_inpaint_imagenet_sampled_3.pkl/real-world_SEM/realword_SEM_test_imagenet_sampled_26.tif\n",
      "/home/alaa/Dropbox/BPHO Staff/USF/EM/testing/self_sv/inpainting/5.20_inpaint_imagenet_sampled_3.pkl/real-world_SEM/realword_SEM_test_imagenet_sampled_06.tif\n",
      "Performed inference on realword_SEM_test_lr_06, file saved as /home/alaa/Dropbox/BPHO Staff/USF/EM/testing/self_sv/inpainting/5.20_inpaint_imagenet_sampled_3.pkl/real-world_SEM/realword_SEM_test_imagenet_sampled_06.tif\n",
      "/home/alaa/Dropbox/BPHO Staff/USF/EM/testing/self_sv/inpainting/5.20_inpaint_imagenet_sampled_3.pkl/real-world_SEM/realword_SEM_test_imagenet_sampled_24.tif\n",
      "Performed inference on realword_SEM_test_lr_24, file saved as /home/alaa/Dropbox/BPHO Staff/USF/EM/testing/self_sv/inpainting/5.20_inpaint_imagenet_sampled_3.pkl/real-world_SEM/realword_SEM_test_imagenet_sampled_24.tif\n"
     ]
    },
    {
     "name": "stdout",
     "output_type": "stream",
     "text": [
      "/home/alaa/Dropbox/BPHO Staff/USF/EM/testing/self_sv/inpainting/5.20_inpaint_imagenet_sampled_3.pkl/real-world_SEM/realword_SEM_test_imagenet_sampled_11.tif\n",
      "Performed inference on realword_SEM_test_lr_11, file saved as /home/alaa/Dropbox/BPHO Staff/USF/EM/testing/self_sv/inpainting/5.20_inpaint_imagenet_sampled_3.pkl/real-world_SEM/realword_SEM_test_imagenet_sampled_11.tif\n",
      "/home/alaa/Dropbox/BPHO Staff/USF/EM/testing/self_sv/inpainting/5.20_inpaint_imagenet_sampled_3.pkl/real-world_SEM/realword_SEM_test_imagenet_sampled_31.tif\n",
      "Performed inference on realword_SEM_test_lr_31, file saved as /home/alaa/Dropbox/BPHO Staff/USF/EM/testing/self_sv/inpainting/5.20_inpaint_imagenet_sampled_3.pkl/real-world_SEM/realword_SEM_test_imagenet_sampled_31.tif\n",
      "/home/alaa/Dropbox/BPHO Staff/USF/EM/testing/self_sv/inpainting/5.20_inpaint_imagenet_sampled_3.pkl/real-world_SEM/realword_SEM_test_imagenet_sampled_17.tif\n",
      "Performed inference on realword_SEM_test_lr_17, file saved as /home/alaa/Dropbox/BPHO Staff/USF/EM/testing/self_sv/inpainting/5.20_inpaint_imagenet_sampled_3.pkl/real-world_SEM/realword_SEM_test_imagenet_sampled_17.tif\n",
      "/home/alaa/Dropbox/BPHO Staff/USF/EM/testing/self_sv/inpainting/5.20_inpaint_imagenet_sampled_3.pkl/real-world_SEM/realword_SEM_test_imagenet_sampled_08.tif\n",
      "Performed inference on realword_SEM_test_lr_08, file saved as /home/alaa/Dropbox/BPHO Staff/USF/EM/testing/self_sv/inpainting/5.20_inpaint_imagenet_sampled_3.pkl/real-world_SEM/realword_SEM_test_imagenet_sampled_08.tif\n",
      "/home/alaa/Dropbox/BPHO Staff/USF/EM/testing/self_sv/inpainting/5.20_inpaint_imagenet_sampled_3.pkl/real-world_SEM/realword_SEM_test_imagenet_sampled_01.tif\n",
      "Performed inference on realword_SEM_test_lr_01, file saved as /home/alaa/Dropbox/BPHO Staff/USF/EM/testing/self_sv/inpainting/5.20_inpaint_imagenet_sampled_3.pkl/real-world_SEM/realword_SEM_test_imagenet_sampled_01.tif\n",
      "/home/alaa/Dropbox/BPHO Staff/USF/EM/testing/self_sv/inpainting/5.20_inpaint_imagenet_sampled_3.pkl/real-world_SEM/realword_SEM_test_imagenet_sampled_13.tif\n",
      "Performed inference on realword_SEM_test_lr_13, file saved as /home/alaa/Dropbox/BPHO Staff/USF/EM/testing/self_sv/inpainting/5.20_inpaint_imagenet_sampled_3.pkl/real-world_SEM/realword_SEM_test_imagenet_sampled_13.tif\n",
      "/home/alaa/Dropbox/BPHO Staff/USF/EM/testing/self_sv/inpainting/5.20_inpaint_imagenet_sampled_3.pkl/real-world_SEM/realword_SEM_test_imagenet_sampled_34.tif\n",
      "Performed inference on realword_SEM_test_lr_34, file saved as /home/alaa/Dropbox/BPHO Staff/USF/EM/testing/self_sv/inpainting/5.20_inpaint_imagenet_sampled_3.pkl/real-world_SEM/realword_SEM_test_imagenet_sampled_34.tif\n",
      "/home/alaa/Dropbox/BPHO Staff/USF/EM/testing/self_sv/inpainting/5.20_inpaint_imagenet_sampled_3.pkl/real-world_SEM/realword_SEM_test_imagenet_sampled_37.tif\n",
      "Performed inference on realword_SEM_test_lr_37, file saved as /home/alaa/Dropbox/BPHO Staff/USF/EM/testing/self_sv/inpainting/5.20_inpaint_imagenet_sampled_3.pkl/real-world_SEM/realword_SEM_test_imagenet_sampled_37.tif\n",
      "/home/alaa/Dropbox/BPHO Staff/USF/EM/testing/self_sv/inpainting/5.20_inpaint_imagenet_sampled_3.pkl/real-world_SEM/realword_SEM_test_imagenet_sampled_25.tif\n",
      "Performed inference on realword_SEM_test_lr_25, file saved as /home/alaa/Dropbox/BPHO Staff/USF/EM/testing/self_sv/inpainting/5.20_inpaint_imagenet_sampled_3.pkl/real-world_SEM/realword_SEM_test_imagenet_sampled_25.tif\n",
      "/home/alaa/Dropbox/BPHO Staff/USF/EM/testing/self_sv/inpainting/5.20_inpaint_imagenet_sampled_3.pkl/real-world_SEM/realword_SEM_test_imagenet_sampled_03.tif\n",
      "Performed inference on realword_SEM_test_lr_03, file saved as /home/alaa/Dropbox/BPHO Staff/USF/EM/testing/self_sv/inpainting/5.20_inpaint_imagenet_sampled_3.pkl/real-world_SEM/realword_SEM_test_imagenet_sampled_03.tif\n",
      "/home/alaa/Dropbox/BPHO Staff/USF/EM/testing/self_sv/inpainting/5.20_inpaint_imagenet_sampled_3.pkl/real-world_SEM/realword_SEM_test_imagenet_sampled_16.tif\n",
      "Performed inference on realword_SEM_test_lr_16, file saved as /home/alaa/Dropbox/BPHO Staff/USF/EM/testing/self_sv/inpainting/5.20_inpaint_imagenet_sampled_3.pkl/real-world_SEM/realword_SEM_test_imagenet_sampled_16.tif\n",
      "/home/alaa/Dropbox/BPHO Staff/USF/EM/testing/self_sv/inpainting/5.20_inpaint_imagenet_sampled_3.pkl/real-world_SEM/realword_SEM_test_imagenet_sampled_33.tif\n",
      "Performed inference on realword_SEM_test_lr_33, file saved as /home/alaa/Dropbox/BPHO Staff/USF/EM/testing/self_sv/inpainting/5.20_inpaint_imagenet_sampled_3.pkl/real-world_SEM/realword_SEM_test_imagenet_sampled_33.tif\n",
      "/home/alaa/Dropbox/BPHO Staff/USF/EM/testing/self_sv/inpainting/5.20_inpaint_imagenet_sampled_3.pkl/real-world_SEM/realword_SEM_test_imagenet_sampled_15.tif\n",
      "Performed inference on realword_SEM_test_lr_15, file saved as /home/alaa/Dropbox/BPHO Staff/USF/EM/testing/self_sv/inpainting/5.20_inpaint_imagenet_sampled_3.pkl/real-world_SEM/realword_SEM_test_imagenet_sampled_15.tif\n",
      "/home/alaa/Dropbox/BPHO Staff/USF/EM/testing/self_sv/inpainting/5.20_inpaint_imagenet_sampled_3.pkl/real-world_SEM/realword_SEM_test_imagenet_sampled_39.tif\n",
      "Performed inference on realword_SEM_test_lr_39, file saved as /home/alaa/Dropbox/BPHO Staff/USF/EM/testing/self_sv/inpainting/5.20_inpaint_imagenet_sampled_3.pkl/real-world_SEM/realword_SEM_test_imagenet_sampled_39.tif\n",
      "/home/alaa/Dropbox/BPHO Staff/USF/EM/testing/self_sv/inpainting/5.20_inpaint_imagenet_sampled_3.pkl/real-world_SEM/realword_SEM_test_imagenet_sampled_36.tif\n",
      "Performed inference on realword_SEM_test_lr_36, file saved as /home/alaa/Dropbox/BPHO Staff/USF/EM/testing/self_sv/inpainting/5.20_inpaint_imagenet_sampled_3.pkl/real-world_SEM/realword_SEM_test_imagenet_sampled_36.tif\n",
      "Model Inference Complete\n",
      "/home/alaa/Dropbox/BPHO Staff/USF/EM/testing/self_sv/inpainting/5.21_inpaint_transfer_toddler_sampled_3.pkl/real-world_SEM\n",
      "/home/alaa/Dropbox/BPHO Staff/USF/EM/testing/self_sv/inpainting/5.21_inpaint_transfer_toddler_sampled_3.pkl/real-world_SEM/realword_SEM_test_transfer_toddler_sampled_05.tif\n",
      "Performed inference on realword_SEM_test_lr_05, file saved as /home/alaa/Dropbox/BPHO Staff/USF/EM/testing/self_sv/inpainting/5.21_inpaint_transfer_toddler_sampled_3.pkl/real-world_SEM/realword_SEM_test_transfer_toddler_sampled_05.tif\n",
      "/home/alaa/Dropbox/BPHO Staff/USF/EM/testing/self_sv/inpainting/5.21_inpaint_transfer_toddler_sampled_3.pkl/real-world_SEM/realword_SEM_test_transfer_toddler_sampled_38.tif\n",
      "Performed inference on realword_SEM_test_lr_38, file saved as /home/alaa/Dropbox/BPHO Staff/USF/EM/testing/self_sv/inpainting/5.21_inpaint_transfer_toddler_sampled_3.pkl/real-world_SEM/realword_SEM_test_transfer_toddler_sampled_38.tif\n",
      "/home/alaa/Dropbox/BPHO Staff/USF/EM/testing/self_sv/inpainting/5.21_inpaint_transfer_toddler_sampled_3.pkl/real-world_SEM/realword_SEM_test_transfer_toddler_sampled_42.tif\n",
      "Performed inference on realword_SEM_test_lr_42, file saved as /home/alaa/Dropbox/BPHO Staff/USF/EM/testing/self_sv/inpainting/5.21_inpaint_transfer_toddler_sampled_3.pkl/real-world_SEM/realword_SEM_test_transfer_toddler_sampled_42.tif\n",
      "/home/alaa/Dropbox/BPHO Staff/USF/EM/testing/self_sv/inpainting/5.21_inpaint_transfer_toddler_sampled_3.pkl/real-world_SEM/realword_SEM_test_transfer_toddler_sampled_41.tif\n",
      "Performed inference on realword_SEM_test_lr_41, file saved as /home/alaa/Dropbox/BPHO Staff/USF/EM/testing/self_sv/inpainting/5.21_inpaint_transfer_toddler_sampled_3.pkl/real-world_SEM/realword_SEM_test_transfer_toddler_sampled_41.tif\n",
      "/home/alaa/Dropbox/BPHO Staff/USF/EM/testing/self_sv/inpainting/5.21_inpaint_transfer_toddler_sampled_3.pkl/real-world_SEM/realword_SEM_test_transfer_toddler_sampled_10.tif\n",
      "Performed inference on realword_SEM_test_lr_10, file saved as /home/alaa/Dropbox/BPHO Staff/USF/EM/testing/self_sv/inpainting/5.21_inpaint_transfer_toddler_sampled_3.pkl/real-world_SEM/realword_SEM_test_transfer_toddler_sampled_10.tif\n",
      "/home/alaa/Dropbox/BPHO Staff/USF/EM/testing/self_sv/inpainting/5.21_inpaint_transfer_toddler_sampled_3.pkl/real-world_SEM/realword_SEM_test_transfer_toddler_sampled_28.tif\n",
      "Performed inference on realword_SEM_test_lr_28, file saved as /home/alaa/Dropbox/BPHO Staff/USF/EM/testing/self_sv/inpainting/5.21_inpaint_transfer_toddler_sampled_3.pkl/real-world_SEM/realword_SEM_test_transfer_toddler_sampled_28.tif\n",
      "/home/alaa/Dropbox/BPHO Staff/USF/EM/testing/self_sv/inpainting/5.21_inpaint_transfer_toddler_sampled_3.pkl/real-world_SEM/realword_SEM_test_transfer_toddler_sampled_12.tif\n",
      "Performed inference on realword_SEM_test_lr_12, file saved as /home/alaa/Dropbox/BPHO Staff/USF/EM/testing/self_sv/inpainting/5.21_inpaint_transfer_toddler_sampled_3.pkl/real-world_SEM/realword_SEM_test_transfer_toddler_sampled_12.tif\n"
     ]
    },
    {
     "name": "stdout",
     "output_type": "stream",
     "text": [
      "/home/alaa/Dropbox/BPHO Staff/USF/EM/testing/self_sv/inpainting/5.21_inpaint_transfer_toddler_sampled_3.pkl/real-world_SEM/realword_SEM_test_transfer_toddler_sampled_09.tif\n",
      "Performed inference on realword_SEM_test_lr_09, file saved as /home/alaa/Dropbox/BPHO Staff/USF/EM/testing/self_sv/inpainting/5.21_inpaint_transfer_toddler_sampled_3.pkl/real-world_SEM/realword_SEM_test_transfer_toddler_sampled_09.tif\n",
      "/home/alaa/Dropbox/BPHO Staff/USF/EM/testing/self_sv/inpainting/5.21_inpaint_transfer_toddler_sampled_3.pkl/real-world_SEM/realword_SEM_test_transfer_toddler_sampled_02.tif\n",
      "Performed inference on realword_SEM_test_lr_02, file saved as /home/alaa/Dropbox/BPHO Staff/USF/EM/testing/self_sv/inpainting/5.21_inpaint_transfer_toddler_sampled_3.pkl/real-world_SEM/realword_SEM_test_transfer_toddler_sampled_02.tif\n",
      "/home/alaa/Dropbox/BPHO Staff/USF/EM/testing/self_sv/inpainting/5.21_inpaint_transfer_toddler_sampled_3.pkl/real-world_SEM/realword_SEM_test_transfer_toddler_sampled_23.tif\n",
      "Performed inference on realword_SEM_test_lr_23, file saved as /home/alaa/Dropbox/BPHO Staff/USF/EM/testing/self_sv/inpainting/5.21_inpaint_transfer_toddler_sampled_3.pkl/real-world_SEM/realword_SEM_test_transfer_toddler_sampled_23.tif\n",
      "/home/alaa/Dropbox/BPHO Staff/USF/EM/testing/self_sv/inpainting/5.21_inpaint_transfer_toddler_sampled_3.pkl/real-world_SEM/realword_SEM_test_transfer_toddler_sampled_04.tif\n",
      "Performed inference on realword_SEM_test_lr_04, file saved as /home/alaa/Dropbox/BPHO Staff/USF/EM/testing/self_sv/inpainting/5.21_inpaint_transfer_toddler_sampled_3.pkl/real-world_SEM/realword_SEM_test_transfer_toddler_sampled_04.tif\n",
      "/home/alaa/Dropbox/BPHO Staff/USF/EM/testing/self_sv/inpainting/5.21_inpaint_transfer_toddler_sampled_3.pkl/real-world_SEM/realword_SEM_test_transfer_toddler_sampled_20.tif\n",
      "Performed inference on realword_SEM_test_lr_20, file saved as /home/alaa/Dropbox/BPHO Staff/USF/EM/testing/self_sv/inpainting/5.21_inpaint_transfer_toddler_sampled_3.pkl/real-world_SEM/realword_SEM_test_transfer_toddler_sampled_20.tif\n",
      "/home/alaa/Dropbox/BPHO Staff/USF/EM/testing/self_sv/inpainting/5.21_inpaint_transfer_toddler_sampled_3.pkl/real-world_SEM/realword_SEM_test_transfer_toddler_sampled_14.tif\n",
      "Performed inference on realword_SEM_test_lr_14, file saved as /home/alaa/Dropbox/BPHO Staff/USF/EM/testing/self_sv/inpainting/5.21_inpaint_transfer_toddler_sampled_3.pkl/real-world_SEM/realword_SEM_test_transfer_toddler_sampled_14.tif\n",
      "/home/alaa/Dropbox/BPHO Staff/USF/EM/testing/self_sv/inpainting/5.21_inpaint_transfer_toddler_sampled_3.pkl/real-world_SEM/realword_SEM_test_transfer_toddler_sampled_32.tif\n",
      "Performed inference on realword_SEM_test_lr_32, file saved as /home/alaa/Dropbox/BPHO Staff/USF/EM/testing/self_sv/inpainting/5.21_inpaint_transfer_toddler_sampled_3.pkl/real-world_SEM/realword_SEM_test_transfer_toddler_sampled_32.tif\n",
      "/home/alaa/Dropbox/BPHO Staff/USF/EM/testing/self_sv/inpainting/5.21_inpaint_transfer_toddler_sampled_3.pkl/real-world_SEM/realword_SEM_test_transfer_toddler_sampled_27.tif\n",
      "Performed inference on realword_SEM_test_lr_27, file saved as /home/alaa/Dropbox/BPHO Staff/USF/EM/testing/self_sv/inpainting/5.21_inpaint_transfer_toddler_sampled_3.pkl/real-world_SEM/realword_SEM_test_transfer_toddler_sampled_27.tif\n",
      "/home/alaa/Dropbox/BPHO Staff/USF/EM/testing/self_sv/inpainting/5.21_inpaint_transfer_toddler_sampled_3.pkl/real-world_SEM/realword_SEM_test_transfer_toddler_sampled_30.tif\n",
      "Performed inference on realword_SEM_test_lr_30, file saved as /home/alaa/Dropbox/BPHO Staff/USF/EM/testing/self_sv/inpainting/5.21_inpaint_transfer_toddler_sampled_3.pkl/real-world_SEM/realword_SEM_test_transfer_toddler_sampled_30.tif\n",
      "/home/alaa/Dropbox/BPHO Staff/USF/EM/testing/self_sv/inpainting/5.21_inpaint_transfer_toddler_sampled_3.pkl/real-world_SEM/realword_SEM_test_transfer_toddler_sampled_22.tif\n",
      "Performed inference on realword_SEM_test_lr_22, file saved as /home/alaa/Dropbox/BPHO Staff/USF/EM/testing/self_sv/inpainting/5.21_inpaint_transfer_toddler_sampled_3.pkl/real-world_SEM/realword_SEM_test_transfer_toddler_sampled_22.tif\n",
      "/home/alaa/Dropbox/BPHO Staff/USF/EM/testing/self_sv/inpainting/5.21_inpaint_transfer_toddler_sampled_3.pkl/real-world_SEM/realword_SEM_test_transfer_toddler_sampled_40.tif\n",
      "Performed inference on realword_SEM_test_lr_40, file saved as /home/alaa/Dropbox/BPHO Staff/USF/EM/testing/self_sv/inpainting/5.21_inpaint_transfer_toddler_sampled_3.pkl/real-world_SEM/realword_SEM_test_transfer_toddler_sampled_40.tif\n",
      "/home/alaa/Dropbox/BPHO Staff/USF/EM/testing/self_sv/inpainting/5.21_inpaint_transfer_toddler_sampled_3.pkl/real-world_SEM/realword_SEM_test_transfer_toddler_sampled_07.tif\n",
      "Performed inference on realword_SEM_test_lr_07, file saved as /home/alaa/Dropbox/BPHO Staff/USF/EM/testing/self_sv/inpainting/5.21_inpaint_transfer_toddler_sampled_3.pkl/real-world_SEM/realword_SEM_test_transfer_toddler_sampled_07.tif\n",
      "/home/alaa/Dropbox/BPHO Staff/USF/EM/testing/self_sv/inpainting/5.21_inpaint_transfer_toddler_sampled_3.pkl/real-world_SEM/realword_SEM_test_transfer_toddler_sampled_29.tif\n",
      "Performed inference on realword_SEM_test_lr_29, file saved as /home/alaa/Dropbox/BPHO Staff/USF/EM/testing/self_sv/inpainting/5.21_inpaint_transfer_toddler_sampled_3.pkl/real-world_SEM/realword_SEM_test_transfer_toddler_sampled_29.tif\n",
      "/home/alaa/Dropbox/BPHO Staff/USF/EM/testing/self_sv/inpainting/5.21_inpaint_transfer_toddler_sampled_3.pkl/real-world_SEM/realword_SEM_test_transfer_toddler_sampled_35.tif\n",
      "Performed inference on realword_SEM_test_lr_35, file saved as /home/alaa/Dropbox/BPHO Staff/USF/EM/testing/self_sv/inpainting/5.21_inpaint_transfer_toddler_sampled_3.pkl/real-world_SEM/realword_SEM_test_transfer_toddler_sampled_35.tif\n",
      "/home/alaa/Dropbox/BPHO Staff/USF/EM/testing/self_sv/inpainting/5.21_inpaint_transfer_toddler_sampled_3.pkl/real-world_SEM/realword_SEM_test_transfer_toddler_sampled_18.tif\n",
      "Performed inference on realword_SEM_test_lr_18, file saved as /home/alaa/Dropbox/BPHO Staff/USF/EM/testing/self_sv/inpainting/5.21_inpaint_transfer_toddler_sampled_3.pkl/real-world_SEM/realword_SEM_test_transfer_toddler_sampled_18.tif\n",
      "/home/alaa/Dropbox/BPHO Staff/USF/EM/testing/self_sv/inpainting/5.21_inpaint_transfer_toddler_sampled_3.pkl/real-world_SEM/realword_SEM_test_transfer_toddler_sampled_19.tif\n",
      "Performed inference on realword_SEM_test_lr_19, file saved as /home/alaa/Dropbox/BPHO Staff/USF/EM/testing/self_sv/inpainting/5.21_inpaint_transfer_toddler_sampled_3.pkl/real-world_SEM/realword_SEM_test_transfer_toddler_sampled_19.tif\n",
      "/home/alaa/Dropbox/BPHO Staff/USF/EM/testing/self_sv/inpainting/5.21_inpaint_transfer_toddler_sampled_3.pkl/real-world_SEM/realword_SEM_test_transfer_toddler_sampled_21.tif\n",
      "Performed inference on realword_SEM_test_lr_21, file saved as /home/alaa/Dropbox/BPHO Staff/USF/EM/testing/self_sv/inpainting/5.21_inpaint_transfer_toddler_sampled_3.pkl/real-world_SEM/realword_SEM_test_transfer_toddler_sampled_21.tif\n",
      "/home/alaa/Dropbox/BPHO Staff/USF/EM/testing/self_sv/inpainting/5.21_inpaint_transfer_toddler_sampled_3.pkl/real-world_SEM/realword_SEM_test_transfer_toddler_sampled_26.tif\n",
      "Performed inference on realword_SEM_test_lr_26, file saved as /home/alaa/Dropbox/BPHO Staff/USF/EM/testing/self_sv/inpainting/5.21_inpaint_transfer_toddler_sampled_3.pkl/real-world_SEM/realword_SEM_test_transfer_toddler_sampled_26.tif\n",
      "/home/alaa/Dropbox/BPHO Staff/USF/EM/testing/self_sv/inpainting/5.21_inpaint_transfer_toddler_sampled_3.pkl/real-world_SEM/realword_SEM_test_transfer_toddler_sampled_06.tif\n",
      "Performed inference on realword_SEM_test_lr_06, file saved as /home/alaa/Dropbox/BPHO Staff/USF/EM/testing/self_sv/inpainting/5.21_inpaint_transfer_toddler_sampled_3.pkl/real-world_SEM/realword_SEM_test_transfer_toddler_sampled_06.tif\n",
      "/home/alaa/Dropbox/BPHO Staff/USF/EM/testing/self_sv/inpainting/5.21_inpaint_transfer_toddler_sampled_3.pkl/real-world_SEM/realword_SEM_test_transfer_toddler_sampled_24.tif\n",
      "Performed inference on realword_SEM_test_lr_24, file saved as /home/alaa/Dropbox/BPHO Staff/USF/EM/testing/self_sv/inpainting/5.21_inpaint_transfer_toddler_sampled_3.pkl/real-world_SEM/realword_SEM_test_transfer_toddler_sampled_24.tif\n",
      "/home/alaa/Dropbox/BPHO Staff/USF/EM/testing/self_sv/inpainting/5.21_inpaint_transfer_toddler_sampled_3.pkl/real-world_SEM/realword_SEM_test_transfer_toddler_sampled_11.tif\n",
      "Performed inference on realword_SEM_test_lr_11, file saved as /home/alaa/Dropbox/BPHO Staff/USF/EM/testing/self_sv/inpainting/5.21_inpaint_transfer_toddler_sampled_3.pkl/real-world_SEM/realword_SEM_test_transfer_toddler_sampled_11.tif\n",
      "/home/alaa/Dropbox/BPHO Staff/USF/EM/testing/self_sv/inpainting/5.21_inpaint_transfer_toddler_sampled_3.pkl/real-world_SEM/realword_SEM_test_transfer_toddler_sampled_31.tif\n",
      "Performed inference on realword_SEM_test_lr_31, file saved as /home/alaa/Dropbox/BPHO Staff/USF/EM/testing/self_sv/inpainting/5.21_inpaint_transfer_toddler_sampled_3.pkl/real-world_SEM/realword_SEM_test_transfer_toddler_sampled_31.tif\n",
      "/home/alaa/Dropbox/BPHO Staff/USF/EM/testing/self_sv/inpainting/5.21_inpaint_transfer_toddler_sampled_3.pkl/real-world_SEM/realword_SEM_test_transfer_toddler_sampled_17.tif\n",
      "Performed inference on realword_SEM_test_lr_17, file saved as /home/alaa/Dropbox/BPHO Staff/USF/EM/testing/self_sv/inpainting/5.21_inpaint_transfer_toddler_sampled_3.pkl/real-world_SEM/realword_SEM_test_transfer_toddler_sampled_17.tif\n",
      "/home/alaa/Dropbox/BPHO Staff/USF/EM/testing/self_sv/inpainting/5.21_inpaint_transfer_toddler_sampled_3.pkl/real-world_SEM/realword_SEM_test_transfer_toddler_sampled_08.tif\n",
      "Performed inference on realword_SEM_test_lr_08, file saved as /home/alaa/Dropbox/BPHO Staff/USF/EM/testing/self_sv/inpainting/5.21_inpaint_transfer_toddler_sampled_3.pkl/real-world_SEM/realword_SEM_test_transfer_toddler_sampled_08.tif\n"
     ]
    },
    {
     "name": "stdout",
     "output_type": "stream",
     "text": [
      "/home/alaa/Dropbox/BPHO Staff/USF/EM/testing/self_sv/inpainting/5.21_inpaint_transfer_toddler_sampled_3.pkl/real-world_SEM/realword_SEM_test_transfer_toddler_sampled_01.tif\n",
      "Performed inference on realword_SEM_test_lr_01, file saved as /home/alaa/Dropbox/BPHO Staff/USF/EM/testing/self_sv/inpainting/5.21_inpaint_transfer_toddler_sampled_3.pkl/real-world_SEM/realword_SEM_test_transfer_toddler_sampled_01.tif\n",
      "/home/alaa/Dropbox/BPHO Staff/USF/EM/testing/self_sv/inpainting/5.21_inpaint_transfer_toddler_sampled_3.pkl/real-world_SEM/realword_SEM_test_transfer_toddler_sampled_13.tif\n",
      "Performed inference on realword_SEM_test_lr_13, file saved as /home/alaa/Dropbox/BPHO Staff/USF/EM/testing/self_sv/inpainting/5.21_inpaint_transfer_toddler_sampled_3.pkl/real-world_SEM/realword_SEM_test_transfer_toddler_sampled_13.tif\n",
      "/home/alaa/Dropbox/BPHO Staff/USF/EM/testing/self_sv/inpainting/5.21_inpaint_transfer_toddler_sampled_3.pkl/real-world_SEM/realword_SEM_test_transfer_toddler_sampled_34.tif\n",
      "Performed inference on realword_SEM_test_lr_34, file saved as /home/alaa/Dropbox/BPHO Staff/USF/EM/testing/self_sv/inpainting/5.21_inpaint_transfer_toddler_sampled_3.pkl/real-world_SEM/realword_SEM_test_transfer_toddler_sampled_34.tif\n",
      "/home/alaa/Dropbox/BPHO Staff/USF/EM/testing/self_sv/inpainting/5.21_inpaint_transfer_toddler_sampled_3.pkl/real-world_SEM/realword_SEM_test_transfer_toddler_sampled_37.tif\n",
      "Performed inference on realword_SEM_test_lr_37, file saved as /home/alaa/Dropbox/BPHO Staff/USF/EM/testing/self_sv/inpainting/5.21_inpaint_transfer_toddler_sampled_3.pkl/real-world_SEM/realword_SEM_test_transfer_toddler_sampled_37.tif\n",
      "/home/alaa/Dropbox/BPHO Staff/USF/EM/testing/self_sv/inpainting/5.21_inpaint_transfer_toddler_sampled_3.pkl/real-world_SEM/realword_SEM_test_transfer_toddler_sampled_25.tif\n",
      "Performed inference on realword_SEM_test_lr_25, file saved as /home/alaa/Dropbox/BPHO Staff/USF/EM/testing/self_sv/inpainting/5.21_inpaint_transfer_toddler_sampled_3.pkl/real-world_SEM/realword_SEM_test_transfer_toddler_sampled_25.tif\n",
      "/home/alaa/Dropbox/BPHO Staff/USF/EM/testing/self_sv/inpainting/5.21_inpaint_transfer_toddler_sampled_3.pkl/real-world_SEM/realword_SEM_test_transfer_toddler_sampled_03.tif\n",
      "Performed inference on realword_SEM_test_lr_03, file saved as /home/alaa/Dropbox/BPHO Staff/USF/EM/testing/self_sv/inpainting/5.21_inpaint_transfer_toddler_sampled_3.pkl/real-world_SEM/realword_SEM_test_transfer_toddler_sampled_03.tif\n",
      "/home/alaa/Dropbox/BPHO Staff/USF/EM/testing/self_sv/inpainting/5.21_inpaint_transfer_toddler_sampled_3.pkl/real-world_SEM/realword_SEM_test_transfer_toddler_sampled_16.tif\n",
      "Performed inference on realword_SEM_test_lr_16, file saved as /home/alaa/Dropbox/BPHO Staff/USF/EM/testing/self_sv/inpainting/5.21_inpaint_transfer_toddler_sampled_3.pkl/real-world_SEM/realword_SEM_test_transfer_toddler_sampled_16.tif\n",
      "/home/alaa/Dropbox/BPHO Staff/USF/EM/testing/self_sv/inpainting/5.21_inpaint_transfer_toddler_sampled_3.pkl/real-world_SEM/realword_SEM_test_transfer_toddler_sampled_33.tif\n",
      "Performed inference on realword_SEM_test_lr_33, file saved as /home/alaa/Dropbox/BPHO Staff/USF/EM/testing/self_sv/inpainting/5.21_inpaint_transfer_toddler_sampled_3.pkl/real-world_SEM/realword_SEM_test_transfer_toddler_sampled_33.tif\n",
      "/home/alaa/Dropbox/BPHO Staff/USF/EM/testing/self_sv/inpainting/5.21_inpaint_transfer_toddler_sampled_3.pkl/real-world_SEM/realword_SEM_test_transfer_toddler_sampled_15.tif\n",
      "Performed inference on realword_SEM_test_lr_15, file saved as /home/alaa/Dropbox/BPHO Staff/USF/EM/testing/self_sv/inpainting/5.21_inpaint_transfer_toddler_sampled_3.pkl/real-world_SEM/realword_SEM_test_transfer_toddler_sampled_15.tif\n",
      "/home/alaa/Dropbox/BPHO Staff/USF/EM/testing/self_sv/inpainting/5.21_inpaint_transfer_toddler_sampled_3.pkl/real-world_SEM/realword_SEM_test_transfer_toddler_sampled_39.tif\n",
      "Performed inference on realword_SEM_test_lr_39, file saved as /home/alaa/Dropbox/BPHO Staff/USF/EM/testing/self_sv/inpainting/5.21_inpaint_transfer_toddler_sampled_3.pkl/real-world_SEM/realword_SEM_test_transfer_toddler_sampled_39.tif\n",
      "/home/alaa/Dropbox/BPHO Staff/USF/EM/testing/self_sv/inpainting/5.21_inpaint_transfer_toddler_sampled_3.pkl/real-world_SEM/realword_SEM_test_transfer_toddler_sampled_36.tif\n",
      "Performed inference on realword_SEM_test_lr_36, file saved as /home/alaa/Dropbox/BPHO Staff/USF/EM/testing/self_sv/inpainting/5.21_inpaint_transfer_toddler_sampled_3.pkl/real-world_SEM/realword_SEM_test_transfer_toddler_sampled_36.tif\n",
      "Model Inference Complete\n",
      "/home/alaa/Dropbox/BPHO Staff/USF/EM/testing/self_sv/inpainting/5.21_inpaint_imagenet_toddler_sampled_3.pkl/real-world_SEM\n",
      "/home/alaa/Dropbox/BPHO Staff/USF/EM/testing/self_sv/inpainting/5.21_inpaint_imagenet_toddler_sampled_3.pkl/real-world_SEM/realword_SEM_test_imagenet_toddler_sampled_05.tif\n",
      "Performed inference on realword_SEM_test_lr_05, file saved as /home/alaa/Dropbox/BPHO Staff/USF/EM/testing/self_sv/inpainting/5.21_inpaint_imagenet_toddler_sampled_3.pkl/real-world_SEM/realword_SEM_test_imagenet_toddler_sampled_05.tif\n",
      "/home/alaa/Dropbox/BPHO Staff/USF/EM/testing/self_sv/inpainting/5.21_inpaint_imagenet_toddler_sampled_3.pkl/real-world_SEM/realword_SEM_test_imagenet_toddler_sampled_38.tif\n",
      "Performed inference on realword_SEM_test_lr_38, file saved as /home/alaa/Dropbox/BPHO Staff/USF/EM/testing/self_sv/inpainting/5.21_inpaint_imagenet_toddler_sampled_3.pkl/real-world_SEM/realword_SEM_test_imagenet_toddler_sampled_38.tif\n",
      "/home/alaa/Dropbox/BPHO Staff/USF/EM/testing/self_sv/inpainting/5.21_inpaint_imagenet_toddler_sampled_3.pkl/real-world_SEM/realword_SEM_test_imagenet_toddler_sampled_42.tif\n",
      "Performed inference on realword_SEM_test_lr_42, file saved as /home/alaa/Dropbox/BPHO Staff/USF/EM/testing/self_sv/inpainting/5.21_inpaint_imagenet_toddler_sampled_3.pkl/real-world_SEM/realword_SEM_test_imagenet_toddler_sampled_42.tif\n",
      "/home/alaa/Dropbox/BPHO Staff/USF/EM/testing/self_sv/inpainting/5.21_inpaint_imagenet_toddler_sampled_3.pkl/real-world_SEM/realword_SEM_test_imagenet_toddler_sampled_41.tif\n",
      "Performed inference on realword_SEM_test_lr_41, file saved as /home/alaa/Dropbox/BPHO Staff/USF/EM/testing/self_sv/inpainting/5.21_inpaint_imagenet_toddler_sampled_3.pkl/real-world_SEM/realword_SEM_test_imagenet_toddler_sampled_41.tif\n",
      "/home/alaa/Dropbox/BPHO Staff/USF/EM/testing/self_sv/inpainting/5.21_inpaint_imagenet_toddler_sampled_3.pkl/real-world_SEM/realword_SEM_test_imagenet_toddler_sampled_10.tif\n",
      "Performed inference on realword_SEM_test_lr_10, file saved as /home/alaa/Dropbox/BPHO Staff/USF/EM/testing/self_sv/inpainting/5.21_inpaint_imagenet_toddler_sampled_3.pkl/real-world_SEM/realword_SEM_test_imagenet_toddler_sampled_10.tif\n",
      "/home/alaa/Dropbox/BPHO Staff/USF/EM/testing/self_sv/inpainting/5.21_inpaint_imagenet_toddler_sampled_3.pkl/real-world_SEM/realword_SEM_test_imagenet_toddler_sampled_28.tif\n",
      "Performed inference on realword_SEM_test_lr_28, file saved as /home/alaa/Dropbox/BPHO Staff/USF/EM/testing/self_sv/inpainting/5.21_inpaint_imagenet_toddler_sampled_3.pkl/real-world_SEM/realword_SEM_test_imagenet_toddler_sampled_28.tif\n",
      "/home/alaa/Dropbox/BPHO Staff/USF/EM/testing/self_sv/inpainting/5.21_inpaint_imagenet_toddler_sampled_3.pkl/real-world_SEM/realword_SEM_test_imagenet_toddler_sampled_12.tif\n",
      "Performed inference on realword_SEM_test_lr_12, file saved as /home/alaa/Dropbox/BPHO Staff/USF/EM/testing/self_sv/inpainting/5.21_inpaint_imagenet_toddler_sampled_3.pkl/real-world_SEM/realword_SEM_test_imagenet_toddler_sampled_12.tif\n",
      "/home/alaa/Dropbox/BPHO Staff/USF/EM/testing/self_sv/inpainting/5.21_inpaint_imagenet_toddler_sampled_3.pkl/real-world_SEM/realword_SEM_test_imagenet_toddler_sampled_09.tif\n",
      "Performed inference on realword_SEM_test_lr_09, file saved as /home/alaa/Dropbox/BPHO Staff/USF/EM/testing/self_sv/inpainting/5.21_inpaint_imagenet_toddler_sampled_3.pkl/real-world_SEM/realword_SEM_test_imagenet_toddler_sampled_09.tif\n",
      "/home/alaa/Dropbox/BPHO Staff/USF/EM/testing/self_sv/inpainting/5.21_inpaint_imagenet_toddler_sampled_3.pkl/real-world_SEM/realword_SEM_test_imagenet_toddler_sampled_02.tif\n",
      "Performed inference on realword_SEM_test_lr_02, file saved as /home/alaa/Dropbox/BPHO Staff/USF/EM/testing/self_sv/inpainting/5.21_inpaint_imagenet_toddler_sampled_3.pkl/real-world_SEM/realword_SEM_test_imagenet_toddler_sampled_02.tif\n",
      "/home/alaa/Dropbox/BPHO Staff/USF/EM/testing/self_sv/inpainting/5.21_inpaint_imagenet_toddler_sampled_3.pkl/real-world_SEM/realword_SEM_test_imagenet_toddler_sampled_23.tif\n",
      "Performed inference on realword_SEM_test_lr_23, file saved as /home/alaa/Dropbox/BPHO Staff/USF/EM/testing/self_sv/inpainting/5.21_inpaint_imagenet_toddler_sampled_3.pkl/real-world_SEM/realword_SEM_test_imagenet_toddler_sampled_23.tif\n",
      "/home/alaa/Dropbox/BPHO Staff/USF/EM/testing/self_sv/inpainting/5.21_inpaint_imagenet_toddler_sampled_3.pkl/real-world_SEM/realword_SEM_test_imagenet_toddler_sampled_04.tif\n",
      "Performed inference on realword_SEM_test_lr_04, file saved as /home/alaa/Dropbox/BPHO Staff/USF/EM/testing/self_sv/inpainting/5.21_inpaint_imagenet_toddler_sampled_3.pkl/real-world_SEM/realword_SEM_test_imagenet_toddler_sampled_04.tif\n"
     ]
    },
    {
     "name": "stdout",
     "output_type": "stream",
     "text": [
      "/home/alaa/Dropbox/BPHO Staff/USF/EM/testing/self_sv/inpainting/5.21_inpaint_imagenet_toddler_sampled_3.pkl/real-world_SEM/realword_SEM_test_imagenet_toddler_sampled_20.tif\n",
      "Performed inference on realword_SEM_test_lr_20, file saved as /home/alaa/Dropbox/BPHO Staff/USF/EM/testing/self_sv/inpainting/5.21_inpaint_imagenet_toddler_sampled_3.pkl/real-world_SEM/realword_SEM_test_imagenet_toddler_sampled_20.tif\n",
      "/home/alaa/Dropbox/BPHO Staff/USF/EM/testing/self_sv/inpainting/5.21_inpaint_imagenet_toddler_sampled_3.pkl/real-world_SEM/realword_SEM_test_imagenet_toddler_sampled_14.tif\n",
      "Performed inference on realword_SEM_test_lr_14, file saved as /home/alaa/Dropbox/BPHO Staff/USF/EM/testing/self_sv/inpainting/5.21_inpaint_imagenet_toddler_sampled_3.pkl/real-world_SEM/realword_SEM_test_imagenet_toddler_sampled_14.tif\n",
      "/home/alaa/Dropbox/BPHO Staff/USF/EM/testing/self_sv/inpainting/5.21_inpaint_imagenet_toddler_sampled_3.pkl/real-world_SEM/realword_SEM_test_imagenet_toddler_sampled_32.tif\n",
      "Performed inference on realword_SEM_test_lr_32, file saved as /home/alaa/Dropbox/BPHO Staff/USF/EM/testing/self_sv/inpainting/5.21_inpaint_imagenet_toddler_sampled_3.pkl/real-world_SEM/realword_SEM_test_imagenet_toddler_sampled_32.tif\n",
      "/home/alaa/Dropbox/BPHO Staff/USF/EM/testing/self_sv/inpainting/5.21_inpaint_imagenet_toddler_sampled_3.pkl/real-world_SEM/realword_SEM_test_imagenet_toddler_sampled_27.tif\n",
      "Performed inference on realword_SEM_test_lr_27, file saved as /home/alaa/Dropbox/BPHO Staff/USF/EM/testing/self_sv/inpainting/5.21_inpaint_imagenet_toddler_sampled_3.pkl/real-world_SEM/realword_SEM_test_imagenet_toddler_sampled_27.tif\n",
      "/home/alaa/Dropbox/BPHO Staff/USF/EM/testing/self_sv/inpainting/5.21_inpaint_imagenet_toddler_sampled_3.pkl/real-world_SEM/realword_SEM_test_imagenet_toddler_sampled_30.tif\n",
      "Performed inference on realword_SEM_test_lr_30, file saved as /home/alaa/Dropbox/BPHO Staff/USF/EM/testing/self_sv/inpainting/5.21_inpaint_imagenet_toddler_sampled_3.pkl/real-world_SEM/realword_SEM_test_imagenet_toddler_sampled_30.tif\n",
      "/home/alaa/Dropbox/BPHO Staff/USF/EM/testing/self_sv/inpainting/5.21_inpaint_imagenet_toddler_sampled_3.pkl/real-world_SEM/realword_SEM_test_imagenet_toddler_sampled_22.tif\n",
      "Performed inference on realword_SEM_test_lr_22, file saved as /home/alaa/Dropbox/BPHO Staff/USF/EM/testing/self_sv/inpainting/5.21_inpaint_imagenet_toddler_sampled_3.pkl/real-world_SEM/realword_SEM_test_imagenet_toddler_sampled_22.tif\n",
      "/home/alaa/Dropbox/BPHO Staff/USF/EM/testing/self_sv/inpainting/5.21_inpaint_imagenet_toddler_sampled_3.pkl/real-world_SEM/realword_SEM_test_imagenet_toddler_sampled_40.tif\n",
      "Performed inference on realword_SEM_test_lr_40, file saved as /home/alaa/Dropbox/BPHO Staff/USF/EM/testing/self_sv/inpainting/5.21_inpaint_imagenet_toddler_sampled_3.pkl/real-world_SEM/realword_SEM_test_imagenet_toddler_sampled_40.tif\n",
      "/home/alaa/Dropbox/BPHO Staff/USF/EM/testing/self_sv/inpainting/5.21_inpaint_imagenet_toddler_sampled_3.pkl/real-world_SEM/realword_SEM_test_imagenet_toddler_sampled_07.tif\n",
      "Performed inference on realword_SEM_test_lr_07, file saved as /home/alaa/Dropbox/BPHO Staff/USF/EM/testing/self_sv/inpainting/5.21_inpaint_imagenet_toddler_sampled_3.pkl/real-world_SEM/realword_SEM_test_imagenet_toddler_sampled_07.tif\n",
      "/home/alaa/Dropbox/BPHO Staff/USF/EM/testing/self_sv/inpainting/5.21_inpaint_imagenet_toddler_sampled_3.pkl/real-world_SEM/realword_SEM_test_imagenet_toddler_sampled_29.tif\n",
      "Performed inference on realword_SEM_test_lr_29, file saved as /home/alaa/Dropbox/BPHO Staff/USF/EM/testing/self_sv/inpainting/5.21_inpaint_imagenet_toddler_sampled_3.pkl/real-world_SEM/realword_SEM_test_imagenet_toddler_sampled_29.tif\n",
      "/home/alaa/Dropbox/BPHO Staff/USF/EM/testing/self_sv/inpainting/5.21_inpaint_imagenet_toddler_sampled_3.pkl/real-world_SEM/realword_SEM_test_imagenet_toddler_sampled_35.tif\n",
      "Performed inference on realword_SEM_test_lr_35, file saved as /home/alaa/Dropbox/BPHO Staff/USF/EM/testing/self_sv/inpainting/5.21_inpaint_imagenet_toddler_sampled_3.pkl/real-world_SEM/realword_SEM_test_imagenet_toddler_sampled_35.tif\n",
      "/home/alaa/Dropbox/BPHO Staff/USF/EM/testing/self_sv/inpainting/5.21_inpaint_imagenet_toddler_sampled_3.pkl/real-world_SEM/realword_SEM_test_imagenet_toddler_sampled_18.tif\n",
      "Performed inference on realword_SEM_test_lr_18, file saved as /home/alaa/Dropbox/BPHO Staff/USF/EM/testing/self_sv/inpainting/5.21_inpaint_imagenet_toddler_sampled_3.pkl/real-world_SEM/realword_SEM_test_imagenet_toddler_sampled_18.tif\n",
      "/home/alaa/Dropbox/BPHO Staff/USF/EM/testing/self_sv/inpainting/5.21_inpaint_imagenet_toddler_sampled_3.pkl/real-world_SEM/realword_SEM_test_imagenet_toddler_sampled_19.tif\n",
      "Performed inference on realword_SEM_test_lr_19, file saved as /home/alaa/Dropbox/BPHO Staff/USF/EM/testing/self_sv/inpainting/5.21_inpaint_imagenet_toddler_sampled_3.pkl/real-world_SEM/realword_SEM_test_imagenet_toddler_sampled_19.tif\n",
      "/home/alaa/Dropbox/BPHO Staff/USF/EM/testing/self_sv/inpainting/5.21_inpaint_imagenet_toddler_sampled_3.pkl/real-world_SEM/realword_SEM_test_imagenet_toddler_sampled_21.tif\n",
      "Performed inference on realword_SEM_test_lr_21, file saved as /home/alaa/Dropbox/BPHO Staff/USF/EM/testing/self_sv/inpainting/5.21_inpaint_imagenet_toddler_sampled_3.pkl/real-world_SEM/realword_SEM_test_imagenet_toddler_sampled_21.tif\n",
      "/home/alaa/Dropbox/BPHO Staff/USF/EM/testing/self_sv/inpainting/5.21_inpaint_imagenet_toddler_sampled_3.pkl/real-world_SEM/realword_SEM_test_imagenet_toddler_sampled_26.tif\n",
      "Performed inference on realword_SEM_test_lr_26, file saved as /home/alaa/Dropbox/BPHO Staff/USF/EM/testing/self_sv/inpainting/5.21_inpaint_imagenet_toddler_sampled_3.pkl/real-world_SEM/realword_SEM_test_imagenet_toddler_sampled_26.tif\n",
      "/home/alaa/Dropbox/BPHO Staff/USF/EM/testing/self_sv/inpainting/5.21_inpaint_imagenet_toddler_sampled_3.pkl/real-world_SEM/realword_SEM_test_imagenet_toddler_sampled_06.tif\n",
      "Performed inference on realword_SEM_test_lr_06, file saved as /home/alaa/Dropbox/BPHO Staff/USF/EM/testing/self_sv/inpainting/5.21_inpaint_imagenet_toddler_sampled_3.pkl/real-world_SEM/realword_SEM_test_imagenet_toddler_sampled_06.tif\n",
      "/home/alaa/Dropbox/BPHO Staff/USF/EM/testing/self_sv/inpainting/5.21_inpaint_imagenet_toddler_sampled_3.pkl/real-world_SEM/realword_SEM_test_imagenet_toddler_sampled_24.tif\n",
      "Performed inference on realword_SEM_test_lr_24, file saved as /home/alaa/Dropbox/BPHO Staff/USF/EM/testing/self_sv/inpainting/5.21_inpaint_imagenet_toddler_sampled_3.pkl/real-world_SEM/realword_SEM_test_imagenet_toddler_sampled_24.tif\n",
      "/home/alaa/Dropbox/BPHO Staff/USF/EM/testing/self_sv/inpainting/5.21_inpaint_imagenet_toddler_sampled_3.pkl/real-world_SEM/realword_SEM_test_imagenet_toddler_sampled_11.tif\n",
      "Performed inference on realword_SEM_test_lr_11, file saved as /home/alaa/Dropbox/BPHO Staff/USF/EM/testing/self_sv/inpainting/5.21_inpaint_imagenet_toddler_sampled_3.pkl/real-world_SEM/realword_SEM_test_imagenet_toddler_sampled_11.tif\n",
      "/home/alaa/Dropbox/BPHO Staff/USF/EM/testing/self_sv/inpainting/5.21_inpaint_imagenet_toddler_sampled_3.pkl/real-world_SEM/realword_SEM_test_imagenet_toddler_sampled_31.tif\n",
      "Performed inference on realword_SEM_test_lr_31, file saved as /home/alaa/Dropbox/BPHO Staff/USF/EM/testing/self_sv/inpainting/5.21_inpaint_imagenet_toddler_sampled_3.pkl/real-world_SEM/realword_SEM_test_imagenet_toddler_sampled_31.tif\n",
      "/home/alaa/Dropbox/BPHO Staff/USF/EM/testing/self_sv/inpainting/5.21_inpaint_imagenet_toddler_sampled_3.pkl/real-world_SEM/realword_SEM_test_imagenet_toddler_sampled_17.tif\n",
      "Performed inference on realword_SEM_test_lr_17, file saved as /home/alaa/Dropbox/BPHO Staff/USF/EM/testing/self_sv/inpainting/5.21_inpaint_imagenet_toddler_sampled_3.pkl/real-world_SEM/realword_SEM_test_imagenet_toddler_sampled_17.tif\n",
      "/home/alaa/Dropbox/BPHO Staff/USF/EM/testing/self_sv/inpainting/5.21_inpaint_imagenet_toddler_sampled_3.pkl/real-world_SEM/realword_SEM_test_imagenet_toddler_sampled_08.tif\n",
      "Performed inference on realword_SEM_test_lr_08, file saved as /home/alaa/Dropbox/BPHO Staff/USF/EM/testing/self_sv/inpainting/5.21_inpaint_imagenet_toddler_sampled_3.pkl/real-world_SEM/realword_SEM_test_imagenet_toddler_sampled_08.tif\n",
      "/home/alaa/Dropbox/BPHO Staff/USF/EM/testing/self_sv/inpainting/5.21_inpaint_imagenet_toddler_sampled_3.pkl/real-world_SEM/realword_SEM_test_imagenet_toddler_sampled_01.tif\n",
      "Performed inference on realword_SEM_test_lr_01, file saved as /home/alaa/Dropbox/BPHO Staff/USF/EM/testing/self_sv/inpainting/5.21_inpaint_imagenet_toddler_sampled_3.pkl/real-world_SEM/realword_SEM_test_imagenet_toddler_sampled_01.tif\n",
      "/home/alaa/Dropbox/BPHO Staff/USF/EM/testing/self_sv/inpainting/5.21_inpaint_imagenet_toddler_sampled_3.pkl/real-world_SEM/realword_SEM_test_imagenet_toddler_sampled_13.tif\n",
      "Performed inference on realword_SEM_test_lr_13, file saved as /home/alaa/Dropbox/BPHO Staff/USF/EM/testing/self_sv/inpainting/5.21_inpaint_imagenet_toddler_sampled_3.pkl/real-world_SEM/realword_SEM_test_imagenet_toddler_sampled_13.tif\n",
      "/home/alaa/Dropbox/BPHO Staff/USF/EM/testing/self_sv/inpainting/5.21_inpaint_imagenet_toddler_sampled_3.pkl/real-world_SEM/realword_SEM_test_imagenet_toddler_sampled_34.tif\n",
      "Performed inference on realword_SEM_test_lr_34, file saved as /home/alaa/Dropbox/BPHO Staff/USF/EM/testing/self_sv/inpainting/5.21_inpaint_imagenet_toddler_sampled_3.pkl/real-world_SEM/realword_SEM_test_imagenet_toddler_sampled_34.tif\n",
      "/home/alaa/Dropbox/BPHO Staff/USF/EM/testing/self_sv/inpainting/5.21_inpaint_imagenet_toddler_sampled_3.pkl/real-world_SEM/realword_SEM_test_imagenet_toddler_sampled_37.tif\n",
      "Performed inference on realword_SEM_test_lr_37, file saved as /home/alaa/Dropbox/BPHO Staff/USF/EM/testing/self_sv/inpainting/5.21_inpaint_imagenet_toddler_sampled_3.pkl/real-world_SEM/realword_SEM_test_imagenet_toddler_sampled_37.tif\n"
     ]
    },
    {
     "name": "stdout",
     "output_type": "stream",
     "text": [
      "/home/alaa/Dropbox/BPHO Staff/USF/EM/testing/self_sv/inpainting/5.21_inpaint_imagenet_toddler_sampled_3.pkl/real-world_SEM/realword_SEM_test_imagenet_toddler_sampled_25.tif\n",
      "Performed inference on realword_SEM_test_lr_25, file saved as /home/alaa/Dropbox/BPHO Staff/USF/EM/testing/self_sv/inpainting/5.21_inpaint_imagenet_toddler_sampled_3.pkl/real-world_SEM/realword_SEM_test_imagenet_toddler_sampled_25.tif\n",
      "/home/alaa/Dropbox/BPHO Staff/USF/EM/testing/self_sv/inpainting/5.21_inpaint_imagenet_toddler_sampled_3.pkl/real-world_SEM/realword_SEM_test_imagenet_toddler_sampled_03.tif\n",
      "Performed inference on realword_SEM_test_lr_03, file saved as /home/alaa/Dropbox/BPHO Staff/USF/EM/testing/self_sv/inpainting/5.21_inpaint_imagenet_toddler_sampled_3.pkl/real-world_SEM/realword_SEM_test_imagenet_toddler_sampled_03.tif\n",
      "/home/alaa/Dropbox/BPHO Staff/USF/EM/testing/self_sv/inpainting/5.21_inpaint_imagenet_toddler_sampled_3.pkl/real-world_SEM/realword_SEM_test_imagenet_toddler_sampled_16.tif\n",
      "Performed inference on realword_SEM_test_lr_16, file saved as /home/alaa/Dropbox/BPHO Staff/USF/EM/testing/self_sv/inpainting/5.21_inpaint_imagenet_toddler_sampled_3.pkl/real-world_SEM/realword_SEM_test_imagenet_toddler_sampled_16.tif\n",
      "/home/alaa/Dropbox/BPHO Staff/USF/EM/testing/self_sv/inpainting/5.21_inpaint_imagenet_toddler_sampled_3.pkl/real-world_SEM/realword_SEM_test_imagenet_toddler_sampled_33.tif\n",
      "Performed inference on realword_SEM_test_lr_33, file saved as /home/alaa/Dropbox/BPHO Staff/USF/EM/testing/self_sv/inpainting/5.21_inpaint_imagenet_toddler_sampled_3.pkl/real-world_SEM/realword_SEM_test_imagenet_toddler_sampled_33.tif\n",
      "/home/alaa/Dropbox/BPHO Staff/USF/EM/testing/self_sv/inpainting/5.21_inpaint_imagenet_toddler_sampled_3.pkl/real-world_SEM/realword_SEM_test_imagenet_toddler_sampled_15.tif\n",
      "Performed inference on realword_SEM_test_lr_15, file saved as /home/alaa/Dropbox/BPHO Staff/USF/EM/testing/self_sv/inpainting/5.21_inpaint_imagenet_toddler_sampled_3.pkl/real-world_SEM/realword_SEM_test_imagenet_toddler_sampled_15.tif\n",
      "/home/alaa/Dropbox/BPHO Staff/USF/EM/testing/self_sv/inpainting/5.21_inpaint_imagenet_toddler_sampled_3.pkl/real-world_SEM/realword_SEM_test_imagenet_toddler_sampled_39.tif\n",
      "Performed inference on realword_SEM_test_lr_39, file saved as /home/alaa/Dropbox/BPHO Staff/USF/EM/testing/self_sv/inpainting/5.21_inpaint_imagenet_toddler_sampled_3.pkl/real-world_SEM/realword_SEM_test_imagenet_toddler_sampled_39.tif\n",
      "/home/alaa/Dropbox/BPHO Staff/USF/EM/testing/self_sv/inpainting/5.21_inpaint_imagenet_toddler_sampled_3.pkl/real-world_SEM/realword_SEM_test_imagenet_toddler_sampled_36.tif\n",
      "Performed inference on realword_SEM_test_lr_36, file saved as /home/alaa/Dropbox/BPHO Staff/USF/EM/testing/self_sv/inpainting/5.21_inpaint_imagenet_toddler_sampled_3.pkl/real-world_SEM/realword_SEM_test_imagenet_toddler_sampled_36.tif\n",
      "Model Inference Complete\n"
     ]
    }
   ],
   "source": [
    "for model_name, img_tag in zip(model_list, tag_list):\n",
    "    learn.model.load_state_dict(torch.load(model_path/model_name))\n",
    "    model_inference(folder_name=Path(f\"{model_name}/real-world_SEM\"), img_tag=img_tag)"
   ]
  },
  {
   "cell_type": "markdown",
   "metadata": {},
   "source": [
    "# Model Evaluation"
   ]
  },
  {
   "cell_type": "code",
   "execution_count": 19,
   "metadata": {},
   "outputs": [
    {
     "name": "stdout",
     "output_type": "stream",
     "text": [
      "Processing 42 files...\n"
     ]
    }
   ],
   "source": [
    "target_dirname = data_pth/f'EM/testing/HR/real-world_SEM/'       # target images\n",
    "target_files = sorted(list(target_dirname.glob('*.tif')))\n",
    "print('Processing '+str(len(target_files))+' files...')"
   ]
  },
  {
   "cell_type": "code",
   "execution_count": 20,
   "metadata": {},
   "outputs": [],
   "source": [
    "def evaluate_model(pred_files, hr_files):\n",
    "    psnr_scores = {}\n",
    "    ssim_scores = {}\n",
    "    for pred_fname, targ_fname in zip(pred_files, hr_files):\n",
    "        pred_img = PIL.Image.open(pred_fname)\n",
    "        targ_img = PIL.Image.open(targ_fname)\n",
    "        \n",
    "        pred = np.asarray(pred_img, np.uint8)\n",
    "        targ = np.asarray(targ_img, np.uint8)\n",
    "        \n",
    "        psnr_score = compare_psnr(targ, pred, data_range=255.)\n",
    "        psnr_scores[targ_fname] = psnr_score\n",
    "        \n",
    "        ssim_score = compare_ssim(targ, pred, data_range=255.)\n",
    "        ssim_scores[targ_fname] = ssim_score\n",
    "    return psnr_scores, ssim_scores"
   ]
  },
  {
   "cell_type": "code",
   "execution_count": 21,
   "metadata": {},
   "outputs": [
    {
     "name": "stdout",
     "output_type": "stream",
     "text": [
      "transfer_sampled \n",
      " \t Mean PSNR: 24.186 \n",
      " \t Mean SSIM: 0.500\n",
      "imagenet_sampled \n",
      " \t Mean PSNR: 23.763 \n",
      " \t Mean SSIM: 0.518\n",
      "transfer_toddler_sampled \n",
      " \t Mean PSNR: 23.727 \n",
      " \t Mean SSIM: 0.500\n",
      "imagenet_toddler_sampled \n",
      " \t Mean PSNR: 24.525 \n",
      " \t Mean SSIM: 0.496\n"
     ]
    }
   ],
   "source": [
    "results = {}\n",
    "mean_psnr = \"mean psnr\"\n",
    "mean_ssim = \"mean ssim\"\n",
    "for model_name, img_tag in zip(model_list, tag_list):\n",
    "    inference_dirname = infer_pth/f'{model_name}/real-world_SEM/'  \n",
    "    inference_files = sorted(list(inference_dirname.glob('*.tif')))\n",
    "    results[img_tag] = {}\n",
    "    results[img_tag]['psnr'], results[img_tag]['ssim'] = evaluate_model(inference_files, target_files)\n",
    "    results[img_tag]['mean psnr'] = np.mean([results[img_tag]['psnr'][f] for f in results[img_tag]['psnr'].keys()])\n",
    "    results[img_tag]['mean ssim'] = np.mean([results[img_tag]['ssim'][f] for f in results[img_tag]['ssim'].keys()])\n",
    "    print(f'{img_tag} \\n \\t Mean PSNR: {results[img_tag][mean_psnr]:.3f} \\n \\t Mean SSIM: {results[img_tag][mean_ssim]:.3f}')"
   ]
  },
  {
   "cell_type": "markdown",
   "metadata": {},
   "source": [
    "# Visualization"
   ]
  },
  {
   "cell_type": "markdown",
   "metadata": {},
   "source": [
    "## Toddler: the critic is trained on 10% data"
   ]
  },
  {
   "cell_type": "markdown",
   "metadata": {},
   "source": [
    "## Sampled: the generator is trained on 10% data"
   ]
  },
  {
   "cell_type": "code",
   "execution_count": 22,
   "metadata": {},
   "outputs": [
    {
     "data": {
      "text/html": [
       "<style>.container { width:100% !important; }</style>"
      ],
      "text/plain": [
       "<IPython.core.display.HTML object>"
      ]
     },
     "metadata": {},
     "output_type": "display_data"
    },
    {
     "name": "stdout",
     "output_type": "stream",
     "text": [
      "Current size: [6.0, 4.0]\n"
     ]
    }
   ],
   "source": [
    "import ipywidgets as widgets\n",
    "from ipywidgets import interact, interact_manual\n",
    "from IPython.core.display import display, HTML\n",
    "display(HTML(\"<style>.container { width:100% !important; }</style>\"))\n",
    "np.set_printoptions(linewidth=110)\n",
    "\n",
    "# Set size for visualizations\n",
    "fig_size = plt.rcParams[\"figure.figsize\"]  # Get current size\n",
    "print(\"Current size:\", fig_size)\n",
    " \n",
    "# Set figure width to 12 and height to 9\n",
    "fig_size[0] = 30\n",
    "fig_size[1] = 24\n",
    "plt.rcParams[\"figure.figsize\"] = fig_size"
   ]
  },
  {
   "cell_type": "code",
   "execution_count": 23,
   "metadata": {},
   "outputs": [
    {
     "name": "stdout",
     "output_type": "stream",
     "text": [
      "Processing 42 files...\n"
     ]
    }
   ],
   "source": [
    "model_1_name = model_list[0]\n",
    "model_2_name = model_list[1]\n",
    "\n",
    "dir1 = f'{model_1_name}/real-world_SEM/'  # pssr images\n",
    "dir2 = f'{model_2_name}/real-world_SEM/'  # our images\n",
    "\n",
    "# Modify accordingly\n",
    "pth1 = infer_pth/dir1\n",
    "pth2 = infer_pth/dir2\n",
    "\n",
    "model1_files = sorted(list(pth1.glob('*.tif')))\n",
    "model2_files = sorted(list(pth2.glob('*.tif')))\n",
    "\n",
    "print('Processing '+str(len(model1_files))+' files...')"
   ]
  },
  {
   "cell_type": "code",
   "execution_count": 24,
   "metadata": {},
   "outputs": [],
   "source": [
    "def visualize_sample(img_fname1, img_fname2, targ_fname, title1=model_1_name, title2=\"Target\", title3=model_2_name):\n",
    "    model1_im = PIL.Image.open(img_fname1) # load image to tensor\n",
    "    targ_im = PIL.Image.open(targ_fname)\n",
    "    model2_im = PIL.Image.open(img_fname2)\n",
    "    \n",
    "    model1_arr = np.asarray(model1_im, np.uint8)\n",
    "    model2_arr = np.asarray(model2_im, np.uint8)\n",
    "    targ_arr = np.asarray(targ_im, np.uint8)\n",
    "    \n",
    "    model1_psnr = compare_psnr(targ_arr, model1_arr, data_range=255.)\n",
    "    model1_ssim = compare_ssim(targ_arr, model1_arr, data_range=255.)\n",
    "    model2_psnr = compare_psnr(targ_arr, model2_arr, data_range=255.)\n",
    "    model2_ssim = compare_ssim(targ_arr, model2_arr, data_range=255.)\n",
    "    f, axarr = plt.subplots(1,3) # create visualizations\n",
    "    axarr[0].imshow(np.squeeze(model1_arr), cmap=plt.cm.gray) # visualize image tensor\n",
    "    axarr[0].set_title(title1)\n",
    "    axarr[0].set_xlabel(f\"PSNR: {model1_psnr:.2f}, SSIM: {model1_ssim:.2f}\")\n",
    "    axarr[1].imshow(np.squeeze(targ_arr), cmap=plt.cm.gray) # visualize original image file\n",
    "    axarr[1].set_title(title2)\n",
    "    axarr[2].imshow(np.squeeze(model2_arr), cmap=plt.cm.gray) # visualize image tensor\n",
    "    axarr[2].set_title(title3)\n",
    "    axarr[2].set_xlabel(f\"PSNR: {model2_psnr:.2f}, SSIM: {model2_ssim:.2f}\")\n",
    "    plt.show() # show visualization"
   ]
  },
  {
   "cell_type": "code",
   "execution_count": 25,
   "metadata": {},
   "outputs": [
    {
     "data": {
      "application/vnd.jupyter.widget-view+json": {
       "model_id": "38e14056f26e40308b4d348668d8ab5c",
       "version_major": 2,
       "version_minor": 0
      },
      "text/plain": [
       "interactive(children=(IntSlider(value=33, description='sample', max=99, min=-33), Output()), _dom_classes=('wi…"
      ]
     },
     "metadata": {},
     "output_type": "display_data"
    }
   ],
   "source": [
    "@interact\n",
    "def show_sample(sample=33):\n",
    "    return visualize_sample(model1_files[sample], model2_files[sample], target_files[sample])"
   ]
  },
  {
   "cell_type": "code",
   "execution_count": 26,
   "metadata": {},
   "outputs": [
    {
     "name": "stdout",
     "output_type": "stream",
     "text": [
      "Processing 42 files...\n"
     ]
    }
   ],
   "source": [
    "model_3_name = model_list[2]\n",
    "model_4_name = model_list[3]\n",
    "\n",
    "dir3 = f'{model_3_name}/real-world_SEM/'  # pssr images\n",
    "dir4 = f'{model_4_name}/real-world_SEM/'  # our images\n",
    "\n",
    "# Modify accordingly\n",
    "pth3 = infer_pth/dir3\n",
    "pth4 = infer_pth/dir4\n",
    "\n",
    "model3_files = sorted(list(pth3.glob('*.tif')))\n",
    "model4_files = sorted(list(pth4.glob('*.tif')))\n",
    "\n",
    "print('Processing '+str(len(model3_files))+' files...')"
   ]
  },
  {
   "cell_type": "code",
   "execution_count": 27,
   "metadata": {},
   "outputs": [
    {
     "data": {
      "application/vnd.jupyter.widget-view+json": {
       "model_id": "e10cea7fad444740aed78792d58b6039",
       "version_major": 2,
       "version_minor": 0
      },
      "text/plain": [
       "interactive(children=(IntSlider(value=33, description='sample', max=99, min=-33), Output()), _dom_classes=('wi…"
      ]
     },
     "metadata": {},
     "output_type": "display_data"
    }
   ],
   "source": [
    "@interact\n",
    "def show_sample(sample=33):\n",
    "    return visualize_sample(model3_files[sample], model4_files[sample], target_files[sample])"
   ]
  }
 ],
 "metadata": {
  "kernelspec": {
   "display_name": "Python (Salk)",
   "language": "python",
   "name": "salk"
  },
  "language_info": {
   "codemirror_mode": {
    "name": "ipython",
    "version": 3
   },
   "file_extension": ".py",
   "mimetype": "text/x-python",
   "name": "python",
   "nbconvert_exporter": "python",
   "pygments_lexer": "ipython3",
   "version": "3.7.3"
  }
 },
 "nbformat": 4,
 "nbformat_minor": 2
}
