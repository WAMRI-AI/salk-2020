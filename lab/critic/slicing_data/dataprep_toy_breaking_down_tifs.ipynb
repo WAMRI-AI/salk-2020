{
 "cells": [
  {
   "cell_type": "code",
   "execution_count": 1,
   "metadata": {},
   "outputs": [],
   "source": [
    "from pathlib import Path\n",
    "from PIL import Image, ImageSequence\n",
    "import numpy as np"
   ]
  },
  {
   "cell_type": "code",
   "execution_count": 13,
   "metadata": {},
   "outputs": [],
   "source": [
    "src_dir = '/home/rusl/dropbox-data/BPHO Staff/USF/EM/testing/LR-PSSR/FIB-SEM_fly'"
   ]
  },
  {
   "cell_type": "code",
   "execution_count": 10,
   "metadata": {},
   "outputs": [],
   "source": [
    "for folder in list(src_dir):\n",
    "    if not Path(folder).exists():\n",
    "        print(f'{folder} does not exist')"
   ]
  },
  {
   "cell_type": "code",
   "execution_count": 11,
   "metadata": {},
   "outputs": [],
   "source": [
    "out_dir = \"processed_data\""
   ]
  },
  {
   "cell_type": "code",
   "execution_count": 14,
   "metadata": {},
   "outputs": [
    {
     "data": {
      "text/plain": [
       "PosixPath('/home/rusl/dropbox-data/BPHO Staff/USF/EM/testing/LR-PSSR/FIB-SEM_fly/FIB-SEM_fly_test_PSSR_stack_1.tif')"
      ]
     },
     "execution_count": 14,
     "metadata": {},
     "output_type": "execute_result"
    }
   ],
   "source": [
    "tif_path = list(Path(src_dir).rglob(\"*.*\"))[0]; tif_path"
   ]
  },
  {
   "cell_type": "code",
   "execution_count": 2,
   "metadata": {},
   "outputs": [],
   "source": [
    "test_pth = Path('/home/alaa/Dropbox/BPHO Staff/USF/Mitotracker/testing/LR/real-world_mitotracker')"
   ]
  },
  {
   "cell_type": "code",
   "execution_count": 26,
   "metadata": {},
   "outputs": [],
   "source": [
    "tif_path = test_pth/'realworld_lowres_lowpower_5_LR.tif'\n",
    "im = Image.open(tif_path)"
   ]
  },
  {
   "cell_type": "code",
   "execution_count": 54,
   "metadata": {},
   "outputs": [],
   "source": [
    "stack = np.array(list(np.array(k) for k in ImageSequence.Iterator(im)))"
   ]
  },
  {
   "cell_type": "code",
   "execution_count": 2,
   "metadata": {},
   "outputs": [],
   "source": [
    "data_pth = Path('/home/alaa/Dropbox/BPHO Staff/USF/Mitotracker/training/trainsets/mitotracker_PSSR-MF/lr_t_512_t_5/train/mitotracker')"
   ]
  },
  {
   "cell_type": "code",
   "execution_count": 3,
   "metadata": {},
   "outputs": [],
   "source": [
    "file_pth = data_pth/'mitotracker_PSSR-MF_train_lr_5000.npy'"
   ]
  },
  {
   "cell_type": "code",
   "execution_count": 4,
   "metadata": {},
   "outputs": [],
   "source": [
    "array = np.load(file_pth)"
   ]
  },
  {
   "cell_type": "code",
   "execution_count": 5,
   "metadata": {},
   "outputs": [
    {
     "data": {
      "text/plain": [
       "array([[[20, 30, 48, ...,  8,  9,  3],\n",
       "        [15, 17, 37, ...,  0, 10,  3],\n",
       "        [ 4, 22,  7, ...,  3, 12,  0],\n",
       "        ...,\n",
       "        [30, 15,  3, ...,  5,  8,  8],\n",
       "        [21,  0,  6, ..., 13,  8,  4],\n",
       "        [22, 17, 24, ...,  4,  8, 16]],\n",
       "\n",
       "       [[19,  8, 28, ...,  0,  2, 12],\n",
       "        [12, 25, 26, ...,  3, 11,  4],\n",
       "        [12,  0,  0, ...,  2,  3, 10],\n",
       "        ...,\n",
       "        [ 7,  7,  6, ..., 13, 12,  2],\n",
       "        [ 5,  1, 14, ...,  9,  6, 10],\n",
       "        [ 0, 11, 13, ...,  4,  5,  2]],\n",
       "\n",
       "       [[20, 20, 35, ..., 21,  2,  7],\n",
       "        [ 2,  7, 10, ...,  1, 12,  0],\n",
       "        [ 7,  3, 44, ...,  5,  7, 11],\n",
       "        ...,\n",
       "        [ 2,  2,  3, ...,  6,  2, 12],\n",
       "        [ 7, 13, 14, ...,  3,  0, 10],\n",
       "        [ 2,  3, 78, ..., 10,  8, 45]],\n",
       "\n",
       "       [[ 4,  7, 14, ...,  4,  5,  0],\n",
       "        [ 4, 18,  6, ...,  4,  2,  1],\n",
       "        [ 6, 12, 18, ...,  6,  8,  3],\n",
       "        ...,\n",
       "        [ 5,  0,  5, ..., 21,  5,  2],\n",
       "        [ 3, 10, 10, ...,  2,  7,  3],\n",
       "        [12,  5, 78, ...,  8,  4,  3]],\n",
       "\n",
       "       [[22, 13,  3, ...,  4,  8,  0],\n",
       "        [ 3,  9, 13, ...,  6, 63,  8],\n",
       "        [ 7,  7, 17, ...,  5,  4,  6],\n",
       "        ...,\n",
       "        [13,  2, 17, ...,  7, 13,  0],\n",
       "        [ 9,  0, 16, ...,  2,  7, 17],\n",
       "        [ 0, 25, 12, ...,  2, 11,  4]]], dtype=uint8)"
      ]
     },
     "execution_count": 5,
     "metadata": {},
     "output_type": "execute_result"
    }
   ],
   "source": [
    "array"
   ]
  },
  {
   "cell_type": "code",
   "execution_count": 44,
   "metadata": {},
   "outputs": [
    {
     "data": {
      "text/plain": [
       "255"
      ]
     },
     "execution_count": 44,
     "metadata": {},
     "output_type": "execute_result"
    }
   ],
   "source": [
    "array.max()"
   ]
  },
  {
   "cell_type": "code",
   "execution_count": 23,
   "metadata": {},
   "outputs": [
    {
     "data": {
      "text/plain": [
       "(5, 128, 128)"
      ]
     },
     "execution_count": 23,
     "metadata": {},
     "output_type": "execute_result"
    }
   ],
   "source": [
    "array.shape"
   ]
  }
 ],
 "metadata": {
  "kernelspec": {
   "display_name": "Python (Salk)",
   "language": "python",
   "name": "salk"
  },
  "language_info": {
   "codemirror_mode": {
    "name": "ipython",
    "version": 3
   },
   "file_extension": ".py",
   "mimetype": "text/x-python",
   "name": "python",
   "nbconvert_exporter": "python",
   "pygments_lexer": "ipython3",
   "version": "3.7.3"
  }
 },
 "nbformat": 4,
 "nbformat_minor": 2
}
