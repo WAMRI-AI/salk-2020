{
 "cells": [
  {
   "cell_type": "code",
   "execution_count": 1,
   "metadata": {},
   "outputs": [],
   "source": [
    "from fastai import *\n",
    "from fastai.vision import *\n",
    "from fastai.vision.models.unet import DynamicUnet\n",
    "from fastai.vision.learner import cnn_config\n",
    "from fastai.callbacks import *\n",
    "import sys\n",
    "sys.path.append('../../')\n",
    "sys.path.append('../../model')\n",
    "from model.losses import *\n",
    "from model.bpho.resnet import *\n",
    "from model.bpho.unet import *\n",
    "from model.metrics import psnr, ssim\n",
    "from data.load_fluo import *"
   ]
  },
  {
   "cell_type": "code",
   "execution_count": 2,
   "metadata": {},
   "outputs": [],
   "source": [
    "import matplotlib.pyplot as plt"
   ]
  },
  {
   "cell_type": "code",
   "execution_count": 3,
   "metadata": {},
   "outputs": [],
   "source": [
    "gpu_id = 2\n",
    "num_cores = 4\n",
    "torch.cuda.set_device(gpu_id)"
   ]
  },
  {
   "cell_type": "markdown",
   "metadata": {},
   "source": [
    "### data load"
   ]
  },
  {
   "cell_type": "code",
   "execution_count": 4,
   "metadata": {},
   "outputs": [],
   "source": [
    "data_pth = Path('/home/alaa/Dropbox/BPHO Staff/USF/Mitotracker/training/trainsets/')"
   ]
  },
  {
   "cell_type": "code",
   "execution_count": 5,
   "metadata": {},
   "outputs": [],
   "source": [
    "bs=8\n",
    "lr = slice(None, 4e-4, None)\n",
    "size=512 \n",
    "tile_sz=512 \n",
    "# datasetname=multi_100mitotracker \n",
    "cycles=100\n",
    "# save_name=multit_5_100mito_opt_001 \n",
    "n_frames=5"
   ]
  },
  {
   "cell_type": "code",
   "execution_count": 6,
   "metadata": {},
   "outputs": [],
   "source": [
    "lr_type = 't'\n",
    "if lr_type == 's':\n",
    "    z_frames, t_frames = 1, 1\n",
    "    n_frames = 1\n",
    "    dataset = data_pth/'mitotracker_PSSR-SF'\n",
    "    hr_tifs = dataset/f'hr'\n",
    "    lr_tifs = dataset/f'lr'\n",
    "elif lr_type == 't':\n",
    "    z_frames, t_frames = 1, 5\n",
    "    n_frames = 5\n",
    "    multi_str = f'_{lr_type}_{n_frames}'\n",
    "    tile_sz = 512\n",
    "    dataset = data_pth/'mitotracker_PSSR-MF'\n",
    "    hr_tifs = dataset/f'hr_t_{tile_sz:d}{multi_str}'\n",
    "    lr_tifs = dataset/f'lr_t_{tile_sz:d}{multi_str}'"
   ]
  },
  {
   "cell_type": "code",
   "execution_count": 7,
   "metadata": {},
   "outputs": [],
   "source": [
    "mode = 'L'\n",
    "norm = True\n",
    "noise = False\n",
    "cutout = False # Maybe?"
   ]
  },
  {
   "cell_type": "code",
   "execution_count": 8,
   "metadata": {
    "scrolled": true
   },
   "outputs": [
    {
     "name": "stdout",
     "output_type": "stream",
     "text": [
      "normalizing x and y data\n"
     ]
    }
   ],
   "source": [
    "data = get_data(bs, size, lr_tifs, hr_tifs, n_frames=n_frames,  max_zoom=4., \n",
    "                    use_cutout=cutout, use_noise=noise, mode=mode, norm=norm)"
   ]
  },
  {
   "cell_type": "markdown",
   "metadata": {},
   "source": [
    "### initiate learner"
   ]
  },
  {
   "cell_type": "code",
   "execution_count": 9,
   "metadata": {},
   "outputs": [],
   "source": [
    "wnres_args = {\n",
    "    'blur': True,\n",
    "    'blur_final': True,\n",
    "    'bottle': True,\n",
    "    'self_attention': True,\n",
    "    'last_cross': True\n",
    "    \n",
    "}\n",
    "arch = 'wnresnet34'\n",
    "wd = 1e-3\n",
    "arch = eval(arch)\n",
    "metrics = [psnr, ssim]"
   ]
  },
  {
   "cell_type": "markdown",
   "metadata": {},
   "source": [
    "# Lj & ours"
   ]
  },
  {
   "cell_type": "code",
   "execution_count": 10,
   "metadata": {},
   "outputs": [],
   "source": [
    "model_pth = Path('/home/alaa/Dropbox/BPHO Staff/USF/Mitotracker/models')\n",
    "state_dict = torch.load(model_pth/'feat_loss'/'sf_state_dict.pkl')"
   ]
  },
  {
   "cell_type": "code",
   "execution_count": 12,
   "metadata": {},
   "outputs": [],
   "source": [
    "model_name = 'mitotracker_PSSR-MF_512'\n",
    "learn_lj = load_learner(path=model_pth/'baselines', file=f'{model_name}.pkl')\n",
    "# learn_lj.model.load_state_dict(state_dict)"
   ]
  },
  {
   "cell_type": "code",
   "execution_count": 13,
   "metadata": {},
   "outputs": [],
   "source": [
    "learn = wnres_unet_learner(data, arch, in_c=n_frames, wnres_args=wnres_args,\n",
    "                         metrics=metrics,\n",
    "                           model_dir=model_pth, callback_fns=[LossMetrics], wd=wd)\n",
    "# learn.model.load_state_dict(state_dict)"
   ]
  },
  {
   "cell_type": "code",
   "execution_count": null,
   "metadata": {},
   "outputs": [],
   "source": [
    "xb, yb = learn.data.one_batch()"
   ]
  },
  {
   "cell_type": "code",
   "execution_count": null,
   "metadata": {},
   "outputs": [],
   "source": [
    "yb.shape"
   ]
  },
  {
   "cell_type": "code",
   "execution_count": null,
   "metadata": {},
   "outputs": [],
   "source": [
    "plt.subplot(1, 2, 1)\n",
    "plt.imshow(learn.data.single_ds.y.reconstruct(t=yb[0]).data[0])\n",
    "plt.subplot(1, 2, 2)\n",
    "plt.imshow(learn_lj.data.single_ds.y.reconstruct(t=yb[0]).data[0])\n",
    "plt.show()"
   ]
  },
  {
   "cell_type": "code",
   "execution_count": null,
   "metadata": {},
   "outputs": [],
   "source": [
    "set(lj_dict.keys()).difference(set(our_dict.keys()))"
   ]
  },
  {
   "cell_type": "code",
   "execution_count": null,
   "metadata": {},
   "outputs": [],
   "source": [
    "learn_lj.data.single_ds??"
   ]
  }
 ],
 "metadata": {
  "kernelspec": {
   "display_name": "Python (Salk)",
   "language": "python",
   "name": "salk"
  },
  "language_info": {
   "codemirror_mode": {
    "name": "ipython",
    "version": 3
   },
   "file_extension": ".py",
   "mimetype": "text/x-python",
   "name": "python",
   "nbconvert_exporter": "python",
   "pygments_lexer": "ipython3",
   "version": "3.7.3"
  }
 },
 "nbformat": 4,
 "nbformat_minor": 2
}
