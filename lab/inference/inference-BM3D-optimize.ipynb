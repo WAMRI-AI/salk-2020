{
 "cells": [
  {
   "cell_type": "markdown",
   "metadata": {},
   "source": [
    "# BM3D Inference on EM data"
   ]
  },
  {
   "cell_type": "markdown",
   "metadata": {},
   "source": [
    "# Gather"
   ]
  },
  {
   "cell_type": "code",
   "execution_count": 1,
   "metadata": {},
   "outputs": [],
   "source": [
    "import sys\n",
    "# sys.path.append(\"../../\")"
   ]
  },
  {
   "cell_type": "code",
   "execution_count": 15,
   "metadata": {},
   "outputs": [],
   "source": [
    "from PIL import Image\n",
    "import numpy as np\n",
    "from skimage import filters\n",
    "import matplotlib.pyplot as plt\n",
    "from tqdm import tqdm\n",
    "from skimage.measure import compare_ssim, compare_psnr\n",
    "from skimage.metrics import peak_signal_noise_ratio, structural_similarity\n",
    "from path import Path\n",
    "from collections import defaultdict"
   ]
  },
  {
   "cell_type": "code",
   "execution_count": 3,
   "metadata": {},
   "outputs": [],
   "source": [
    "import bm3d"
   ]
  },
  {
   "cell_type": "code",
   "execution_count": 4,
   "metadata": {},
   "outputs": [],
   "source": [
    "bilin_pth = Path('/Users/alaa/data/LR-Bilinear/real-world_SEM/')\n",
    "target_pth = Path('/Users/alaa/data/HR/real-world_SEM/')\n",
    "output_pth = Path('/Users/alaa/data/LR-BM3D/real-world_SEM/')"
   ]
  },
  {
   "cell_type": "code",
   "execution_count": 5,
   "metadata": {},
   "outputs": [
    {
     "data": {
      "text/plain": [
       "(42, 42, 42)"
      ]
     },
     "execution_count": 5,
     "metadata": {},
     "output_type": "execute_result"
    }
   ],
   "source": [
    "bilin_files = sorted(list(bilin_pth.glob('*.tif')))\n",
    "target_files = sorted(list(target_pth.glob('*.tif')))\n",
    "\n",
    "\n",
    "len(bilin_files), len(target_files)"
   ]
  },
  {
   "cell_type": "markdown",
   "metadata": {},
   "source": [
    "# Evaluate"
   ]
  },
  {
   "cell_type": "code",
   "execution_count": 6,
   "metadata": {},
   "outputs": [],
   "source": [
    "def normalize_arr(arr):\n",
    "    return (arr - np.min(arr))/np.ptp(arr)"
   ]
  },
  {
   "cell_type": "code",
   "execution_count": 16,
   "metadata": {},
   "outputs": [],
   "source": [
    "def do_inference(sigma=30):\n",
    "    bm3d_scores = defaultdict(list)\n",
    "    print(f'Computing Inferences using BM3D params sigma_psd: {sigma}')\n",
    "    with tqdm(total=42) as pbar:\n",
    "        for bilin_pth, target_pth in zip(bilin_files, target_files):\n",
    "            bilin_img = Image.open(bilin_pth)\n",
    "            bilin_arr = np.asarray(bilin_img, np.uint8)\n",
    "\n",
    "            target_img = Image.open(target_pth)\n",
    "            target_arr = np.asarray(target_img, np.uint8)\n",
    "\n",
    "            norm_arr = normalize_arr(bilin_arr)\n",
    "            bm3d_arr = bm3d.bm3d(norm_arr, sigma_psd=sigma/255, \n",
    "                                 stage_arg=bm3d.BM3DStages.ALL_STAGES)\n",
    "            bm3d_arr = np.asarray(bm3d_arr*bilin_arr.max(), np.uint8)\n",
    "            bm3d_psnr = peak_signal_noise_ratio(target_arr, bm3d_arr, data_range=255)\n",
    "            bm3d_ssim = structural_similarity(target_arr, bm3d_arr, data_range=255)\n",
    "            bm3d_scores['psnr'].append(bm3d_psnr)\n",
    "            bm3d_scores['ssim'].append(bm3d_ssim)\n",
    "            bm3d_img = Image.fromarray(bm3d_arr)\n",
    "            save_pth = str(output_pth/bilin_pth.name).replace('bilinear', 'bm3d')\n",
    "            pbar.update(1)\n",
    "\n",
    "    bm3d_psnr = np.mean(bm3d_scores['psnr'])\n",
    "    bm3d_ssim = np.mean(bm3d_scores['ssim'])\n",
    "    print(f'\\t BM3D: PSNR = {bm3d_psnr} SSIM = {bm3d_ssim}\\n')\n",
    "\n",
    "    \n",
    "#     print(f'Saved BM3D Inference in {save_pth}')"
   ]
  },
  {
   "cell_type": "markdown",
   "metadata": {},
   "source": [
    "# Hyperparameter Tune"
   ]
  },
  {
   "cell_type": "code",
   "execution_count": 17,
   "metadata": {},
   "outputs": [
    {
     "name": "stderr",
     "output_type": "stream",
     "text": [
      "\r",
      "  0%|          | 0/42 [00:00<?, ?it/s]"
     ]
    },
    {
     "name": "stdout",
     "output_type": "stream",
     "text": [
      "Computing Inferences using BM3D params sigma_psd: 1\n"
     ]
    },
    {
     "name": "stderr",
     "output_type": "stream",
     "text": [
      "100%|██████████| 42/42 [03:57<00:00,  5.65s/it]\n",
      "  0%|          | 0/42 [00:00<?, ?it/s]"
     ]
    },
    {
     "name": "stdout",
     "output_type": "stream",
     "text": [
      "\t BM3D: PSNR = 24.537993013076207 SSIM = 0.4998061701997991\n",
      "\n",
      "Computing Inferences using BM3D params sigma_psd: 5\n"
     ]
    },
    {
     "name": "stderr",
     "output_type": "stream",
     "text": [
      "100%|██████████| 42/42 [03:49<00:00,  5.46s/it]\n",
      "  0%|          | 0/42 [00:00<?, ?it/s]"
     ]
    },
    {
     "name": "stdout",
     "output_type": "stream",
     "text": [
      "\t BM3D: PSNR = 24.591963724284568 SSIM = 0.5055563269367485\n",
      "\n",
      "Computing Inferences using BM3D params sigma_psd: 10\n"
     ]
    },
    {
     "name": "stderr",
     "output_type": "stream",
     "text": [
      "100%|██████████| 42/42 [03:48<00:00,  5.44s/it]\n",
      "  0%|          | 0/42 [00:00<?, ?it/s]"
     ]
    },
    {
     "name": "stdout",
     "output_type": "stream",
     "text": [
      "\t BM3D: PSNR = 24.70682848790338 SSIM = 0.5167865254012008\n",
      "\n",
      "Computing Inferences using BM3D params sigma_psd: 20\n"
     ]
    },
    {
     "name": "stderr",
     "output_type": "stream",
     "text": [
      "100%|██████████| 42/42 [06:25<00:00,  9.18s/it]\n",
      "  0%|          | 0/42 [00:00<?, ?it/s]"
     ]
    },
    {
     "name": "stdout",
     "output_type": "stream",
     "text": [
      "\t BM3D: PSNR = 24.95534885662378 SSIM = 0.538284574662125\n",
      "\n",
      "Computing Inferences using BM3D params sigma_psd: 30\n"
     ]
    },
    {
     "name": "stderr",
     "output_type": "stream",
     "text": [
      "100%|██████████| 42/42 [03:59<00:00,  5.70s/it]\n",
      "  0%|          | 0/42 [00:00<?, ?it/s]"
     ]
    },
    {
     "name": "stdout",
     "output_type": "stream",
     "text": [
      "\t BM3D: PSNR = 25.13036930242545 SSIM = 0.5508587180338891\n",
      "\n",
      "Computing Inferences using BM3D params sigma_psd: 40\n"
     ]
    },
    {
     "name": "stderr",
     "output_type": "stream",
     "text": [
      "100%|██████████| 42/42 [03:58<00:00,  5.69s/it]\n",
      "  0%|          | 0/42 [00:00<?, ?it/s]"
     ]
    },
    {
     "name": "stdout",
     "output_type": "stream",
     "text": [
      "\t BM3D: PSNR = 25.23418057275567 SSIM = 0.5564462624273598\n",
      "\n",
      "Computing Inferences using BM3D params sigma_psd: 50\n"
     ]
    },
    {
     "name": "stderr",
     "output_type": "stream",
     "text": [
      "100%|██████████| 42/42 [04:13<00:00,  6.03s/it]\n",
      "  0%|          | 0/42 [00:00<?, ?it/s]"
     ]
    },
    {
     "name": "stdout",
     "output_type": "stream",
     "text": [
      "\t BM3D: PSNR = 25.292801836376242 SSIM = 0.5583488460567793\n",
      "\n",
      "Computing Inferences using BM3D params sigma_psd: 60\n"
     ]
    },
    {
     "name": "stderr",
     "output_type": "stream",
     "text": [
      "100%|██████████| 42/42 [04:02<00:00,  5.78s/it]\n",
      "  0%|          | 0/42 [00:00<?, ?it/s]"
     ]
    },
    {
     "name": "stdout",
     "output_type": "stream",
     "text": [
      "\t BM3D: PSNR = 25.322978309747295 SSIM = 0.5583969243412025\n",
      "\n",
      "Computing Inferences using BM3D params sigma_psd: 70\n"
     ]
    },
    {
     "name": "stderr",
     "output_type": "stream",
     "text": [
      "100%|██████████| 42/42 [04:00<00:00,  5.72s/it]\n",
      "  0%|          | 0/42 [00:00<?, ?it/s]"
     ]
    },
    {
     "name": "stdout",
     "output_type": "stream",
     "text": [
      "\t BM3D: PSNR = 25.336625600302682 SSIM = 0.5575927434560687\n",
      "\n",
      "Computing Inferences using BM3D params sigma_psd: 80\n"
     ]
    },
    {
     "name": "stderr",
     "output_type": "stream",
     "text": [
      "100%|██████████| 42/42 [05:08<00:00,  7.35s/it]\n",
      "  0%|          | 0/42 [00:00<?, ?it/s]"
     ]
    },
    {
     "name": "stdout",
     "output_type": "stream",
     "text": [
      "\t BM3D: PSNR = 25.339135539147648 SSIM = 0.5564856298104969\n",
      "\n",
      "Computing Inferences using BM3D params sigma_psd: 90\n"
     ]
    },
    {
     "name": "stderr",
     "output_type": "stream",
     "text": [
      "100%|██████████| 42/42 [04:00<00:00,  5.73s/it]\n",
      "  0%|          | 0/42 [00:00<?, ?it/s]"
     ]
    },
    {
     "name": "stdout",
     "output_type": "stream",
     "text": [
      "\t BM3D: PSNR = 25.334374335718074 SSIM = 0.5553119925213826\n",
      "\n",
      "Computing Inferences using BM3D params sigma_psd: 100\n"
     ]
    },
    {
     "name": "stderr",
     "output_type": "stream",
     "text": [
      "100%|██████████| 42/42 [04:08<00:00,  5.91s/it]"
     ]
    },
    {
     "name": "stdout",
     "output_type": "stream",
     "text": [
      "\t BM3D: PSNR = 25.32638373005232 SSIM = 0.5542720726513929\n",
      "\n"
     ]
    },
    {
     "name": "stderr",
     "output_type": "stream",
     "text": [
      "\n"
     ]
    }
   ],
   "source": [
    "all_sigmas = [1, 5, 10, 20, 30, 40, 50, 60, 70, 80, 90, 100]\n",
    "for sigma in all_sigmas:\n",
    "    do_inference(sigma=sigma)"
   ]
  },
  {
   "cell_type": "markdown",
   "metadata": {},
   "source": [
    "# Hyperparameter Fine-Tune"
   ]
  },
  {
   "cell_type": "code",
   "execution_count": 18,
   "metadata": {},
   "outputs": [
    {
     "name": "stderr",
     "output_type": "stream",
     "text": [
      "\r",
      "  0%|          | 0/42 [00:00<?, ?it/s]"
     ]
    },
    {
     "name": "stdout",
     "output_type": "stream",
     "text": [
      "Computing Inferences using BM3D params sigma_psd: 62\n"
     ]
    },
    {
     "name": "stderr",
     "output_type": "stream",
     "text": [
      "100%|██████████| 42/42 [04:10<00:00,  5.96s/it]\n",
      "  0%|          | 0/42 [00:00<?, ?it/s]"
     ]
    },
    {
     "name": "stdout",
     "output_type": "stream",
     "text": [
      "\t BM3D: PSNR = 25.326832069405867 SSIM = 0.5582725039202993\n",
      "\n",
      "Computing Inferences using BM3D params sigma_psd: 65\n"
     ]
    },
    {
     "name": "stderr",
     "output_type": "stream",
     "text": [
      "100%|██████████| 42/42 [04:01<00:00,  5.76s/it]\n",
      "  0%|          | 0/42 [00:00<?, ?it/s]"
     ]
    },
    {
     "name": "stdout",
     "output_type": "stream",
     "text": [
      "\t BM3D: PSNR = 25.33162241868916 SSIM = 0.5580774024420295\n",
      "\n",
      "Computing Inferences using BM3D params sigma_psd: 68\n"
     ]
    },
    {
     "name": "stderr",
     "output_type": "stream",
     "text": [
      "100%|██████████| 42/42 [04:09<00:00,  5.94s/it]\n",
      "  0%|          | 0/42 [00:00<?, ?it/s]"
     ]
    },
    {
     "name": "stdout",
     "output_type": "stream",
     "text": [
      "\t BM3D: PSNR = 25.33479869934174 SSIM = 0.5577816667352796\n",
      "\n",
      "Computing Inferences using BM3D params sigma_psd: 73\n"
     ]
    },
    {
     "name": "stderr",
     "output_type": "stream",
     "text": [
      "100%|██████████| 42/42 [04:14<00:00,  6.05s/it]\n",
      "  0%|          | 0/42 [00:00<?, ?it/s]"
     ]
    },
    {
     "name": "stdout",
     "output_type": "stream",
     "text": [
      "\t BM3D: PSNR = 25.338422108271054 SSIM = 0.5572826370521545\n",
      "\n",
      "Computing Inferences using BM3D params sigma_psd: 77\n"
     ]
    },
    {
     "name": "stderr",
     "output_type": "stream",
     "text": [
      "100%|██████████| 42/42 [04:19<00:00,  6.17s/it]\n",
      "  0%|          | 0/42 [00:00<?, ?it/s]"
     ]
    },
    {
     "name": "stdout",
     "output_type": "stream",
     "text": [
      "\t BM3D: PSNR = 25.339551774035687 SSIM = 0.5568377197085793\n",
      "\n",
      "Computing Inferences using BM3D params sigma_psd: 82\n"
     ]
    },
    {
     "name": "stderr",
     "output_type": "stream",
     "text": [
      "100%|██████████| 42/42 [04:20<00:00,  6.20s/it]\n",
      "  0%|          | 0/42 [00:00<?, ?it/s]"
     ]
    },
    {
     "name": "stdout",
     "output_type": "stream",
     "text": [
      "\t BM3D: PSNR = 25.338379733969937 SSIM = 0.5562399103150357\n",
      "\n",
      "Computing Inferences using BM3D params sigma_psd: 87\n"
     ]
    },
    {
     "name": "stderr",
     "output_type": "stream",
     "text": [
      "100%|██████████| 42/42 [04:07<00:00,  5.90s/it]"
     ]
    },
    {
     "name": "stdout",
     "output_type": "stream",
     "text": [
      "\t BM3D: PSNR = 25.33645729660039 SSIM = 0.555656528362417\n",
      "\n"
     ]
    },
    {
     "name": "stderr",
     "output_type": "stream",
     "text": [
      "\n"
     ]
    }
   ],
   "source": [
    "all_sigmas = [62, 65, 68, 73, 77, 82, 87]\n",
    "for sigma in all_sigmas:\n",
    "    do_inference(sigma=sigma)"
   ]
  },
  {
   "cell_type": "code",
   "execution_count": 19,
   "metadata": {
    "scrolled": true
   },
   "outputs": [
    {
     "name": "stderr",
     "output_type": "stream",
     "text": [
      "\r",
      "  0%|          | 0/42 [00:00<?, ?it/s]"
     ]
    },
    {
     "name": "stdout",
     "output_type": "stream",
     "text": [
      "Computing Inferences using BM3D params sigma_psd: 55\n"
     ]
    },
    {
     "name": "stderr",
     "output_type": "stream",
     "text": [
      "100%|██████████| 42/42 [04:10<00:00,  5.98s/it]\n",
      "  0%|          | 0/42 [00:00<?, ?it/s]"
     ]
    },
    {
     "name": "stdout",
     "output_type": "stream",
     "text": [
      "\t BM3D: PSNR = 25.310549749687986 SSIM = 0.5585307355816501\n",
      "\n",
      "Computing Inferences using BM3D params sigma_psd: 57\n"
     ]
    },
    {
     "name": "stderr",
     "output_type": "stream",
     "text": [
      "100%|██████████| 42/42 [04:07<00:00,  5.90s/it]\n",
      "  0%|          | 0/42 [00:00<?, ?it/s]"
     ]
    },
    {
     "name": "stdout",
     "output_type": "stream",
     "text": [
      "\t BM3D: PSNR = 25.31604901197451 SSIM = 0.5584942699608583\n",
      "\n",
      "Computing Inferences using BM3D params sigma_psd: 59\n"
     ]
    },
    {
     "name": "stderr",
     "output_type": "stream",
     "text": [
      "100%|██████████| 42/42 [04:11<00:00,  5.98s/it]"
     ]
    },
    {
     "name": "stdout",
     "output_type": "stream",
     "text": [
      "\t BM3D: PSNR = 25.320780045702367 SSIM = 0.5584344589997331\n",
      "\n"
     ]
    },
    {
     "name": "stderr",
     "output_type": "stream",
     "text": [
      "\n"
     ]
    }
   ],
   "source": [
    "all_sigmas = [55, 57, 59]\n",
    "for sigma in all_sigmas:\n",
    "    do_inference(sigma=sigma)"
   ]
  }
 ],
 "metadata": {
  "kernelspec": {
   "display_name": "salk",
   "language": "python",
   "name": "salk"
  },
  "language_info": {
   "codemirror_mode": {
    "name": "ipython",
    "version": 3
   },
   "file_extension": ".py",
   "mimetype": "text/x-python",
   "name": "python",
   "nbconvert_exporter": "python",
   "pygments_lexer": "ipython3",
   "version": "3.7.5"
  }
 },
 "nbformat": 4,
 "nbformat_minor": 2
}
