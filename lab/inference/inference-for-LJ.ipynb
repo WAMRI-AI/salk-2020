{
 "cells": [
  {
   "cell_type": "code",
   "execution_count": 1,
   "metadata": {},
   "outputs": [],
   "source": [
    "import sys\n",
    "sys.path.append(\"../../\")"
   ]
  },
  {
   "cell_type": "code",
   "execution_count": 3,
   "metadata": {},
   "outputs": [],
   "source": [
    "import fastai\n",
    "from fastai import *\n",
    "from fastai.vision import *\n",
    "from fastai.callbacks import *\n",
    "from fastai.script import *\n",
    "import fastai.vision.learner as fvl\n",
    "from fastai.vision.learner import cnn_config\n",
    "from fastai.vision.models.unet import DynamicUnet\n",
    "\n",
    "from skimage import filters\n",
    "from skimage.util import random_noise\n",
    "from functools import partial\n",
    "from model.metrics import *\n",
    "from data.utils import load_img\n",
    "import libtiff\n",
    "from skimage.measure import compare_ssim, compare_psnr\n",
    "from csbdeep.utils import normalize\n"
   ]
  },
  {
   "cell_type": "code",
   "execution_count": 4,
   "metadata": {},
   "outputs": [],
   "source": [
    "data_pth = Path('/home/alaa/Dropbox/BPHO Staff/USF/EM/testing/emrealworld_em_AG_D_sameas_preprint/')"
   ]
  },
  {
   "cell_type": "code",
   "execution_count": 6,
   "metadata": {},
   "outputs": [
    {
     "data": {
      "text/plain": [
       "[PosixPath('/home/alaa/Dropbox/BPHO Staff/USF/EM/testing/emrealworld_em_AG_D_sameas_preprint/05_hr.tif'),\n",
       " PosixPath('/home/alaa/Dropbox/BPHO Staff/USF/EM/testing/emrealworld_em_AG_D_sameas_preprint/05_lr_acquired.tif'),\n",
       " PosixPath('/home/alaa/Dropbox/BPHO Staff/USF/EM/testing/emrealworld_em_AG_D_sameas_preprint/05_pred_emrealworld_em_AG_D_sameas_preprint3.tif'),\n",
       " PosixPath('/home/alaa/Dropbox/BPHO Staff/USF/EM/testing/emrealworld_em_AG_D_sameas_preprint/42_hr.tif'),\n",
       " PosixPath('/home/alaa/Dropbox/BPHO Staff/USF/EM/testing/emrealworld_em_AG_D_sameas_preprint/42_lr_acquired.tif'),\n",
       " PosixPath('/home/alaa/Dropbox/BPHO Staff/USF/EM/testing/emrealworld_em_AG_D_sameas_preprint/42_pred_emrealworld_em_AG_D_sameas_preprint3.tif')]"
      ]
     },
     "execution_count": 6,
     "metadata": {},
     "output_type": "execute_result"
    }
   ],
   "source": [
    "img_files = sorted(list(data_pth.glob('*.tif')))\n",
    "img_files"
   ]
  },
  {
   "cell_type": "code",
   "execution_count": 7,
   "metadata": {},
   "outputs": [
    {
     "data": {
      "text/plain": [
       "[PosixPath('/home/alaa/Dropbox/BPHO Staff/USF/EM/testing/emrealworld_em_AG_D_sameas_preprint/05_pred_emrealworld_em_AG_D_sameas_preprint3.tif'),\n",
       " PosixPath('/home/alaa/Dropbox/BPHO Staff/USF/EM/testing/emrealworld_em_AG_D_sameas_preprint/42_pred_emrealworld_em_AG_D_sameas_preprint3.tif')]"
      ]
     },
     "execution_count": 7,
     "metadata": {},
     "output_type": "execute_result"
    }
   ],
   "source": [
    "preds = sorted([img_files[2], img_files[5]])\n",
    "targets = sorted([img_files[0], img_files[3]])\n",
    "inputs = sorted([img_files[1], img_files[4]])\n",
    "preds"
   ]
  },
  {
   "cell_type": "code",
   "execution_count": 30,
   "metadata": {},
   "outputs": [],
   "source": [
    "pred1 = PIL.Image.open(preds[0])\n",
    "targ1 = PIL.Image.open(targets[0])\n",
    "inp1 = PIL.Image.open(inputs[0])\n",
    "pred2 = PIL.Image.open(preds[1])\n",
    "targ2 = PIL.Image.open(targets[1])\n",
    "inp2 = PIL.Image.open(inputs[1])"
   ]
  },
  {
   "cell_type": "code",
   "execution_count": 31,
   "metadata": {},
   "outputs": [
    {
     "data": {
      "text/plain": [
       "(500, 500)"
      ]
     },
     "execution_count": 31,
     "metadata": {},
     "output_type": "execute_result"
    }
   ],
   "source": [
    "pred1_arr = np.array(pred1)\n",
    "targ1_arr = np.array(targ1)\n",
    "inp1_arr = np.array(inp1)\n",
    "pred2_arr = np.array(pred2)\n",
    "targ2_arr = np.array(targ2)\n",
    "inp2_arr = np.array(inp2)\n",
    "targ2_arr.shape"
   ]
  },
  {
   "cell_type": "code",
   "execution_count": 32,
   "metadata": {},
   "outputs": [
    {
     "data": {
      "text/plain": [
       "27.178023273248346"
      ]
     },
     "execution_count": 32,
     "metadata": {},
     "output_type": "execute_result"
    }
   ],
   "source": [
    "compare_psnr(targ1_arr, pred1_arr, data_range=255.)"
   ]
  },
  {
   "cell_type": "code",
   "execution_count": 33,
   "metadata": {},
   "outputs": [
    {
     "data": {
      "text/plain": [
       "0.5799516770354562"
      ]
     },
     "execution_count": 33,
     "metadata": {},
     "output_type": "execute_result"
    }
   ],
   "source": [
    "compare_ssim(targ1_arr, pred1_arr, data_range=255.)"
   ]
  },
  {
   "cell_type": "code",
   "execution_count": 34,
   "metadata": {},
   "outputs": [
    {
     "data": {
      "text/plain": [
       "27.384507801570003"
      ]
     },
     "execution_count": 34,
     "metadata": {},
     "output_type": "execute_result"
    }
   ],
   "source": [
    "compare_psnr(targ2_arr, pred2_arr, data_range=255.)"
   ]
  },
  {
   "cell_type": "code",
   "execution_count": 35,
   "metadata": {},
   "outputs": [
    {
     "data": {
      "text/plain": [
       "0.6107373728964813"
      ]
     },
     "execution_count": 35,
     "metadata": {},
     "output_type": "execute_result"
    }
   ],
   "source": [
    "compare_ssim(targ2_arr, pred2_arr, data_range=255.)"
   ]
  }
 ],
 "metadata": {
  "kernelspec": {
   "display_name": "Python (Salk)",
   "language": "python",
   "name": "salk"
  },
  "language_info": {
   "codemirror_mode": {
    "name": "ipython",
    "version": 3
   },
   "file_extension": ".py",
   "mimetype": "text/x-python",
   "name": "python",
   "nbconvert_exporter": "python",
   "pygments_lexer": "ipython3",
   "version": "3.7.3"
  }
 },
 "nbformat": 4,
 "nbformat_minor": 2
}
