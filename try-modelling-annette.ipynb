{
 "cells": [
  {
   "cell_type": "code",
   "execution_count": 6,
   "metadata": {},
   "outputs": [],
   "source": [
    "import fastai\n",
    "from fastai import *\n",
    "from fastai.vision import *\n",
    "from fastai.callbacks import *\n",
    "from fastai.script import *\n",
    "from skimage import filters\n",
    "from skimage.util import random_noise"
   ]
  },
  {
   "cell_type": "markdown",
   "metadata": {},
   "source": [
    "# loading data"
   ]
  },
  {
   "cell_type": "code",
   "execution_count": 7,
   "metadata": {},
   "outputs": [],
   "source": [
    "from data.load import get_data\n",
    "\n",
    "data_path = Path('/home/alaa/Dropbox (BPHO)/BPHO Staff/USF/')\n",
    "lr_path = f'EM/training/trainsets/crappified/'\n",
    "hr_path = f'EM/training/trainsets/hr/'\n",
    "\n",
    "bs = 8\n",
    "size = 128\n",
    "\n",
    "db = get_data(data_pth=data_path, lr_dir=lr_path, hr_dir=hr_path,\n",
    "             bs=bs, size=size)\n",
    "\n",
    "db.show_batch()"
   ]
  },
  {
   "cell_type": "code",
   "execution_count": null,
   "metadata": {},
   "outputs": [],
   "source": [
    "model_path = data_pth/f'EM/models/'"
   ]
  },
  {
   "cell_type": "code",
   "execution_count": null,
   "metadata": {},
   "outputs": [],
   "source": [
    "torch.cuda.set_device(3)"
   ]
  },
  {
   "cell_type": "markdown",
   "metadata": {},
   "source": [
    "# resnet.py"
   ]
  },
  {
   "cell_type": "code",
   "execution_count": null,
   "metadata": {},
   "outputs": [],
   "source": [
    "from functools import partial\n",
    "import fastai.vision.learner as fvl"
   ]
  },
  {
   "cell_type": "code",
   "execution_count": null,
   "metadata": {},
   "outputs": [],
   "source": [
    "act_fn = nn.ReLU(inplace=True)\n",
    "def init_cnn(m):\n",
    "    if getattr(m, 'bias', None) is not None: nn.init.constant_(m.bias, 0)\n",
    "    if isinstance(m, (nn.Conv2d,nn.Linear)): nn.init.kaiming_normal_(m.weight)\n",
    "    for l in m.children(): init_cnn(l)\n",
    "def conv(ni, nf, ks=3, stride=1, bias=False):\n",
    "    return nn.Conv2d(ni, nf, kernel_size=ks, stride=stride, padding=ks//2, bias=bias)\n",
    "\n",
    "def noop(x): return x\n",
    "\n",
    "def conv_layer(ni, nf, ks=3, stride=1, act=True):\n",
    "    layers = [nn.utils.weight_norm(conv(ni, nf, ks, stride=stride))]\n",
    "    if act: layers.append(act_fn)\n",
    "    return nn.Sequential(*layers)\n",
    "\n",
    "class ResBlock(nn.Module):\n",
    "    def __init__(self, expansion, ni, nh, stride=1):\n",
    "        super().__init__()\n",
    "        nf,ni = nh*expansion,ni*expansion\n",
    "        layers  = [conv_layer(ni, nh, 1)]\n",
    "        layers += [\n",
    "            conv_layer(nh, nf, 3, stride=stride,act=False)\n",
    "        ] if expansion==1 else [\n",
    "            conv_layer(nh, nh, 3, stride=stride),\n",
    "            conv_layer(nh, nf, 1, act=False)\n",
    "        ]\n",
    "        self.convs = nn.Sequential(*layers)\n",
    "        # TODO: check whether act=True works better\n",
    "        self.idconv = noop if ni==nf else conv_layer(ni, nf, 1, act=False)\n",
    "        self.pool = noop if stride==1 else nn.AvgPool2d(2, ceil_mode=True)\n",
    "\n",
    "    def forward(self, x): return act_fn(self.convs(x) + self.idconv(self.pool(x)))\n",
    "\n",
    "def filt_sz(recep): return min(64, 2**math.floor(math.log2(recep*0.75)))\n",
    "\n",
    "class WNResNet(nn.Sequential):\n",
    "    def __init__(self, expansion, layers, c_in=3, c_out=1000):\n",
    "        stem = []\n",
    "        sizes = [c_in,32,32,64]\n",
    "        for i in range(3):\n",
    "            stem.append(conv_layer(sizes[i], sizes[i+1], stride=2 if i==0 else 1))\n",
    "            #nf = filt_sz(c_in*9)\n",
    "            #stem.append(conv_layer(c_in, nf, stride=2 if i==1 else 1))\n",
    "            #c_in = nf\n",
    "\n",
    "        block_szs = [64//expansion,64,128,256,512]\n",
    "        blocks = [self._make_layer(expansion, block_szs[i], block_szs[i+1], l, 1 if i==0 else 2)\n",
    "                  for i,l in enumerate(layers)]\n",
    "        super().__init__(\n",
    "            *stem,\n",
    "            nn.MaxPool2d(kernel_size=3, stride=2, padding=1),\n",
    "            *blocks,\n",
    "            nn.AdaptiveAvgPool2d(1), Flatten(),\n",
    "            nn.Linear(block_szs[-1]*expansion, c_out),\n",
    "        )\n",
    "        init_cnn(self)\n",
    "\n",
    "    def _make_layer(self, expansion, ni, nf, blocks, stride):\n",
    "        return nn.Sequential(\n",
    "            *[ResBlock(expansion, ni if i==0 else nf, nf, stride if i==0 else 1)\n",
    "              for i in range(blocks)])\n",
    "\n",
    "def wnresnet(expansion, n_layers, name, pretrained=False, **kwargs):\n",
    "    model = WNResNet(expansion, n_layers, **kwargs)\n",
    "    return model\n",
    "\n",
    "def _wnresnet_split(m:nn.Module): return (m[0][6],m[1])\n",
    "_wnresnet_meta     = {'cut':-2, 'split':_wnresnet_split }"
   ]
  },
  {
   "cell_type": "code",
   "execution_count": null,
   "metadata": {},
   "outputs": [],
   "source": [
    "name = 'wnresnet34'\n",
    "# setattr(me, name, partial(wnresnet, expansion=e, n_layers=l, name=name))\n",
    "# arch = getattr(me, name)\n",
    "# fvl.model_meta[arch] = {**_wnresnet_meta}\n",
    "\n",
    "e, l = 1, [3,4,6 ,3]\n",
    "\n",
    "arch = partial(wnresnet, expansion=e, n_layers=l, name=name)\n",
    "fvl.model_meta[arch] = {**_wnresnet_meta}"
   ]
  },
  {
   "cell_type": "markdown",
   "metadata": {},
   "source": [
    "# unet.py"
   ]
  },
  {
   "cell_type": "code",
   "execution_count": null,
   "metadata": {},
   "outputs": [],
   "source": [
    "from fastai.vision.models.unet import DynamicUnet\n",
    "from fastai.vision.learner import cnn_config"
   ]
  },
  {
   "cell_type": "code",
   "execution_count": null,
   "metadata": {},
   "outputs": [],
   "source": [
    "class BilinearWrapper(nn.Module):\n",
    "    def __init__(self, model, scale=4, mode='bilinear'):\n",
    "        super().__init__()\n",
    "        self.model = model\n",
    "        self.scale = scale\n",
    "        self.mode = mode\n",
    "\n",
    "    def forward(self, x):\n",
    "        return self.model(F.interpolate(x, scale_factor=self.scale, mode=self.mode, align_corners=False))"
   ]
  },
  {
   "cell_type": "code",
   "execution_count": null,
   "metadata": {},
   "outputs": [],
   "source": [
    "def wnres_unet_model(in_c, out_c, arch, blur=True, blur_final=True, self_attention=True, last_cross=True, bottle=True, norm_type=NormType.Weight, **wnres_args):\n",
    "    meta = cnn_config(arch)\n",
    "    enc_model = arch(c_in=in_c)\n",
    "    cut = cnn_config(arch)['cut']\n",
    "    body = nn.Sequential(*list(enc_model.children())[:cut])\n",
    "\n",
    "    model = DynamicUnet(body,\n",
    "                        n_classes=out_c,\n",
    "                        blur=blur,\n",
    "                        blur_final=blur_final,\n",
    "                        self_attention=self_attention,\n",
    "                        norm_type=norm_type,\n",
    "                        last_cross=last_cross,\n",
    "                        bottle=bottle, **wnres_args)\n",
    "    return model, meta\n",
    "\n",
    "\n",
    "def wnres_unet_learner(data, arch, in_c=1, out_c=1, wnres_args=None, bilinear_upsample=True, **kwargs):\n",
    "    if wnres_args is None: wnres_args = {}\n",
    "    model, meta = wnres_unet_model(in_c, out_c, arch, **wnres_args)\n",
    "    learn = Learner(data, model, **kwargs)\n",
    "    learn.split(meta['split'])\n",
    "    apply_init(model[2], nn.init.kaiming_normal_)\n",
    "    if bilinear_upsample:\n",
    "        learn.model = BilinearWrapper(learn.model)\n",
    "    return learn"
   ]
  },
  {
   "cell_type": "markdown",
   "metadata": {},
   "source": [
    "# train.py"
   ]
  },
  {
   "cell_type": "code",
   "execution_count": null,
   "metadata": {},
   "outputs": [],
   "source": [
    "import torch.nn.functional as F\n",
    "loss = F.mse_loss \n",
    "from model.metrics import psnr, ssim\n",
    "metrics = [loss, psnr, ssim]"
   ]
  },
  {
   "cell_type": "code",
   "execution_count": null,
   "metadata": {},
   "outputs": [],
   "source": [
    "wnres_args = {\n",
    "            'blur': True,\n",
    "            'blur_final': True,\n",
    "            'bottle': True,\n",
    "            'self_attention': True,\n",
    "            'last_cross': True\n",
    "        }\n",
    "wd = 1e-3"
   ]
  },
  {
   "cell_type": "code",
   "execution_count": null,
   "metadata": {},
   "outputs": [],
   "source": [
    "model_dir = './model/test'"
   ]
  },
  {
   "cell_type": "code",
   "execution_count": null,
   "metadata": {},
   "outputs": [],
   "source": [
    "callback_fns = []\n",
    "save_name = 'combo'\n",
    "size = 256\n",
    "callback_fns.append(partial(SaveModelCallback, name=f'{save_name}_best_{size}'))"
   ]
  },
  {
   "cell_type": "code",
   "execution_count": null,
   "metadata": {},
   "outputs": [],
   "source": [
    "learn = wnres_unet_learner(db, arch, wnres_args=wnres_args,\n",
    "                                       path=Path('.'), loss_func=loss, metrics=metrics,\n",
    "                                       model_dir=model_dir, callback_fns=callback_fns, wd=wd)"
   ]
  },
  {
   "cell_type": "code",
   "execution_count": null,
   "metadata": {},
   "outputs": [],
   "source": [
    "lr = slice(None, 1e-4, None)"
   ]
  },
  {
   "cell_type": "code",
   "execution_count": null,
   "metadata": {},
   "outputs": [],
   "source": [
    "learn.fit_one_cycle(1, lr)"
   ]
  },
  {
   "cell_type": "code",
   "execution_count": null,
   "metadata": {},
   "outputs": [],
   "source": [
    "learn.show_results()"
   ]
  },
  {
   "cell_type": "code",
   "execution_count": null,
   "metadata": {},
   "outputs": [],
   "source": [
    "learn.save('')"
   ]
  }
 ],
 "metadata": {
  "kernelspec": {
   "display_name": "Python (Salk)",
   "language": "python",
   "name": "salk"
  },
  "language_info": {
   "codemirror_mode": {
    "name": "ipython",
    "version": 3
   },
   "file_extension": ".py",
   "mimetype": "text/x-python",
   "name": "python",
   "nbconvert_exporter": "python",
   "pygments_lexer": "ipython3",
   "version": "3.7.3"
  }
 },
 "nbformat": 4,
 "nbformat_minor": 2
}
