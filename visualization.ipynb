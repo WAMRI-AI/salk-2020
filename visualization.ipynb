{
 "cells": [
  {
   "cell_type": "code",
   "execution_count": 1,
   "metadata": {},
   "outputs": [],
   "source": [
    "# Notebook Parameters"
   ]
  },
  {
   "cell_type": "code",
   "execution_count": 6,
   "metadata": {},
   "outputs": [],
   "source": [
    "# data path\n",
    "dp = \"~/Dropbox/Salk/BPHO/EM/\"\n",
    "# weights path\n",
    "wp = f'{dp}models'\n",
    "# crappifier weights\n",
    "cwp = f'{dp}crappifier'\n"
   ]
  },
  {
   "cell_type": "code",
   "execution_count": 8,
   "metadata": {},
   "outputs": [
    {
     "name": "stdout",
     "output_type": "stream",
     "text": [
      "~/Dropbox/Salk/BPHO/EM/\n",
      "~/Dropbox/Salk/BPHO/EM/models\n",
      "~/Dropbox/Salk/BPHO/EM/crappifier\n"
     ]
    }
   ],
   "source": [
    "# Tests\n",
    "print(dp)\n",
    "print(wp)\n",
    "print(cwp)"
   ]
  },
  {
   "cell_type": "code",
   "execution_count": null,
   "metadata": {},
   "outputs": [],
   "source": [
    "# create data bunch (batch_size, transformations...)\n",
    "db = databunch(dp)"
   ]
  },
  {
   "cell_type": "code",
   "execution_count": null,
   "metadata": {},
   "outputs": [],
   "source": [
    "# visualizer using widget to scroll through samples inside a given batch\n",
    "@interact\n",
    "def show_sample(sample_num=19):\n",
    "    return visualize_sample(x_batch[sample_num], \n",
    "                            y_batch[sample_num])"
   ]
  },
  {
   "cell_type": "code",
   "execution_count": null,
   "metadata": {},
   "outputs": [],
   "source": [
    "# load model architecture\n",
    "m = model.arch"
   ]
  },
  {
   "cell_type": "code",
   "execution_count": null,
   "metadata": {},
   "outputs": [],
   "source": [
    "# Tests\n",
    "m.summary()"
   ]
  },
  {
   "cell_type": "code",
   "execution_count": null,
   "metadata": {},
   "outputs": [],
   "source": [
    "# load model weights [OPTIONAL]\n",
    "m.load(wp)"
   ]
  },
  {
   "cell_type": "code",
   "execution_count": null,
   "metadata": {},
   "outputs": [],
   "source": [
    "# Tests [ONLY PRETRAINED MODELS]\n",
    "# grab random sample \n",
    "ts = TestData().load()\n",
    "# predict on input using model\n",
    "pred = m(ts.input)\n",
    "# Compare prediction with ground truth (should look same)\n",
    "visualize_sample(ts.output, pred)"
   ]
  },
  {
   "cell_type": "code",
   "execution_count": null,
   "metadata": {},
   "outputs": [],
   "source": []
  }
 ],
 "metadata": {
  "kernelspec": {
   "display_name": "Python (Salk)",
   "language": "python",
   "name": "salk"
  },
  "language_info": {
   "codemirror_mode": {
    "name": "ipython",
    "version": 3
   },
   "file_extension": ".py",
   "mimetype": "text/x-python",
   "name": "python",
   "nbconvert_exporter": "python",
   "pygments_lexer": "ipython3",
   "version": "3.7.3"
  }
 },
 "nbformat": 4,
 "nbformat_minor": 2
}
